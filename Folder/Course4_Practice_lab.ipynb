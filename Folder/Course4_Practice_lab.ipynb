{
 "cells": [
  {
   "cell_type": "markdown",
   "metadata": {},
   "source": [
    "<p style=\"text-align:center\">\n",
    "    <a href=\"https://skills.network/?utm_medium=Exinfluencer&utm_source=Exinfluencer&utm_content=000026UJ&utm_term=10006555&utm_id=NA-SkillsNetwork-Channel-SkillsNetworkCoursesIBMDeveloperSkillsNetworkPY0101ENSkillsNetwork1005-2023-01-01\">\n",
    "    <img src=\"https://cf-courses-data.s3.us.cloud-object-storage.appdomain.cloud/assets/logos/SN_web_lightmode.png\" width=\"200\" alt=\"Skills Network Logo\"  />\n",
    "    </a>\n",
    "</p>\n"
   ]
  },
  {
   "cell_type": "markdown",
   "metadata": {},
   "source": [
    "<center>\n",
    "\n",
    "# Practice lab\n",
    "\n",
    "</center>\n"
   ]
  },
  {
   "cell_type": "markdown",
   "metadata": {},
   "source": [
    "<center>\n",
    "    \n",
    "# **Scenario: Text Analysis**\n",
    "\n",
    "</center>\n"
   ]
  },
  {
   "cell_type": "markdown",
   "metadata": {},
   "source": [
    "Estimated time needed: **45** minutes\n"
   ]
  },
  {
   "cell_type": "markdown",
   "metadata": {},
   "source": [
    "# What is Text analysis?\n",
    "Text analysis, also known as text mining or text analytics, refers to the process of extracting meaningful information and insights from textual data.\n"
   ]
  },
  {
   "cell_type": "markdown",
   "metadata": {},
   "source": [
    "## Objectives\n",
    " \n",
    "After completing this lab, you will be able to use Python commands to perform text analysis. This includes converting the text to lowercase and then finding and counting the frequency of all unique words, as well as a specified word.\n"
   ]
  },
  {
   "cell_type": "markdown",
   "metadata": {},
   "source": [
    "## Setup\n"
   ]
  },
  {
   "cell_type": "markdown",
   "metadata": {},
   "source": [
    "For this lab, we will be using the following data types:\n",
    "* List\n",
    "* Strings\n",
    "* Classes and objects\n"
   ]
  },
  {
   "cell_type": "markdown",
   "metadata": {},
   "source": [
    "# Let's consider a real-life scenario where you are analyzing customer feedback for a product. You have a large dataset of customer reviews in the form of strings, and you want to extract useful information from them using the three identified tasks:\n",
    "\n",
    "**Task 1. String in lower case:**\n",
    "You want to Pre-process the customer feedback by converting all the text to lowercase. This step helps standardize the text. Lower casing the text allows you to focus on the content rather than the specific letter casing.\n",
    "\n",
    "**Task 2. Frequency of all words in a given string:**\n",
    "After converting the text to lowercase, you want to determine the frequency of each word in the customer feedback. This information will help you identify which words are used more frequently, indicating the key aspects or topics that customers are mentioning in their reviews. By analyzing the word frequencies, you can gain insights into the most common issues raised by customers.\n",
    "\n",
    "**Task 3. Frequency of a specific word:**\n",
    "In addition to analyzing the overall word frequencies, you want to specifically track the frequency of a particular word that is relevant to your analysis. For example, you might be interested in monitoring how often the word \"reliable\" appears in the customer reviews to gauge customer sentiment about the product's reliability. By focusing on the frequency of a specific word, you can gain a deeper understanding of customer opinions or preferences related to that particular aspect.\n",
    "\n",
    "By performing these tasks on the customer feedback dataset, you can gain valuable insights into customer sentiment\n"
   ]
  },
  {
   "cell_type": "markdown",
   "metadata": {},
   "source": [
    "----\n"
   ]
  },
  {
   "cell_type": "markdown",
   "metadata": {},
   "source": [
    "<center>\n",
    "    \n",
    "# Part-A\n"
   ]
  },
  {
   "cell_type": "markdown",
   "metadata": {},
   "source": [
    "<center>\n",
    "    \n",
    "**Note:- In Part-A, you won't be getting any output as we are just storing the string and creating a class.**\n",
    "    </center>\n"
   ]
  },
  {
   "cell_type": "markdown",
   "metadata": {},
   "source": [
    "## Step-1 Define a string in a `givenstring` variable. \n",
    "\"Lorem ipsum dolor! diam amet, consetetur Lorem magna. sed diam nonumy eirmod tempor. diam et labore? et diam magna. et diam amet.\" <br>\n",
    "**Hint:- Use a variable and store the above string.**\n"
   ]
  },
  {
   "cell_type": "code",
   "execution_count": 1,
   "metadata": {
    "tags": []
   },
   "outputs": [],
   "source": [
    "#type your code here\n",
    "givenstring = \"Lorem ipsum dolor! diam amet, consetetur Lorem magna. sed diam nonumy eirmod tempor. diam et labore? et diam magna. et diam amet.\""
   ]
  },
  {
   "cell_type": "markdown",
   "metadata": {},
   "source": [
    "<details><summary>Click here for the solution</summary>\n",
    "\n",
    "```python\n",
    "givenstring=\"Lorem ipsum dolor! diam amet, consetetur Lorem magna. sed diam nonumy eirmod tempor. diam et labore? et diam magna. et diam amet.\"\n",
    "        \n",
    "            \n",
    "```\n",
    "\n",
    "</details>\n"
   ]
  },
  {
   "cell_type": "markdown",
   "metadata": {},
   "source": [
    "### For achieving the above 3 task, We need to create a class with 3 different methods.\n"
   ]
  },
  {
   "cell_type": "markdown",
   "metadata": {},
   "source": [
    "##### Follow the instruction given in each Steps and create a class with different methods.\n"
   ]
  },
  {
   "cell_type": "markdown",
   "metadata": {},
   "source": [
    "## Step-2 Define the class and its attributes:\n"
   ]
  },
  {
   "cell_type": "markdown",
   "metadata": {},
   "source": [
    "1. Create a class named TextAnalyzer.\n",
    "2. Define the constructor `__init__` method that takes a text argument.\n"
   ]
  },
  {
   "cell_type": "code",
   "execution_count": 7,
   "metadata": {
    "tags": []
   },
   "outputs": [],
   "source": [
    "# type your code here\n",
    "class TextAnalyzer(object):\n",
    "    def __init__(self, text):\n",
    "        formatted_text= text.replace(\".\", '').replace(\"!\", '').replace(\"?\",'').replace(\",\",'')\n",
    "        formatted_text= formatted_text.lower()\n",
    "        self.frmt_text- formatted_text"
   ]
  },
  {
   "cell_type": "markdown",
   "metadata": {},
   "source": [
    "<details><summary>Click here for the solution</summary>\n",
    "\n",
    "```python\n",
    "class TextAnalyzer(object):\n",
    "    def __init__(self, text):\n",
    "        \n",
    "            \n",
    "```\n",
    "\n",
    "</details>\n"
   ]
  },
  {
   "cell_type": "markdown",
   "metadata": {},
   "source": [
    "----\n"
   ]
  },
  {
   "cell_type": "markdown",
   "metadata": {},
   "source": [
    "## Step-3 Implement a code to Format the text in Lowercase:\n"
   ]
  },
  {
   "cell_type": "markdown",
   "metadata": {},
   "source": [
    "1. Inside the constructor, convert the text argument to lowercase using the `lower()` method.\n",
    "2. Remove punctuation marks (periods, exclamation marks, commas, and question marks) from the text using the `replace()` method.\n",
    "3. Assign the formatted text to a new attribute called fmtText.\n",
    "\n",
    "**Update the above `TextAnalyzer` class with points mentioned above.**\n"
   ]
  },
  {
   "cell_type": "code",
   "execution_count": 8,
   "metadata": {
    "tags": []
   },
   "outputs": [],
   "source": [
    "# Type your code here \n",
    "class TextAnalyzer(object):\n",
    "    def __init__(self, text):\n",
    "        formatted_text= text.replace(\".\", '').replace(\"!\", '').replace(\"?\",'').replace(\",\",'')\n",
    "        formatted_text= formatted_text.lower()\n",
    "        self.frmt_text=formatted_text"
   ]
  },
  {
   "cell_type": "markdown",
   "metadata": {},
   "source": [
    "<details><summary>Click here for the solution</summary>\n",
    "\n",
    "```python\n",
    "class TextAnalzer(object):\n",
    "    \n",
    "    def __init__ (self, text):\n",
    "        # remove punctuation\n",
    "        formattedText = text.replace('.','').replace('!','').replace('?','').replace(',','')\n",
    "        \n",
    "        # make text lowercase\n",
    "        formattedText = formattedText.lower()\n",
    "        \n",
    "        self.fmtText = formattedText\n",
    "        \n",
    "            \n",
    "```\n",
    "\n",
    "</details>\n"
   ]
  },
  {
   "cell_type": "markdown",
   "metadata": {},
   "source": [
    "----\n"
   ]
  },
  {
   "cell_type": "markdown",
   "metadata": {},
   "source": [
    "## Step-4 Implement a code to count the Frequency of all unique words:\n"
   ]
  },
  {
   "cell_type": "markdown",
   "metadata": {},
   "source": [
    "* Implement the `freqAll()` method:\n",
    "     1. Split the fmtText attribute into individual words using the `split()` method.\n",
    "     2. Create an empty dictionary to store the word frequency.\n",
    "     3. Iterate over the list of words and update the frequency dictionary accordingly.\n",
    "     4. use `count` method for counting the occurence\n",
    "     5. Return the frequency dictionary.\n",
    "     \n",
    "**Update the above `TextAnalyzer` class with points mentioned above.**\n"
   ]
  },
  {
   "cell_type": "code",
   "execution_count": 12,
   "metadata": {
    "tags": []
   },
   "outputs": [],
   "source": [
    "# type your code here\n",
    "class TextAnalyzer(object):\n",
    "    def __init__(self, text):\n",
    "        formatted_text= text.replace(\".\", '').replace(\"!\", '').replace(\"?\",'').replace(\",\",'')\n",
    "        formatted_text= formatted_text.lower()\n",
    "        self.frmt_text= formatted_text\n",
    "    def freqAll(self):\n",
    "        word_list=self.frmt_text.split(' ')\n",
    "        freq_dict= {}\n",
    "        for word in set (world_list):\n",
    "            freq_dict[word]= word_list.count(word)\n",
    "        return freq_dict"
   ]
  },
  {
   "cell_type": "markdown",
   "metadata": {},
   "source": [
    "<details><summary>Click here for the solution</summary>\n",
    "\n",
    "```python\n",
    "class TextAnalyzer(object):\n",
    "    \n",
    "    def __init__ (self, text):\n",
    "        # remove punctuation\n",
    "        formattedText = text.replace('.','').replace('!','').replace('?','').replace(',','')\n",
    "        \n",
    "        # make text lowercase\n",
    "        formattedText = formattedText.lower()\n",
    "        \n",
    "        self.fmtText = formattedText\n",
    "        \n",
    "    def freqAll(self):        \n",
    "        # split text into words\n",
    "        wordList = self.fmtText.split(' ')\n",
    "        \n",
    "        # Create dictionary\n",
    "        freqMap = {}\n",
    "        for word in set(wordList): # use set to remove duplicates in list\n",
    "            freqMap[word] = wordList.count(word)\n",
    "        \n",
    "        return freqMap\n",
    "    \n",
    "            \n",
    "```\n",
    "\n",
    "</details>\n"
   ]
  },
  {
   "cell_type": "markdown",
   "metadata": {},
   "source": [
    "----\n"
   ]
  },
  {
   "cell_type": "markdown",
   "metadata": {},
   "source": [
    "## Step-5 Implement a code to count the Frequency of a specific word:\n"
   ]
  },
  {
   "cell_type": "markdown",
   "metadata": {},
   "source": [
    "* Implement the `freqOf(word)` method that takes a word argument:\n",
    "   1. create method and pass the word that need to be found\n",
    "   2. get the `freqAll` method for look for count and check if that word is in the list.\n",
    "   3. Return the count.\n",
    "   \n",
    "**Update the above `TextAnalyzer` class with points mentioned above.**\n"
   ]
  },
  {
   "cell_type": "code",
   "execution_count": 22,
   "metadata": {
    "tags": []
   },
   "outputs": [],
   "source": [
    "# type your code here \n",
    "class TextAnalyzer(object):\n",
    "    def __init__(self, text):\n",
    "        formatted_text= text.replace(\".\", '').replace(\"!\", '').replace(\"?\",'').replace(\",\",'')\n",
    "        formatted_text= formatted_text.lower()\n",
    "        self.frmt_text= formatted_text\n",
    "    def freqAll(self):\n",
    "        word_list=self.frmt_text.split(' ')\n",
    "        freq_dict= {}\n",
    "        for word in set (word_list):\n",
    "            freq_dict[word]= word_list.count(word)\n",
    "        return freq_dict\n",
    "    def freqOf(self,word):\n",
    "        freq_dict=self.freqAll()\n",
    "        if word in freq_dict:\n",
    "            return freq_dict[word]\n",
    "        else:\n",
    "            return 0 \n"
   ]
  },
  {
   "cell_type": "markdown",
   "metadata": {},
   "source": [
    "<details><summary>Click here for the solution</summary>\n",
    "\n",
    "```python\n",
    "class TextAnalyzer(object):\n",
    "    \n",
    "    def __init__ (self, text):\n",
    "        # remove punctuation\n",
    "        formattedText = text.replace('.','').replace('!','').replace('?','').replace(',','')\n",
    "        \n",
    "        # make text lowercase\n",
    "        formattedText = formattedText.lower()\n",
    "        \n",
    "        self.fmtText = formattedText\n",
    "        \n",
    "    def freqAll(self):        \n",
    "        # split text into words\n",
    "        wordList = self.fmtText.split(' ')\n",
    "        \n",
    "        # Create dictionary\n",
    "        freqMap = {}\n",
    "        for word in set(wordList): # use set to remove duplicates in list\n",
    "            freqMap[word] = wordList.count(word)\n",
    "        \n",
    "        return freqMap\n",
    "    \n",
    "    def freqOf(self,word):\n",
    "        # get frequency map\n",
    "        freqDict = self.freqAll()\n",
    "        \n",
    "        if word in freqDict:\n",
    "            return freqDict[word]\n",
    "        else:\n",
    "            return 0\n",
    "    \n",
    "            \n",
    "```\n",
    "\n",
    "</details>\n"
   ]
  },
  {
   "cell_type": "markdown",
   "metadata": {},
   "source": [
    "### Now, We have successfully created a class with 3 methods\n"
   ]
  },
  {
   "cell_type": "markdown",
   "metadata": {},
   "source": [
    "<center>\n",
    "    \n",
    "# Part-B \n",
    "  \n"
   ]
  },
  {
   "cell_type": "markdown",
   "metadata": {},
   "source": [
    "<center>\n",
    "    \n",
    "**In Part-B, you will be getting the output by running the code cell. To execute the code and see the output, please press `Shift+Enter` in the code cell**\n",
    "    </center>\n"
   ]
  },
  {
   "cell_type": "markdown",
   "metadata": {},
   "source": [
    "## Step-1 Create an instance of TextAnalyzer Class.\n",
    "* Instantiate the TextAnalyzer class by passing the string as an argument.\n"
   ]
  },
  {
   "cell_type": "code",
   "execution_count": 23,
   "metadata": {
    "tags": []
   },
   "outputs": [],
   "source": [
    "# type your code here\n",
    "analyzed= TextAnalyzer(givenstring)"
   ]
  },
  {
   "cell_type": "markdown",
   "metadata": {},
   "source": [
    "<details><summary>Click here for the solution</summary>\n",
    "\n",
    "```python\n",
    "analyzed = TextAnalyzer(givenstring)\n",
    "```\n",
    "\n",
    "</details>\n"
   ]
  },
  {
   "cell_type": "markdown",
   "metadata": {},
   "source": [
    "## Step-2  Call the function that converts the data into lowercase\n"
   ]
  },
  {
   "cell_type": "markdown",
   "metadata": {},
   "source": [
    "* Observe the output to determine if the data has been successfully converted into lowercase.\n"
   ]
  },
  {
   "cell_type": "code",
   "execution_count": 24,
   "metadata": {
    "tags": []
   },
   "outputs": [
    {
     "name": "stdout",
     "output_type": "stream",
     "text": [
      "Formatted Text: lorem ipsum dolor diam amet consetetur lorem magna sed diam nonumy eirmod tempor diam et labore et diam magna et diam amet\n"
     ]
    }
   ],
   "source": [
    "# type your code here\n",
    "print(\"Formatted Text:\", analyzed.frmt_text)"
   ]
  },
  {
   "cell_type": "markdown",
   "metadata": {},
   "source": [
    "<details><summary>Click here for the solution</summary>\n",
    "\n",
    "```python\n",
    "print(\"Formatted Text:\", analyzed.fmtText)\n",
    "```\n",
    "\n",
    "</details>\n"
   ]
  },
  {
   "cell_type": "markdown",
   "metadata": {},
   "source": [
    "## Step-3 Call the function that counts the frequency of all unique words from the data.\n"
   ]
  },
  {
   "cell_type": "markdown",
   "metadata": {},
   "source": [
    "* observe the output and check if the frequency of all words is correctly calculated\n"
   ]
  },
  {
   "cell_type": "code",
   "execution_count": 25,
   "metadata": {
    "tags": []
   },
   "outputs": [
    {
     "name": "stdout",
     "output_type": "stream",
     "text": [
      "{'eirmod': 1, 'lorem': 2, 'sed': 1, 'nonumy': 1, 'diam': 5, 'et': 3, 'amet': 2, 'dolor': 1, 'labore': 1, 'ipsum': 1, 'tempor': 1, 'consetetur': 1, 'magna': 2}\n"
     ]
    }
   ],
   "source": [
    "# type your code here\n",
    "freq_dict= analyzed.freqAll()\n",
    "print(freq_dict)\n"
   ]
  },
  {
   "cell_type": "markdown",
   "metadata": {},
   "source": [
    "<details><summary>Click here for the solution</summary>\n",
    "\n",
    "```python\n",
    "freqMap = analyzed.freqAll()\n",
    "print(freqMap)\n",
    "```\n",
    "\n",
    "</details>\n"
   ]
  },
  {
   "cell_type": "markdown",
   "metadata": {},
   "source": [
    "## Step-4 Call the function that counts the frequency of specific word.\n",
    "Find the frequency of the following words:-\n",
    "1. \"lorem\"    \n",
    "2. \"diam\"   \n",
    "3. \"et\"    \n",
    "<br>\n",
    "\n",
    "print the output using **f-string(formatting string)**\n"
   ]
  },
  {
   "cell_type": "code",
   "execution_count": null,
   "metadata": {},
   "outputs": [],
   "source": []
  },
  {
   "cell_type": "code",
   "execution_count": 30,
   "metadata": {
    "tags": []
   },
   "outputs": [
    {
     "name": "stdout",
     "output_type": "stream",
     "text": [
      "The word 'lorem' appeard 2 times.\n"
     ]
    }
   ],
   "source": [
    "# type your code here\n",
    "word = \"lorem\"\n",
    "frequency = analyzed.freqOf(word)\n",
    "print(f\"The word '{word}' appeard {frequency} times.\")"
   ]
  },
  {
   "cell_type": "code",
   "execution_count": 31,
   "metadata": {
    "tags": []
   },
   "outputs": [
    {
     "name": "stdout",
     "output_type": "stream",
     "text": [
      "The word 'diam' appeard 5 times.\n"
     ]
    }
   ],
   "source": [
    "word = \"diam\"\n",
    "frequency = analyzed.freqOf(word)\n",
    "print(f\"The word '{word}' appeard {frequency} times.\")"
   ]
  },
  {
   "cell_type": "code",
   "execution_count": 32,
   "metadata": {
    "tags": []
   },
   "outputs": [
    {
     "name": "stdout",
     "output_type": "stream",
     "text": [
      "The word 'et' appeard 3 times.\n"
     ]
    }
   ],
   "source": [
    "word = \"et\"\n",
    "frequency = analyzed.freqOf(word)\n",
    "print(f\"The word '{word}' appeard {frequency} times.\")"
   ]
  },
  {
   "cell_type": "markdown",
   "metadata": {},
   "source": [
    "<details><summary>Click here for the solution</summary>\n",
    "\n",
    "```python\n",
    "word = \"lorem\"\n",
    "frequency = analyzed.freqOf(word)\n",
    "print(f\"The word '{word}' appears {frequency} times.\")\n",
    "```\n",
    "\n",
    "</details>\n"
   ]
  },
  {
   "cell_type": "markdown",
   "metadata": {},
   "source": [
    "<details><summary>Click here for the solution</summary>\n",
    "\n",
    "```python\n",
    "word = \"diam\"\n",
    "frequency = analyzed.freqOf(word)\n",
    "print(f\"The word '{word}' appears {frequency} times.\")\n",
    "```\n",
    "\n",
    "</details>\n"
   ]
  },
  {
   "cell_type": "markdown",
   "metadata": {},
   "source": [
    "<details><summary>Click here for the solution</summary>\n",
    "\n",
    "```python\n",
    "word = \"et\"\n",
    "frequency = analyzed.freqOf(word)\n",
    "print(f\"The word '{word}' appears {frequency} times.\")\n",
    "```\n",
    "\n",
    "</details>\n"
   ]
  },
  {
   "cell_type": "markdown",
   "metadata": {},
   "source": [
    "----\n"
   ]
  },
  {
   "cell_type": "markdown",
   "metadata": {},
   "source": [
    "## Authors\n"
   ]
  },
  {
   "cell_type": "markdown",
   "metadata": {},
   "source": [
    "Author1 <br>\n",
    "**Akansha yadav**\n"
   ]
  },
  {
   "cell_type": "markdown",
   "metadata": {},
   "source": [
    "### Other Contributors\n"
   ]
  },
  {
   "cell_type": "markdown",
   "metadata": {},
   "source": [
    "[Contributor with Link](contributor_linl), Contributor No Link\n"
   ]
  },
  {
   "cell_type": "markdown",
   "metadata": {},
   "source": [
    "## Change Log\n"
   ]
  },
  {
   "cell_type": "markdown",
   "metadata": {},
   "source": [
    "|Date (YYYY-MM-DD)|Version|Changed By|Change Description|\n",
    "|-|-|-|-|\n",
    "|2023-05-17|0.3|Akansha yadav| Created lab under maintenance|\n",
    "|2020-07-17|0.1|Sam     |Create Lab Template|\n",
    "|2022-11-19|0.2|Shengkai|Update Lab Template|\n"
   ]
  },
  {
   "cell_type": "markdown",
   "metadata": {},
   "source": [
    "Copyright © 2022 IBM Corporation. All rights reserved.\n"
   ]
  }
 ],
 "metadata": {
  "kernelspec": {
   "display_name": "Python",
   "language": "python",
   "name": "conda-env-python-py"
  },
  "language_info": {
   "codemirror_mode": {
    "name": "ipython",
    "version": 3
   },
   "file_extension": ".py",
   "mimetype": "text/x-python",
   "name": "python",
   "nbconvert_exporter": "python",
   "pygments_lexer": "ipython3",
   "version": "3.7.12"
  }
 },
 "nbformat": 4,
 "nbformat_minor": 4
}
