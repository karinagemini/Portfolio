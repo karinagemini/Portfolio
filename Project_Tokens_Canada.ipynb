{
 "cells": [
  {
   "cell_type": "markdown",
   "id": "5abc2516",
   "metadata": {},
   "source": [
    "# Task 4.1 - Process Tokens"
   ]
  },
  {
   "cell_type": "markdown",
   "id": "a787b81c",
   "metadata": {},
   "source": [
    "### Steps\n",
    "\n",
    "0. Preliminary Steps: Construct & Import Corpus\n",
    "1. Process Tokens\n",
    "2. Keyword Analysis\n",
    "3. Latent Topic Analysis"
   ]
  },
  {
   "cell_type": "markdown",
   "id": "4620f1c5",
   "metadata": {},
   "source": [
    "# 0. Construct Corpus"
   ]
  },
  {
   "cell_type": "code",
   "execution_count": 1,
   "id": "ed080e36",
   "metadata": {},
   "outputs": [
    {
     "name": "stdout",
     "output_type": "stream",
     "text": [
      "Note: you may need to restart the kernel to use updated packages.\n"
     ]
    },
    {
     "name": "stderr",
     "output_type": "stream",
     "text": [
      "WARNING: Retrying (Retry(total=4, connect=None, read=None, redirect=None, status=None)) after connection broken by 'NewConnectionError('<pip._vendor.urllib3.connection.HTTPSConnection object at 0x000002583E3F3250>: Failed to establish a new connection: [Errno 11001] getaddrinfo failed')': /simple/os/\n",
      "WARNING: Retrying (Retry(total=3, connect=None, read=None, redirect=None, status=None)) after connection broken by 'NewConnectionError('<pip._vendor.urllib3.connection.HTTPSConnection object at 0x000002583E3F3580>: Failed to establish a new connection: [Errno 11001] getaddrinfo failed')': /simple/os/\n",
      "WARNING: Retrying (Retry(total=2, connect=None, read=None, redirect=None, status=None)) after connection broken by 'NewConnectionError('<pip._vendor.urllib3.connection.HTTPSConnection object at 0x000002583E3F3880>: Failed to establish a new connection: [Errno 11001] getaddrinfo failed')': /simple/os/\n",
      "WARNING: Retrying (Retry(total=1, connect=None, read=None, redirect=None, status=None)) after connection broken by 'NewConnectionError('<pip._vendor.urllib3.connection.HTTPSConnection object at 0x000002583E3F3A30>: Failed to establish a new connection: [Errno 11001] getaddrinfo failed')': /simple/os/\n",
      "WARNING: Retrying (Retry(total=0, connect=None, read=None, redirect=None, status=None)) after connection broken by 'NewConnectionError('<pip._vendor.urllib3.connection.HTTPSConnection object at 0x000002583E3F3BE0>: Failed to establish a new connection: [Errno 11001] getaddrinfo failed')': /simple/os/\n",
      "ERROR: Could not find a version that satisfies the requirement os (from versions: none)\n",
      "ERROR: No matching distribution found for os\n"
     ]
    }
   ],
   "source": [
    "pip install os\n"
   ]
  },
  {
   "cell_type": "code",
   "execution_count": null,
   "id": "6e793b47",
   "metadata": {},
   "outputs": [],
   "source": []
  },
  {
   "cell_type": "markdown",
   "id": "83cfed3d",
   "metadata": {},
   "source": [
    "# 0. Import Corpus"
   ]
  },
  {
   "cell_type": "code",
   "execution_count": 1,
   "id": "f1c8c700",
   "metadata": {},
   "outputs": [],
   "source": [
    "import pandas as pd\n",
    "import os #Operating System"
   ]
  },
  {
   "cell_type": "code",
   "execution_count": 2,
   "id": "e21ed104",
   "metadata": {},
   "outputs": [],
   "source": [
    "# corpus path\n",
    "Canada_path = \"C:/Users/Карина/OneDrive/Документы/4 th year/Computational Social Science/Canada_Text/\""
   ]
  },
  {
   "cell_type": "code",
   "execution_count": 3,
   "id": "304370ba",
   "metadata": {},
   "outputs": [],
   "source": [
    "# corpus index file name\n",
    "Canada_Linkedin_filename = \"C:/Users/Карина/OneDrive/Документы/4 th year/Computational Social Science/Canada_JobPostings.xlsx\""
   ]
  },
  {
   "cell_type": "code",
   "execution_count": 4,
   "id": "e72233cd",
   "metadata": {},
   "outputs": [
    {
     "data": {
      "text/plain": [
       "(50, 8)"
      ]
     },
     "execution_count": 4,
     "metadata": {},
     "output_type": "execute_result"
    }
   ],
   "source": [
    "# import corpus index\n",
    "Canada_JobPostings = pd.read_excel(Canada_Linkedin_filename, header=0)\n",
    "Canada_JobPostings.shape"
   ]
  },
  {
   "cell_type": "code",
   "execution_count": 5,
   "id": "81fef585",
   "metadata": {},
   "outputs": [
    {
     "data": {
      "text/html": [
       "<div>\n",
       "<style scoped>\n",
       "    .dataframe tbody tr th:only-of-type {\n",
       "        vertical-align: middle;\n",
       "    }\n",
       "\n",
       "    .dataframe tbody tr th {\n",
       "        vertical-align: top;\n",
       "    }\n",
       "\n",
       "    .dataframe thead th {\n",
       "        text-align: right;\n",
       "    }\n",
       "</style>\n",
       "<table border=\"1\" class=\"dataframe\">\n",
       "  <thead>\n",
       "    <tr style=\"text-align: right;\">\n",
       "      <th></th>\n",
       "      <th>ID</th>\n",
       "      <th>Country</th>\n",
       "      <th>URL</th>\n",
       "      <th>Organization</th>\n",
       "      <th>Position</th>\n",
       "      <th>Job Description</th>\n",
       "      <th>Responsibilities</th>\n",
       "      <th>Job Requirements</th>\n",
       "    </tr>\n",
       "  </thead>\n",
       "  <tbody>\n",
       "    <tr>\n",
       "      <th>0</th>\n",
       "      <td>1</td>\n",
       "      <td>Canada</td>\n",
       "      <td>https://www.linkedin.com/jobs/search/?currentJ...</td>\n",
       "      <td>Trapeze Group</td>\n",
       "      <td>Cloud Solution &amp; Security Engineer</td>\n",
       "      <td>As a Cloud Solution &amp; Security Engineer for ou...</td>\n",
       "      <td>Automate the delivery of Azure hosted client e...</td>\n",
       "      <td>3+ years of specific experience in an Azure De...</td>\n",
       "    </tr>\n",
       "    <tr>\n",
       "      <th>1</th>\n",
       "      <td>2</td>\n",
       "      <td>Canada</td>\n",
       "      <td>https://www.linkedin.com/jobs/search/?currentJ...</td>\n",
       "      <td>Kabam</td>\n",
       "      <td>Principal Infrastructure Engineer</td>\n",
       "      <td>As a key leader of Kabam’s IT department, the ...</td>\n",
       "      <td>The Principal Infrastructure Engineer Is Prima...</td>\n",
       "      <td>10+ years’ of experience in a similar role, pr...</td>\n",
       "    </tr>\n",
       "    <tr>\n",
       "      <th>2</th>\n",
       "      <td>3</td>\n",
       "      <td>Canada</td>\n",
       "      <td>https://www.linkedin.com/jobs/search/?currentJ...</td>\n",
       "      <td>Cadillac Fairview</td>\n",
       "      <td>Manager, Change Management</td>\n",
       "      <td>The Manager, Change Management will play a key...</td>\n",
       "      <td>No direct reports\\nRegular liaising with stake...</td>\n",
       "      <td>Degree (Post secondary) in a related field, pr...</td>\n",
       "    </tr>\n",
       "    <tr>\n",
       "      <th>3</th>\n",
       "      <td>4</td>\n",
       "      <td>Canada</td>\n",
       "      <td>https://www.linkedin.com/jobs/search/?currentJ...</td>\n",
       "      <td>Fluor Corporation</td>\n",
       "      <td>Lead Control Systems Engineer</td>\n",
       "      <td>Fluor is one of Canada's top employers and is ...</td>\n",
       "      <td>The primary responsibilities of the Lead Contr...</td>\n",
       "      <td>Basic Job Requirements\\n\\nCandidates will poss...</td>\n",
       "    </tr>\n",
       "    <tr>\n",
       "      <th>4</th>\n",
       "      <td>5</td>\n",
       "      <td>Canada</td>\n",
       "      <td>https://www.linkedin.com/jobs/search/?currentJ...</td>\n",
       "      <td>Robert Half</td>\n",
       "      <td>Senior Back End Developer</td>\n",
       "      <td>We are seeking a skilled Senior Back-End Devel...</td>\n",
       "      <td>Design and develop efficient and scalable back...</td>\n",
       "      <td>Bachelor's or Master's degree in Computer Scie...</td>\n",
       "    </tr>\n",
       "    <tr>\n",
       "      <th>5</th>\n",
       "      <td>6</td>\n",
       "      <td>Canada</td>\n",
       "      <td>https://www.linkedin.com/jobs/search/?currentJ...</td>\n",
       "      <td>Linkus Group</td>\n",
       "      <td>Senior .NET Developer</td>\n",
       "      <td>We are looking for a senior .NET Developer. Th...</td>\n",
       "      <td>Implementing WCF and REST Web services, Window...</td>\n",
       "      <td>Organizational and attention to detail\\nExcell...</td>\n",
       "    </tr>\n",
       "    <tr>\n",
       "      <th>6</th>\n",
       "      <td>7</td>\n",
       "      <td>Canada</td>\n",
       "      <td>https://www.linkedin.com/jobs/search/?currentJ...</td>\n",
       "      <td>Applied Systems Canada</td>\n",
       "      <td>Software Developer (C# .NET)</td>\n",
       "      <td>Applied Systems, Inc., a worldwide leader in i...</td>\n",
       "      <td>Being accountable to your team members and the...</td>\n",
       "      <td>Has the ability to work 100% remotely, or from...</td>\n",
       "    </tr>\n",
       "    <tr>\n",
       "      <th>7</th>\n",
       "      <td>8</td>\n",
       "      <td>Canada</td>\n",
       "      <td>https://www.linkedin.com/jobs/search/?currentJ...</td>\n",
       "      <td>SearchLabs</td>\n",
       "      <td>Senior Software Developer (.NET)</td>\n",
       "      <td>Leader in their industry in providing technolo...</td>\n",
       "      <td>Create backend solutions through complex proje...</td>\n",
       "      <td>6+ years of professional experience in Backend...</td>\n",
       "    </tr>\n",
       "    <tr>\n",
       "      <th>8</th>\n",
       "      <td>9</td>\n",
       "      <td>Canada</td>\n",
       "      <td>https://www.linkedin.com/jobs/search/?currentJ...</td>\n",
       "      <td>BeachHead</td>\n",
       "      <td>Database Developer/SSIS/C#</td>\n",
       "      <td>Working with one of the top financial clients ...</td>\n",
       "      <td>Develop and Test ETL software using Oracle PL/...</td>\n",
       "      <td>5 years of experience in C#/.NET and WPF progr...</td>\n",
       "    </tr>\n",
       "    <tr>\n",
       "      <th>9</th>\n",
       "      <td>10</td>\n",
       "      <td>Canada</td>\n",
       "      <td>https://www.linkedin.com/jobs/search/?currentJ...</td>\n",
       "      <td>Acumatica</td>\n",
       "      <td>Software Developer (.NET, C#)</td>\n",
       "      <td>Acumatica is a leading provider of cloud busin...</td>\n",
       "      <td>Developing B2B Self-services functionality to ...</td>\n",
       "      <td>Business applications development on C#.NET an...</td>\n",
       "    </tr>\n",
       "    <tr>\n",
       "      <th>10</th>\n",
       "      <td>11</td>\n",
       "      <td>Canada</td>\n",
       "      <td>https://www.linkedin.com/jobs/search/?currentJ...</td>\n",
       "      <td>RedMane Technology LLC</td>\n",
       "      <td>Entry Level Software Engineer</td>\n",
       "      <td>RedMane Technology LLC is an application softw...</td>\n",
       "      <td>Design, develop, document, test and debug comp...</td>\n",
       "      <td>Bachelors or master’s degree in computer scien...</td>\n",
       "    </tr>\n",
       "    <tr>\n",
       "      <th>11</th>\n",
       "      <td>12</td>\n",
       "      <td>Canada</td>\n",
       "      <td>https://www.linkedin.com/jobs/search/?currentJ...</td>\n",
       "      <td>Mariner Innovations</td>\n",
       "      <td>Senior .NET Full-Stack Developer</td>\n",
       "      <td>We are seeking to hire experienced Senior .NET...</td>\n",
       "      <td>Document, design, develop, test, and deliver s...</td>\n",
       "      <td>Computer Science degree/diploma or equivalent ...</td>\n",
       "    </tr>\n",
       "    <tr>\n",
       "      <th>12</th>\n",
       "      <td>13</td>\n",
       "      <td>Canada</td>\n",
       "      <td>https://www.linkedin.com/jobs/search/?currentJ...</td>\n",
       "      <td>ClubRunner</td>\n",
       "      <td>Senior .NET Developer</td>\n",
       "      <td>The Senior Software Development Engineer, repo...</td>\n",
       "      <td>Develop software solutions by studying informa...</td>\n",
       "      <td>8+ years of software development experience us...</td>\n",
       "    </tr>\n",
       "    <tr>\n",
       "      <th>13</th>\n",
       "      <td>14</td>\n",
       "      <td>Canada</td>\n",
       "      <td>https://www.linkedin.com/jobs/search/?currentJ...</td>\n",
       "      <td>Klass Capital</td>\n",
       "      <td>Senior Full Stack Developer (.NET)</td>\n",
       "      <td>We are looking for a Team Lead, Senior Full St...</td>\n",
       "      <td>Leading by example on solutioning, coding and ...</td>\n",
       "      <td>Extensive eperience in the Microsoft .NET stac...</td>\n",
       "    </tr>\n",
       "    <tr>\n",
       "      <th>14</th>\n",
       "      <td>15</td>\n",
       "      <td>Canada</td>\n",
       "      <td>https://www.linkedin.com/jobs/search/?currentJ...</td>\n",
       "      <td>DAC</td>\n",
       "      <td>Application Developer (C# .NET)</td>\n",
       "      <td>Do you have the enthusiasm to rise to each cha...</td>\n",
       "      <td>Develop applications in the Microsoft .NET env...</td>\n",
       "      <td>3-5 years experience in software development w...</td>\n",
       "    </tr>\n",
       "    <tr>\n",
       "      <th>15</th>\n",
       "      <td>16</td>\n",
       "      <td>Canada</td>\n",
       "      <td>https://www.linkedin.com/jobs/search/?currentJ...</td>\n",
       "      <td>Prodigy Labs</td>\n",
       "      <td>Senior Android Developer</td>\n",
       "      <td>We are looking for a Senior Android Developer ...</td>\n",
       "      <td>Design and build advanced applications for the...</td>\n",
       "      <td>BS/MS degree in Computer Science, Engineering ...</td>\n",
       "    </tr>\n",
       "    <tr>\n",
       "      <th>16</th>\n",
       "      <td>17</td>\n",
       "      <td>Canada</td>\n",
       "      <td>https://www.linkedin.com/jobs/search/?currentJ...</td>\n",
       "      <td>Thoughtworks Canada</td>\n",
       "      <td>Android Engineer</td>\n",
       "      <td>Our Software Engineers build products on a var...</td>\n",
       "      <td>Create robust, well-tested code to implement i...</td>\n",
       "      <td>Demonstrated expertise in native Android softw...</td>\n",
       "    </tr>\n",
       "    <tr>\n",
       "      <th>17</th>\n",
       "      <td>18</td>\n",
       "      <td>Canada</td>\n",
       "      <td>https://www.linkedin.com/jobs/search/?currentJ...</td>\n",
       "      <td>GreenSlate</td>\n",
       "      <td>Software Engineer</td>\n",
       "      <td>We are seeking a Team Lead to help us develop ...</td>\n",
       "      <td>Coordinating efforts by leading team stand-ups...</td>\n",
       "      <td>You have a Bachelor's degree or equivalent pra...</td>\n",
       "    </tr>\n",
       "    <tr>\n",
       "      <th>18</th>\n",
       "      <td>19</td>\n",
       "      <td>Canada</td>\n",
       "      <td>https://www.linkedin.com/jobs/search/?currentJ...</td>\n",
       "      <td>Epsilon Solutions Ltd.</td>\n",
       "      <td>Core Java Developer</td>\n",
       "      <td>We are looking for a Core Java developer who w...</td>\n",
       "      <td>Design, develop, and maintain high-quality app...</td>\n",
       "      <td>Strong in object-oriented design principles an...</td>\n",
       "    </tr>\n",
       "    <tr>\n",
       "      <th>19</th>\n",
       "      <td>20</td>\n",
       "      <td>Canada</td>\n",
       "      <td>https://www.linkedin.com/jobs/search/?currentJ...</td>\n",
       "      <td>InsideDesk</td>\n",
       "      <td>Senior Back End Developer</td>\n",
       "      <td>We are seeking a skilled Senior Back-End Devel...</td>\n",
       "      <td>Develop high-quality services and 3rd party in...</td>\n",
       "      <td>Experience - 5+ years in software development ...</td>\n",
       "    </tr>\n",
       "    <tr>\n",
       "      <th>20</th>\n",
       "      <td>21</td>\n",
       "      <td>Canada</td>\n",
       "      <td>https://www.linkedin.com/jobs/search/?currentJ...</td>\n",
       "      <td>Peak Power Inc</td>\n",
       "      <td>Senior Python Engineer</td>\n",
       "      <td>At Peak Power, we're energy nerds that develop...</td>\n",
       "      <td>Design and build tools and capabilities to ena...</td>\n",
       "      <td>You have an undergraduate degree in software e...</td>\n",
       "    </tr>\n",
       "    <tr>\n",
       "      <th>21</th>\n",
       "      <td>22</td>\n",
       "      <td>Canada</td>\n",
       "      <td>https://www.linkedin.com/jobs/search/?currentJ...</td>\n",
       "      <td>Prelude</td>\n",
       "      <td>Senior Backend Engineer</td>\n",
       "      <td>Prelude is seeking a senior Backend Engineer c...</td>\n",
       "      <td>Develop and maintain code, integrating softwar...</td>\n",
       "      <td>8+ years software engineering experience in a ...</td>\n",
       "    </tr>\n",
       "    <tr>\n",
       "      <th>22</th>\n",
       "      <td>23</td>\n",
       "      <td>Canada</td>\n",
       "      <td>https://www.linkedin.com/jobs/search/?currentJ...</td>\n",
       "      <td>Mariner Innovations</td>\n",
       "      <td>Senior .NET Full-Stack Developer</td>\n",
       "      <td>We are seeking to hire experienced Senior .NET...</td>\n",
       "      <td>Document, design, develop, test, and deliver s...</td>\n",
       "      <td>Computer Science degree/diploma or equivalent ...</td>\n",
       "    </tr>\n",
       "    <tr>\n",
       "      <th>23</th>\n",
       "      <td>24</td>\n",
       "      <td>Canada</td>\n",
       "      <td>https://www.linkedin.com/jobs/search/?currentJ...</td>\n",
       "      <td>DataVisor</td>\n",
       "      <td>Senior Software Engineer</td>\n",
       "      <td>As platform engineers, we are building a next-...</td>\n",
       "      <td>Design and build machine learning systems that...</td>\n",
       "      <td>5+ years software development experience\\n5+ y...</td>\n",
       "    </tr>\n",
       "    <tr>\n",
       "      <th>24</th>\n",
       "      <td>25</td>\n",
       "      <td>Canada</td>\n",
       "      <td>https://www.linkedin.com/jobs/search/?currentJ...</td>\n",
       "      <td>Canadian Bank Note Company, Limited</td>\n",
       "      <td>Java Software Developer</td>\n",
       "      <td>Did you know that the Canadian Bank Note Compa...</td>\n",
       "      <td>Participate in the design of the functionality...</td>\n",
       "      <td>Experience developing desktop/web applications...</td>\n",
       "    </tr>\n",
       "    <tr>\n",
       "      <th>25</th>\n",
       "      <td>26</td>\n",
       "      <td>Canada</td>\n",
       "      <td>https://www.linkedin.com/jobs/search/?currentJ...</td>\n",
       "      <td>Community Living BC</td>\n",
       "      <td>Senior .Net Developer</td>\n",
       "      <td>As a Senior .Net Developer at CLBC, you will a...</td>\n",
       "      <td>Developing application interfaces for diverse ...</td>\n",
       "      <td>Bachelor of Science in Computer Science, Infor...</td>\n",
       "    </tr>\n",
       "    <tr>\n",
       "      <th>26</th>\n",
       "      <td>27</td>\n",
       "      <td>Canada</td>\n",
       "      <td>https://www.linkedin.com/jobs/search/?currentJ...</td>\n",
       "      <td>Atimi Software</td>\n",
       "      <td>Full Stack Developer - Java and JavaScript</td>\n",
       "      <td>Atimi is seeking an experienced full-stack Jav...</td>\n",
       "      <td>Architect web frontend and cloud backend solut...</td>\n",
       "      <td>Strong JavaScript frontend development experie...</td>\n",
       "    </tr>\n",
       "    <tr>\n",
       "      <th>27</th>\n",
       "      <td>28</td>\n",
       "      <td>Canada</td>\n",
       "      <td>https://www.linkedin.com/jobs/search/?currentJ...</td>\n",
       "      <td>RAMP InterActive</td>\n",
       "      <td>C# NET Web Application Developer (FT)</td>\n",
       "      <td>We are looking for a C# developer responsible ...</td>\n",
       "      <td>Translate application storyboards and use case...</td>\n",
       "      <td>Proficient in C#, with a good knowledge of its...</td>\n",
       "    </tr>\n",
       "    <tr>\n",
       "      <th>28</th>\n",
       "      <td>29</td>\n",
       "      <td>Canada</td>\n",
       "      <td>https://www.linkedin.com/jobs/search/?currentJ...</td>\n",
       "      <td>Prolucid Technologies</td>\n",
       "      <td>Junior Software Developer</td>\n",
       "      <td>If you love software and want to solve meaning...</td>\n",
       "      <td>Assist in the development, testing, and delive...</td>\n",
       "      <td>Self-motivated, a good communicator, excellent...</td>\n",
       "    </tr>\n",
       "    <tr>\n",
       "      <th>29</th>\n",
       "      <td>30</td>\n",
       "      <td>Canada</td>\n",
       "      <td>https://www.linkedin.com/jobs/search/?currentJ...</td>\n",
       "      <td>Mariner Innovations</td>\n",
       "      <td>Intermediate .NET Full-Stack Developer</td>\n",
       "      <td>We are seeking to hire Intermediate.NET Develo...</td>\n",
       "      <td>Working with system design specifications to d...</td>\n",
       "      <td>Computer Science degree/diploma or equivalent ...</td>\n",
       "    </tr>\n",
       "    <tr>\n",
       "      <th>30</th>\n",
       "      <td>31</td>\n",
       "      <td>Canada</td>\n",
       "      <td>https://www.linkedin.com/jobs/search/?currentJ...</td>\n",
       "      <td>Kontingence Recruitment</td>\n",
       "      <td>Android Developer</td>\n",
       "      <td>This role will be responsible for software dev...</td>\n",
       "      <td>Be responsible for developing and maintaining ...</td>\n",
       "      <td>Degree in Computer Science, Software Engineeri...</td>\n",
       "    </tr>\n",
       "    <tr>\n",
       "      <th>31</th>\n",
       "      <td>32</td>\n",
       "      <td>Canada</td>\n",
       "      <td>https://www.linkedin.com/jobs/search/?currentJ...</td>\n",
       "      <td>Stellar Development Foundation</td>\n",
       "      <td>Software Engineer, Backend</td>\n",
       "      <td>As a Backend Software Engineer, you will lever...</td>\n",
       "      <td>Work on a small team, helping to architect, de...</td>\n",
       "      <td>The ability to work in and ramp up quickly wit...</td>\n",
       "    </tr>\n",
       "    <tr>\n",
       "      <th>32</th>\n",
       "      <td>33</td>\n",
       "      <td>Canada</td>\n",
       "      <td>https://www.linkedin.com/jobs/search/?currentJ...</td>\n",
       "      <td>IMAGINiT Technologies</td>\n",
       "      <td>Senior Full Stack Software Developer</td>\n",
       "      <td>We are seeking an innovative, collaborative, S...</td>\n",
       "      <td>Translating product requirements into plans\\nL...</td>\n",
       "      <td>BS in computer science, engineering or mathema...</td>\n",
       "    </tr>\n",
       "    <tr>\n",
       "      <th>33</th>\n",
       "      <td>34</td>\n",
       "      <td>Canada</td>\n",
       "      <td>https://www.linkedin.com/jobs/search/?currentJ...</td>\n",
       "      <td>Experfy</td>\n",
       "      <td>Software Engineer</td>\n",
       "      <td>Our client looking for a Software Engineer/Dev...</td>\n",
       "      <td>Understand business issues and translate these...</td>\n",
       "      <td>Exposure to analytics applications or experien...</td>\n",
       "    </tr>\n",
       "    <tr>\n",
       "      <th>34</th>\n",
       "      <td>35</td>\n",
       "      <td>Canada</td>\n",
       "      <td>https://www.linkedin.com/jobs/search/?currentJ...</td>\n",
       "      <td>OBSIDI By BPTN</td>\n",
       "      <td>.Net Developer (C#)</td>\n",
       "      <td>The Software Developer’s primary responsibilit...</td>\n",
       "      <td>Be a part of a team of developers to design an...</td>\n",
       "      <td>At least 3 years of experience with Microsoft ...</td>\n",
       "    </tr>\n",
       "    <tr>\n",
       "      <th>35</th>\n",
       "      <td>36</td>\n",
       "      <td>Canada</td>\n",
       "      <td>https://www.linkedin.com/jobs/search/?currentJ...</td>\n",
       "      <td>McGill St Laurent</td>\n",
       "      <td>Java Developer</td>\n",
       "      <td>CWP Energy is an energy trading company based ...</td>\n",
       "      <td>Develop sophisticated, real-time event-based t...</td>\n",
       "      <td>3+ years of Java programming experience.\\nStro...</td>\n",
       "    </tr>\n",
       "    <tr>\n",
       "      <th>36</th>\n",
       "      <td>37</td>\n",
       "      <td>Canada</td>\n",
       "      <td>https://www.linkedin.com/jobs/search/?currentJ...</td>\n",
       "      <td>Integrated Resources, Inc.</td>\n",
       "      <td>Sr Backend Software Engineer - Python</td>\n",
       "      <td>We are a group at gRED Data Science and Statis...</td>\n",
       "      <td>Collaboratively and pragmatically solve scient...</td>\n",
       "      <td>BS or higher in Bioinformatics, Computer Scien...</td>\n",
       "    </tr>\n",
       "    <tr>\n",
       "      <th>37</th>\n",
       "      <td>38</td>\n",
       "      <td>Canada</td>\n",
       "      <td>https://www.linkedin.com/jobs/search/?currentJ...</td>\n",
       "      <td>SHIFT Energy</td>\n",
       "      <td>Senior Python Developer/Architect</td>\n",
       "      <td>SHIFT Energy is looking for a Mechanical or El...</td>\n",
       "      <td>Contribute to the design, development, and mai...</td>\n",
       "      <td>Bachelors and/or Masters Degree\\nExperience in...</td>\n",
       "    </tr>\n",
       "    <tr>\n",
       "      <th>38</th>\n",
       "      <td>39</td>\n",
       "      <td>Canada</td>\n",
       "      <td>https://www.linkedin.com/jobs/search/?currentJ...</td>\n",
       "      <td>Atimi Software</td>\n",
       "      <td>Backend Developer - Java</td>\n",
       "      <td>Atimi is seeking an experienced Java backend s...</td>\n",
       "      <td>Proactive collaboration in the project team to...</td>\n",
       "      <td>Strong Java development experience.\\nExperienc...</td>\n",
       "    </tr>\n",
       "    <tr>\n",
       "      <th>39</th>\n",
       "      <td>40</td>\n",
       "      <td>Canada</td>\n",
       "      <td>https://www.linkedin.com/jobs/search/?currentJ...</td>\n",
       "      <td>Henry Schein One</td>\n",
       "      <td>Full Stack Web Developer</td>\n",
       "      <td>We are looking for a Full Stack Web Developer ...</td>\n",
       "      <td>Write, document, and maintain code\\nWork with ...</td>\n",
       "      <td>Bachelor’s Degree in Computer Science or equiv...</td>\n",
       "    </tr>\n",
       "    <tr>\n",
       "      <th>40</th>\n",
       "      <td>41</td>\n",
       "      <td>Canada</td>\n",
       "      <td>https://www.linkedin.com/jobs/search/?currentJ...</td>\n",
       "      <td>TechInsights</td>\n",
       "      <td>Software Developer</td>\n",
       "      <td>We are looking for a skilled Software Develope...</td>\n",
       "      <td>Design software tools and applications to meet...</td>\n",
       "      <td>Post-secondary diploma or degree in Computer S...</td>\n",
       "    </tr>\n",
       "    <tr>\n",
       "      <th>41</th>\n",
       "      <td>42</td>\n",
       "      <td>Canada</td>\n",
       "      <td>https://www.linkedin.com/jobs/search/?currentJ...</td>\n",
       "      <td>NDAX</td>\n",
       "      <td>Senior Full Stack Developer</td>\n",
       "      <td>We’re looking for someone who has experience w...</td>\n",
       "      <td>Architect solutions for any new feature\\nDesig...</td>\n",
       "      <td>A proven experience of scaling up products to ...</td>\n",
       "    </tr>\n",
       "    <tr>\n",
       "      <th>42</th>\n",
       "      <td>43</td>\n",
       "      <td>Canada</td>\n",
       "      <td>https://www.linkedin.com/jobs/search/?currentJ...</td>\n",
       "      <td>Chit Chats</td>\n",
       "      <td>Senior Software Developer</td>\n",
       "      <td>Chit Chats' vision is to help Canadians delive...</td>\n",
       "      <td>Collaborate with other developers to write the...</td>\n",
       "      <td>5 plus years of experience designing and build...</td>\n",
       "    </tr>\n",
       "    <tr>\n",
       "      <th>43</th>\n",
       "      <td>44</td>\n",
       "      <td>Canada</td>\n",
       "      <td>https://www.linkedin.com/jobs/search/?currentJ...</td>\n",
       "      <td>MindSource</td>\n",
       "      <td>Senior Fullstack Developer</td>\n",
       "      <td>You will be working with a very diverse and dy...</td>\n",
       "      <td>Designs and implements long-term strategic goa...</td>\n",
       "      <td>5+ years of experience as a hands-on developer...</td>\n",
       "    </tr>\n",
       "    <tr>\n",
       "      <th>44</th>\n",
       "      <td>45</td>\n",
       "      <td>Canada</td>\n",
       "      <td>https://www.linkedin.com/jobs/search/?currentJ...</td>\n",
       "      <td>STACK IT Recruitment Inc.</td>\n",
       "      <td>Full-Stack Software Developer</td>\n",
       "      <td>You are an experienced Full-Stack Software Dev...</td>\n",
       "      <td>Build high-quality code that meets business, s...</td>\n",
       "      <td>5+ years of work experience\\nSubstantial exper...</td>\n",
       "    </tr>\n",
       "    <tr>\n",
       "      <th>45</th>\n",
       "      <td>46</td>\n",
       "      <td>Canada</td>\n",
       "      <td>https://www.linkedin.com/jobs/search/?currentJ...</td>\n",
       "      <td>Zortech Solutions</td>\n",
       "      <td>QA Senior Test Automation Engineer</td>\n",
       "      <td>Client is looking for an experienced Senior Te...</td>\n",
       "      <td>Work with the scrum team to identify testing n...</td>\n",
       "      <td>BS degree or higher in Computer Science or rel...</td>\n",
       "    </tr>\n",
       "    <tr>\n",
       "      <th>46</th>\n",
       "      <td>47</td>\n",
       "      <td>Canada</td>\n",
       "      <td>https://www.linkedin.com/jobs/search/?currentJ...</td>\n",
       "      <td>Messagepoint</td>\n",
       "      <td>Senior Software Developer</td>\n",
       "      <td>We are seeking an experienced Senior Software ...</td>\n",
       "      <td>Ability to read complex code and write a clear...</td>\n",
       "      <td>Bachelor’s Degree in Computer Science, Softwar...</td>\n",
       "    </tr>\n",
       "    <tr>\n",
       "      <th>47</th>\n",
       "      <td>48</td>\n",
       "      <td>Canada</td>\n",
       "      <td>https://www.linkedin.com/jobs/search/?currentJ...</td>\n",
       "      <td>Software International</td>\n",
       "      <td>Power BI Developer</td>\n",
       "      <td>Our client is a world wide , Fortune 500 IT Co...</td>\n",
       "      <td>Supports the scoping of BI solution sessions w...</td>\n",
       "      <td>5 + year of IT related experience\\nMinimum of ...</td>\n",
       "    </tr>\n",
       "    <tr>\n",
       "      <th>48</th>\n",
       "      <td>49</td>\n",
       "      <td>Canada</td>\n",
       "      <td>https://www.linkedin.com/jobs/search/?currentJ...</td>\n",
       "      <td>Express Scripts</td>\n",
       "      <td>SSIS ETL Developer</td>\n",
       "      <td>Express Scripts Canada is looking for a talent...</td>\n",
       "      <td>Utilize best practices for developing, testing...</td>\n",
       "      <td>Education: Bachelor's Degree in Computer Scien...</td>\n",
       "    </tr>\n",
       "    <tr>\n",
       "      <th>49</th>\n",
       "      <td>50</td>\n",
       "      <td>Canada</td>\n",
       "      <td>https://www.linkedin.com/jobs/search/?currentJ...</td>\n",
       "      <td>Vista Projects</td>\n",
       "      <td>ETL Developer</td>\n",
       "      <td>Vista Projects is an integrated industrial eng...</td>\n",
       "      <td>Establishing new system integrations as well a...</td>\n",
       "      <td>Bachelor’s degree or diploma in a related fiel...</td>\n",
       "    </tr>\n",
       "  </tbody>\n",
       "</table>\n",
       "</div>"
      ],
      "text/plain": [
       "    ID Country                                                URL  \\\n",
       "0    1  Canada  https://www.linkedin.com/jobs/search/?currentJ...   \n",
       "1    2  Canada  https://www.linkedin.com/jobs/search/?currentJ...   \n",
       "2    3  Canada  https://www.linkedin.com/jobs/search/?currentJ...   \n",
       "3    4  Canada  https://www.linkedin.com/jobs/search/?currentJ...   \n",
       "4    5  Canada  https://www.linkedin.com/jobs/search/?currentJ...   \n",
       "5    6  Canada  https://www.linkedin.com/jobs/search/?currentJ...   \n",
       "6    7  Canada  https://www.linkedin.com/jobs/search/?currentJ...   \n",
       "7    8  Canada  https://www.linkedin.com/jobs/search/?currentJ...   \n",
       "8    9  Canada  https://www.linkedin.com/jobs/search/?currentJ...   \n",
       "9   10  Canada  https://www.linkedin.com/jobs/search/?currentJ...   \n",
       "10  11  Canada  https://www.linkedin.com/jobs/search/?currentJ...   \n",
       "11  12  Canada  https://www.linkedin.com/jobs/search/?currentJ...   \n",
       "12  13  Canada  https://www.linkedin.com/jobs/search/?currentJ...   \n",
       "13  14  Canada  https://www.linkedin.com/jobs/search/?currentJ...   \n",
       "14  15  Canada  https://www.linkedin.com/jobs/search/?currentJ...   \n",
       "15  16  Canada  https://www.linkedin.com/jobs/search/?currentJ...   \n",
       "16  17  Canada  https://www.linkedin.com/jobs/search/?currentJ...   \n",
       "17  18  Canada  https://www.linkedin.com/jobs/search/?currentJ...   \n",
       "18  19  Canada  https://www.linkedin.com/jobs/search/?currentJ...   \n",
       "19  20  Canada  https://www.linkedin.com/jobs/search/?currentJ...   \n",
       "20  21  Canada  https://www.linkedin.com/jobs/search/?currentJ...   \n",
       "21  22  Canada  https://www.linkedin.com/jobs/search/?currentJ...   \n",
       "22  23  Canada  https://www.linkedin.com/jobs/search/?currentJ...   \n",
       "23  24  Canada  https://www.linkedin.com/jobs/search/?currentJ...   \n",
       "24  25  Canada  https://www.linkedin.com/jobs/search/?currentJ...   \n",
       "25  26  Canada  https://www.linkedin.com/jobs/search/?currentJ...   \n",
       "26  27  Canada  https://www.linkedin.com/jobs/search/?currentJ...   \n",
       "27  28  Canada  https://www.linkedin.com/jobs/search/?currentJ...   \n",
       "28  29  Canada  https://www.linkedin.com/jobs/search/?currentJ...   \n",
       "29  30  Canada  https://www.linkedin.com/jobs/search/?currentJ...   \n",
       "30  31  Canada  https://www.linkedin.com/jobs/search/?currentJ...   \n",
       "31  32  Canada  https://www.linkedin.com/jobs/search/?currentJ...   \n",
       "32  33  Canada  https://www.linkedin.com/jobs/search/?currentJ...   \n",
       "33  34  Canada  https://www.linkedin.com/jobs/search/?currentJ...   \n",
       "34  35  Canada  https://www.linkedin.com/jobs/search/?currentJ...   \n",
       "35  36  Canada  https://www.linkedin.com/jobs/search/?currentJ...   \n",
       "36  37  Canada  https://www.linkedin.com/jobs/search/?currentJ...   \n",
       "37  38  Canada  https://www.linkedin.com/jobs/search/?currentJ...   \n",
       "38  39  Canada  https://www.linkedin.com/jobs/search/?currentJ...   \n",
       "39  40  Canada  https://www.linkedin.com/jobs/search/?currentJ...   \n",
       "40  41  Canada  https://www.linkedin.com/jobs/search/?currentJ...   \n",
       "41  42  Canada  https://www.linkedin.com/jobs/search/?currentJ...   \n",
       "42  43  Canada  https://www.linkedin.com/jobs/search/?currentJ...   \n",
       "43  44  Canada  https://www.linkedin.com/jobs/search/?currentJ...   \n",
       "44  45  Canada  https://www.linkedin.com/jobs/search/?currentJ...   \n",
       "45  46  Canada  https://www.linkedin.com/jobs/search/?currentJ...   \n",
       "46  47  Canada  https://www.linkedin.com/jobs/search/?currentJ...   \n",
       "47  48  Canada  https://www.linkedin.com/jobs/search/?currentJ...   \n",
       "48  49  Canada  https://www.linkedin.com/jobs/search/?currentJ...   \n",
       "49  50  Canada  https://www.linkedin.com/jobs/search/?currentJ...   \n",
       "\n",
       "                            Organization  \\\n",
       "0                          Trapeze Group   \n",
       "1                                  Kabam   \n",
       "2                      Cadillac Fairview   \n",
       "3                      Fluor Corporation   \n",
       "4                            Robert Half   \n",
       "5                          Linkus Group    \n",
       "6                Applied Systems Canada    \n",
       "7                             SearchLabs   \n",
       "8                              BeachHead   \n",
       "9                              Acumatica   \n",
       "10               RedMane Technology LLC    \n",
       "11                   Mariner Innovations   \n",
       "12                            ClubRunner   \n",
       "13                         Klass Capital   \n",
       "14                                  DAC    \n",
       "15                          Prodigy Labs   \n",
       "16                   Thoughtworks Canada   \n",
       "17                           GreenSlate    \n",
       "18                Epsilon Solutions Ltd.   \n",
       "19                            InsideDesk   \n",
       "20                       Peak Power Inc    \n",
       "21                              Prelude    \n",
       "22                   Mariner Innovations   \n",
       "23                             DataVisor   \n",
       "24  Canadian Bank Note Company, Limited    \n",
       "25                  Community Living BC    \n",
       "26                        Atimi Software   \n",
       "27                     RAMP InterActive    \n",
       "28                 Prolucid Technologies   \n",
       "29                   Mariner Innovations   \n",
       "30               Kontingence Recruitment   \n",
       "31     Stellar Development Foundation      \n",
       "32                 IMAGINiT Technologies   \n",
       "33                               Experfy   \n",
       "34                        OBSIDI By BPTN   \n",
       "35                     McGill St Laurent   \n",
       "36            Integrated Resources, Inc.   \n",
       "37                          SHIFT Energy   \n",
       "38                       Atimi Software    \n",
       "39                      Henry Schein One   \n",
       "40                          TechInsights   \n",
       "41                                 NDAX    \n",
       "42                            Chit Chats   \n",
       "43                           MindSource    \n",
       "44             STACK IT Recruitment Inc.   \n",
       "45                    Zortech Solutions    \n",
       "46                          Messagepoint   \n",
       "47                Software International   \n",
       "48                      Express Scripts    \n",
       "49                       Vista Projects    \n",
       "\n",
       "                                      Position  \\\n",
       "0           Cloud Solution & Security Engineer   \n",
       "1            Principal Infrastructure Engineer   \n",
       "2                   Manager, Change Management   \n",
       "3                Lead Control Systems Engineer   \n",
       "4                    Senior Back End Developer   \n",
       "5                        Senior .NET Developer   \n",
       "6                 Software Developer (C# .NET)   \n",
       "7             Senior Software Developer (.NET)   \n",
       "8                   Database Developer/SSIS/C#   \n",
       "9                Software Developer (.NET, C#)   \n",
       "10               Entry Level Software Engineer   \n",
       "11            Senior .NET Full-Stack Developer   \n",
       "12                       Senior .NET Developer   \n",
       "13          Senior Full Stack Developer (.NET)   \n",
       "14             Application Developer (C# .NET)   \n",
       "15                    Senior Android Developer   \n",
       "16                            Android Engineer   \n",
       "17                           Software Engineer   \n",
       "18                         Core Java Developer   \n",
       "19                   Senior Back End Developer   \n",
       "20                      Senior Python Engineer   \n",
       "21                     Senior Backend Engineer   \n",
       "22            Senior .NET Full-Stack Developer   \n",
       "23                    Senior Software Engineer   \n",
       "24                     Java Software Developer   \n",
       "25                       Senior .Net Developer   \n",
       "26  Full Stack Developer - Java and JavaScript   \n",
       "27       C# NET Web Application Developer (FT)   \n",
       "28                   Junior Software Developer   \n",
       "29      Intermediate .NET Full-Stack Developer   \n",
       "30                           Android Developer   \n",
       "31                  Software Engineer, Backend   \n",
       "32        Senior Full Stack Software Developer   \n",
       "33                           Software Engineer   \n",
       "34                         .Net Developer (C#)   \n",
       "35                              Java Developer   \n",
       "36       Sr Backend Software Engineer - Python   \n",
       "37           Senior Python Developer/Architect   \n",
       "38                    Backend Developer - Java   \n",
       "39                    Full Stack Web Developer   \n",
       "40                          Software Developer   \n",
       "41                 Senior Full Stack Developer   \n",
       "42                   Senior Software Developer   \n",
       "43                  Senior Fullstack Developer   \n",
       "44               Full-Stack Software Developer   \n",
       "45          QA Senior Test Automation Engineer   \n",
       "46                   Senior Software Developer   \n",
       "47                         Power BI Developer    \n",
       "48                          SSIS ETL Developer   \n",
       "49                               ETL Developer   \n",
       "\n",
       "                                      Job Description  \\\n",
       "0   As a Cloud Solution & Security Engineer for ou...   \n",
       "1   As a key leader of Kabam’s IT department, the ...   \n",
       "2   The Manager, Change Management will play a key...   \n",
       "3   Fluor is one of Canada's top employers and is ...   \n",
       "4   We are seeking a skilled Senior Back-End Devel...   \n",
       "5   We are looking for a senior .NET Developer. Th...   \n",
       "6   Applied Systems, Inc., a worldwide leader in i...   \n",
       "7   Leader in their industry in providing technolo...   \n",
       "8   Working with one of the top financial clients ...   \n",
       "9   Acumatica is a leading provider of cloud busin...   \n",
       "10  RedMane Technology LLC is an application softw...   \n",
       "11  We are seeking to hire experienced Senior .NET...   \n",
       "12  The Senior Software Development Engineer, repo...   \n",
       "13  We are looking for a Team Lead, Senior Full St...   \n",
       "14  Do you have the enthusiasm to rise to each cha...   \n",
       "15  We are looking for a Senior Android Developer ...   \n",
       "16  Our Software Engineers build products on a var...   \n",
       "17  We are seeking a Team Lead to help us develop ...   \n",
       "18  We are looking for a Core Java developer who w...   \n",
       "19  We are seeking a skilled Senior Back-End Devel...   \n",
       "20  At Peak Power, we're energy nerds that develop...   \n",
       "21  Prelude is seeking a senior Backend Engineer c...   \n",
       "22  We are seeking to hire experienced Senior .NET...   \n",
       "23  As platform engineers, we are building a next-...   \n",
       "24  Did you know that the Canadian Bank Note Compa...   \n",
       "25  As a Senior .Net Developer at CLBC, you will a...   \n",
       "26  Atimi is seeking an experienced full-stack Jav...   \n",
       "27  We are looking for a C# developer responsible ...   \n",
       "28  If you love software and want to solve meaning...   \n",
       "29  We are seeking to hire Intermediate.NET Develo...   \n",
       "30  This role will be responsible for software dev...   \n",
       "31  As a Backend Software Engineer, you will lever...   \n",
       "32  We are seeking an innovative, collaborative, S...   \n",
       "33  Our client looking for a Software Engineer/Dev...   \n",
       "34  The Software Developer’s primary responsibilit...   \n",
       "35  CWP Energy is an energy trading company based ...   \n",
       "36  We are a group at gRED Data Science and Statis...   \n",
       "37  SHIFT Energy is looking for a Mechanical or El...   \n",
       "38  Atimi is seeking an experienced Java backend s...   \n",
       "39  We are looking for a Full Stack Web Developer ...   \n",
       "40  We are looking for a skilled Software Develope...   \n",
       "41  We’re looking for someone who has experience w...   \n",
       "42  Chit Chats' vision is to help Canadians delive...   \n",
       "43  You will be working with a very diverse and dy...   \n",
       "44  You are an experienced Full-Stack Software Dev...   \n",
       "45  Client is looking for an experienced Senior Te...   \n",
       "46  We are seeking an experienced Senior Software ...   \n",
       "47  Our client is a world wide , Fortune 500 IT Co...   \n",
       "48  Express Scripts Canada is looking for a talent...   \n",
       "49  Vista Projects is an integrated industrial eng...   \n",
       "\n",
       "                                     Responsibilities  \\\n",
       "0   Automate the delivery of Azure hosted client e...   \n",
       "1   The Principal Infrastructure Engineer Is Prima...   \n",
       "2   No direct reports\\nRegular liaising with stake...   \n",
       "3   The primary responsibilities of the Lead Contr...   \n",
       "4   Design and develop efficient and scalable back...   \n",
       "5   Implementing WCF and REST Web services, Window...   \n",
       "6   Being accountable to your team members and the...   \n",
       "7   Create backend solutions through complex proje...   \n",
       "8   Develop and Test ETL software using Oracle PL/...   \n",
       "9   Developing B2B Self-services functionality to ...   \n",
       "10  Design, develop, document, test and debug comp...   \n",
       "11  Document, design, develop, test, and deliver s...   \n",
       "12  Develop software solutions by studying informa...   \n",
       "13  Leading by example on solutioning, coding and ...   \n",
       "14  Develop applications in the Microsoft .NET env...   \n",
       "15  Design and build advanced applications for the...   \n",
       "16  Create robust, well-tested code to implement i...   \n",
       "17  Coordinating efforts by leading team stand-ups...   \n",
       "18  Design, develop, and maintain high-quality app...   \n",
       "19  Develop high-quality services and 3rd party in...   \n",
       "20  Design and build tools and capabilities to ena...   \n",
       "21  Develop and maintain code, integrating softwar...   \n",
       "22  Document, design, develop, test, and deliver s...   \n",
       "23  Design and build machine learning systems that...   \n",
       "24  Participate in the design of the functionality...   \n",
       "25  Developing application interfaces for diverse ...   \n",
       "26  Architect web frontend and cloud backend solut...   \n",
       "27  Translate application storyboards and use case...   \n",
       "28  Assist in the development, testing, and delive...   \n",
       "29  Working with system design specifications to d...   \n",
       "30  Be responsible for developing and maintaining ...   \n",
       "31  Work on a small team, helping to architect, de...   \n",
       "32  Translating product requirements into plans\\nL...   \n",
       "33  Understand business issues and translate these...   \n",
       "34  Be a part of a team of developers to design an...   \n",
       "35  Develop sophisticated, real-time event-based t...   \n",
       "36  Collaboratively and pragmatically solve scient...   \n",
       "37  Contribute to the design, development, and mai...   \n",
       "38  Proactive collaboration in the project team to...   \n",
       "39  Write, document, and maintain code\\nWork with ...   \n",
       "40  Design software tools and applications to meet...   \n",
       "41  Architect solutions for any new feature\\nDesig...   \n",
       "42  Collaborate with other developers to write the...   \n",
       "43  Designs and implements long-term strategic goa...   \n",
       "44  Build high-quality code that meets business, s...   \n",
       "45  Work with the scrum team to identify testing n...   \n",
       "46  Ability to read complex code and write a clear...   \n",
       "47  Supports the scoping of BI solution sessions w...   \n",
       "48  Utilize best practices for developing, testing...   \n",
       "49  Establishing new system integrations as well a...   \n",
       "\n",
       "                                     Job Requirements  \n",
       "0   3+ years of specific experience in an Azure De...  \n",
       "1   10+ years’ of experience in a similar role, pr...  \n",
       "2   Degree (Post secondary) in a related field, pr...  \n",
       "3   Basic Job Requirements\\n\\nCandidates will poss...  \n",
       "4   Bachelor's or Master's degree in Computer Scie...  \n",
       "5   Organizational and attention to detail\\nExcell...  \n",
       "6   Has the ability to work 100% remotely, or from...  \n",
       "7   6+ years of professional experience in Backend...  \n",
       "8   5 years of experience in C#/.NET and WPF progr...  \n",
       "9   Business applications development on C#.NET an...  \n",
       "10  Bachelors or master’s degree in computer scien...  \n",
       "11  Computer Science degree/diploma or equivalent ...  \n",
       "12  8+ years of software development experience us...  \n",
       "13  Extensive eperience in the Microsoft .NET stac...  \n",
       "14  3-5 years experience in software development w...  \n",
       "15  BS/MS degree in Computer Science, Engineering ...  \n",
       "16  Demonstrated expertise in native Android softw...  \n",
       "17  You have a Bachelor's degree or equivalent pra...  \n",
       "18  Strong in object-oriented design principles an...  \n",
       "19  Experience - 5+ years in software development ...  \n",
       "20  You have an undergraduate degree in software e...  \n",
       "21  8+ years software engineering experience in a ...  \n",
       "22  Computer Science degree/diploma or equivalent ...  \n",
       "23  5+ years software development experience\\n5+ y...  \n",
       "24  Experience developing desktop/web applications...  \n",
       "25  Bachelor of Science in Computer Science, Infor...  \n",
       "26  Strong JavaScript frontend development experie...  \n",
       "27  Proficient in C#, with a good knowledge of its...  \n",
       "28  Self-motivated, a good communicator, excellent...  \n",
       "29  Computer Science degree/diploma or equivalent ...  \n",
       "30  Degree in Computer Science, Software Engineeri...  \n",
       "31  The ability to work in and ramp up quickly wit...  \n",
       "32  BS in computer science, engineering or mathema...  \n",
       "33  Exposure to analytics applications or experien...  \n",
       "34  At least 3 years of experience with Microsoft ...  \n",
       "35  3+ years of Java programming experience.\\nStro...  \n",
       "36  BS or higher in Bioinformatics, Computer Scien...  \n",
       "37  Bachelors and/or Masters Degree\\nExperience in...  \n",
       "38  Strong Java development experience.\\nExperienc...  \n",
       "39  Bachelor’s Degree in Computer Science or equiv...  \n",
       "40  Post-secondary diploma or degree in Computer S...  \n",
       "41  A proven experience of scaling up products to ...  \n",
       "42  5 plus years of experience designing and build...  \n",
       "43  5+ years of experience as a hands-on developer...  \n",
       "44  5+ years of work experience\\nSubstantial exper...  \n",
       "45  BS degree or higher in Computer Science or rel...  \n",
       "46  Bachelor’s Degree in Computer Science, Softwar...  \n",
       "47  5 + year of IT related experience\\nMinimum of ...  \n",
       "48  Education: Bachelor's Degree in Computer Scien...  \n",
       "49  Bachelor’s degree or diploma in a related fiel...  "
      ]
     },
     "execution_count": 5,
     "metadata": {},
     "output_type": "execute_result"
    }
   ],
   "source": [
    "Canada_JobPostings"
   ]
  },
  {
   "cell_type": "code",
   "execution_count": null,
   "id": "36b2d017",
   "metadata": {},
   "outputs": [],
   "source": []
  },
  {
   "cell_type": "code",
   "execution_count": 6,
   "id": "37a56aed",
   "metadata": {},
   "outputs": [
    {
     "data": {
      "text/plain": [
       "['Canada_Acumatica.txt',\n",
       " 'Canada_AppliedSystemsCanada.txt',\n",
       " 'Canada_AtimiSoftware.txt',\n",
       " 'Canada_AtimiSoftware1.txt',\n",
       " 'Canada_BeachHead.txt',\n",
       " 'Canada_CanadianBankNote.txt',\n",
       " 'Canada_ChitChats.txt',\n",
       " 'Canada_ClubRunner.txt',\n",
       " 'Canada_CommunityLiving.txt',\n",
       " 'Canada_DAC.txt',\n",
       " 'Canada_DataVisor.txt',\n",
       " 'Canada_EpsilonSolutionsLtd.txt',\n",
       " 'Canada_Experfy.txt',\n",
       " 'Canada_ExpressScripts.txt',\n",
       " 'Canada_FluorCorporation.txt',\n",
       " 'Canada_GreenSlate1.txt',\n",
       " 'Canada_HenrySchein.txt',\n",
       " 'Canada_IMAGINiT.txt',\n",
       " 'Canada_InsideDesk.txt',\n",
       " 'Canada_IntegratedResources.txt',\n",
       " 'Canada_Kabam.txt',\n",
       " 'Canada_KlassCapital.txt',\n",
       " 'Canada_KontingenceRecruitment.txt',\n",
       " 'Canada_LinkusGroup.txt',\n",
       " 'Canada_Manager.txt',\n",
       " 'Canada_Mariner Innovations.txt',\n",
       " 'Canada_MarinerInnovations.txt',\n",
       " 'Canada_MarinerInnovations1.txt',\n",
       " 'Canada_McGillStLaurent.txt',\n",
       " 'Canada_Messagepoint.txt',\n",
       " 'Canada_MindSource.txt',\n",
       " 'Canada_NDAX.txt',\n",
       " 'Canada_OBSIDI.txt',\n",
       " 'Canada_PeakPowerInc.txt',\n",
       " 'Canada_Prelude.txt',\n",
       " 'Canada_ProdigyLabs.txt',\n",
       " 'Canada_ProlucidTechnologies.txt',\n",
       " 'Canada_RAMP.txt',\n",
       " 'Canada_RedManTechnologyLLC.txt',\n",
       " 'Canada_RobertHalf.txt',\n",
       " 'Canada_SearchLabs.txt',\n",
       " 'Canada_ShiftEnergy.txt',\n",
       " 'Canada_SoftwareInternational.txt',\n",
       " 'Canada_StackIT.txt',\n",
       " 'Canada_StellarDevelopment.txt',\n",
       " 'Canada_TechInsights.txt',\n",
       " 'Canada_Thoughtworks.txt',\n",
       " 'Canada_TrapezeGroup.txt',\n",
       " 'Canada_VistaProjects.txt',\n",
       " 'Canada_ZortechSolutions.txt']"
      ]
     },
     "execution_count": 6,
     "metadata": {},
     "output_type": "execute_result"
    }
   ],
   "source": [
    "# grab file names in corpus\n",
    "Canada_filenames = os.listdir(Canada_path)\n",
    "Canada_filenames"
   ]
  },
  {
   "cell_type": "code",
   "execution_count": 7,
   "id": "262c4787",
   "metadata": {},
   "outputs": [
    {
     "data": {
      "text/plain": [
       "50"
      ]
     },
     "execution_count": 7,
     "metadata": {},
     "output_type": "execute_result"
    }
   ],
   "source": [
    "doc_ids = []\n",
    "doc_text = []\n",
    "\n",
    "for filename in Canada_filenames:\n",
    "    doc_file = open(Canada_path+filename,encoding=\"utf-8\")\n",
    "    doc_lines = doc_file.readlines()\n",
    "    doc_lines = [line.strip() for line in doc_lines]\n",
    "    doc_lines = \"\".join(doc_lines)\n",
    "    doc_file.close()\n",
    "    \n",
    "    doc_id = filename.split(\".\")[0]\n",
    "    \n",
    "    doc_ids.append(doc_id)\n",
    "    doc_text.append(doc_lines)\n",
    "    \n",
    "len(doc_ids)"
   ]
  },
  {
   "cell_type": "code",
   "execution_count": 8,
   "id": "eb56ce5a",
   "metadata": {},
   "outputs": [
    {
     "data": {
      "text/plain": [
       "['Canada_Acumatica',\n",
       " 'Canada_AppliedSystemsCanada',\n",
       " 'Canada_AtimiSoftware',\n",
       " 'Canada_AtimiSoftware1',\n",
       " 'Canada_BeachHead',\n",
       " 'Canada_CanadianBankNote',\n",
       " 'Canada_ChitChats',\n",
       " 'Canada_ClubRunner',\n",
       " 'Canada_CommunityLiving',\n",
       " 'Canada_DAC',\n",
       " 'Canada_DataVisor',\n",
       " 'Canada_EpsilonSolutionsLtd',\n",
       " 'Canada_Experfy',\n",
       " 'Canada_ExpressScripts',\n",
       " 'Canada_FluorCorporation',\n",
       " 'Canada_GreenSlate1',\n",
       " 'Canada_HenrySchein',\n",
       " 'Canada_IMAGINiT',\n",
       " 'Canada_InsideDesk',\n",
       " 'Canada_IntegratedResources',\n",
       " 'Canada_Kabam',\n",
       " 'Canada_KlassCapital',\n",
       " 'Canada_KontingenceRecruitment',\n",
       " 'Canada_LinkusGroup',\n",
       " 'Canada_Manager',\n",
       " 'Canada_Mariner Innovations',\n",
       " 'Canada_MarinerInnovations',\n",
       " 'Canada_MarinerInnovations1',\n",
       " 'Canada_McGillStLaurent',\n",
       " 'Canada_Messagepoint',\n",
       " 'Canada_MindSource',\n",
       " 'Canada_NDAX',\n",
       " 'Canada_OBSIDI',\n",
       " 'Canada_PeakPowerInc',\n",
       " 'Canada_Prelude',\n",
       " 'Canada_ProdigyLabs',\n",
       " 'Canada_ProlucidTechnologies',\n",
       " 'Canada_RAMP',\n",
       " 'Canada_RedManTechnologyLLC',\n",
       " 'Canada_RobertHalf',\n",
       " 'Canada_SearchLabs',\n",
       " 'Canada_ShiftEnergy',\n",
       " 'Canada_SoftwareInternational',\n",
       " 'Canada_StackIT',\n",
       " 'Canada_StellarDevelopment',\n",
       " 'Canada_TechInsights',\n",
       " 'Canada_Thoughtworks',\n",
       " 'Canada_TrapezeGroup',\n",
       " 'Canada_VistaProjects',\n",
       " 'Canada_ZortechSolutions']"
      ]
     },
     "execution_count": 8,
     "metadata": {},
     "output_type": "execute_result"
    }
   ],
   "source": [
    "doc_ids"
   ]
  },
  {
   "cell_type": "code",
   "execution_count": 9,
   "id": "770509b0",
   "metadata": {},
   "outputs": [
    {
     "data": {
      "text/plain": [
       "'Canada\\tTechInsights\\tSoftware Developer\\tWe are looking for a skilled Software Developer to join one of our Agile Software Development teams. From time to time, the individual will lead projects, provide technical guidance, and mentorship to less experienced staff. The Developer will work closely with architecture, product, and operations to complete preliminary analysis, requirements definition, system design, development, integration, and testing the software.\\t\"Design software tools and applications to meet customer needs:Collaborates with Product Owners to determine functional and non-functional requirements for new software tools and applicationsTranslates requirements into technical specificationsArchitects, documents, designs and implements solutionsPerforms unit tests, integration tests, and end-to-end tests; participates in design and code reviewsLeads projects and provides technical guidancePerform software testing and deployment:Conducts automated and manual testing of the software and toolsWorks with internal users to perform user acceptance testing; reviews resultsWorks within schedules to release and roll out software to broader customer baseProvide software application and tools support to users:Acts as point of contact for technical and functional issues; triages reported problemsApplies patches, updates, and bug fixes; tracks, monitors, and closes bugs and issuesProvides training and guidance to users on applications and tools; often viewed as a go-to person within the domain\"\\t\"Post-secondary diploma or degree in Computer Science, Computer Systems or similar discipline or equivalent experienceEffective time management skills and the ability to plan and prioritize workloadStrong communication skills and the ability to elicit and understand requirementsStrong knowledge of software engineering fundamentalsExpert/Intermediate knowledge of programming languages including Java/Spring BootIntermediate knowledge of PythonWorking knowledge and experience with SQL/noSQL databases (e.g. PostgresQL, DynamoDB, Redis, Elasticsearch, DynamoDB, Terraform)Essential to have familiarity with software management tools including Jira, Confluence, or similarNice to have: experience designing and developing microservices; experience developing event-driven design and/or custom ETL solutions (e.g. Spark, Kafka, Kinesis); experience with Test Driven Design; and, CI/CD experience\"'"
      ]
     },
     "execution_count": 9,
     "metadata": {},
     "output_type": "execute_result"
    }
   ],
   "source": [
    "doc_text[45]"
   ]
  },
  {
   "cell_type": "markdown",
   "id": "a476c98e",
   "metadata": {},
   "source": [
    "# 1. Process Tokens"
   ]
  },
  {
   "cell_type": "markdown",
   "id": "5a8ebc75",
   "metadata": {},
   "source": [
    "Steps of processing text into tokens \n",
    "- Step 1 - tokenize\n",
    "- Step 2 - lower case\n",
    "- Step 3 - lemmatize\n",
    "- Step 4 - remove stop words\n",
    "\n",
    "Additional processing steps not required in this task\n",
    "- Step 5 - tagging parts-of-speech\n",
    "- Step 6 - chunking"
   ]
  },
  {
   "cell_type": "markdown",
   "id": "e0e46af1",
   "metadata": {},
   "source": [
    "NLTK references\n",
    "\n",
    "- API - https://www.nltk.org/\n",
    "- Tutorial - https://realpython.com/nltk-nlp-python/"
   ]
  },
  {
   "cell_type": "code",
   "execution_count": 10,
   "id": "390125fd",
   "metadata": {
    "scrolled": true
   },
   "outputs": [
    {
     "ename": "SyntaxError",
     "evalue": "invalid syntax (208563686.py, line 2)",
     "output_type": "error",
     "traceback": [
      "\u001b[1;36m  File \u001b[1;32m\"C:\\Users\\Карина\\AppData\\Local\\Temp\\ipykernel_13736\\208563686.py\"\u001b[1;36m, line \u001b[1;32m2\u001b[0m\n\u001b[1;33m    python -m pip install nltk==3.6\u001b[0m\n\u001b[1;37m              ^\u001b[0m\n\u001b[1;31mSyntaxError\u001b[0m\u001b[1;31m:\u001b[0m invalid syntax\n"
     ]
    }
   ],
   "source": [
    "# install nltk - run in command prompt (PC) or terminal (Mac)\n",
    "python -m pip install nltk==3.6\n",
    "### python -m pip install numpy matplotlib\n",
    "### python -m pip install pytest"
   ]
  },
  {
   "cell_type": "code",
   "execution_count": 11,
   "id": "242c73fe",
   "metadata": {},
   "outputs": [
    {
     "name": "stdout",
     "output_type": "stream",
     "text": [
      "Requirement already satisfied: nltk in c:\\python\\lib\\site-packages (3.8.1)\n",
      "Requirement already satisfied: click in c:\\python\\lib\\site-packages (from nltk) (8.0.4)\n",
      "Requirement already satisfied: tqdm in c:\\python\\lib\\site-packages (from nltk) (4.64.1)\n",
      "Requirement already satisfied: joblib in c:\\python\\lib\\site-packages (from nltk) (1.1.0)\n",
      "Requirement already satisfied: regex>=2021.8.3 in c:\\python\\lib\\site-packages (from nltk) (2022.7.9)\n",
      "Requirement already satisfied: colorama in c:\\python\\lib\\site-packages (from click->nltk) (0.4.5)\n",
      "Note: you may need to restart the kernel to use updated packages.\n"
     ]
    }
   ],
   "source": [
    "pip install -U nltk"
   ]
  },
  {
   "cell_type": "code",
   "execution_count": 12,
   "id": "b7d140ad",
   "metadata": {},
   "outputs": [],
   "source": [
    "import nltk.data"
   ]
  },
  {
   "cell_type": "code",
   "execution_count": 13,
   "id": "e006216c",
   "metadata": {},
   "outputs": [],
   "source": [
    "import nltk"
   ]
  },
  {
   "cell_type": "code",
   "execution_count": 14,
   "id": "bdd1094e",
   "metadata": {},
   "outputs": [
    {
     "name": "stderr",
     "output_type": "stream",
     "text": [
      "[nltk_data] Downloading package punkt to\n",
      "[nltk_data]     C:\\Users\\Карина\\AppData\\Roaming\\nltk_data...\n",
      "[nltk_data]   Package punkt is already up-to-date!\n"
     ]
    },
    {
     "data": {
      "text/plain": [
       "True"
      ]
     },
     "execution_count": 14,
     "metadata": {},
     "output_type": "execute_result"
    }
   ],
   "source": [
    "import nltk\n",
    "nltk.download('punkt')"
   ]
  },
  {
   "cell_type": "markdown",
   "id": "1efd7cb6",
   "metadata": {},
   "source": [
    "### Step 1.1 - tokenize"
   ]
  },
  {
   "cell_type": "code",
   "execution_count": 15,
   "id": "c395f268",
   "metadata": {},
   "outputs": [],
   "source": [
    "from nltk.tokenize import sent_tokenize, word_tokenize\n",
    "import io"
   ]
  },
  {
   "cell_type": "code",
   "execution_count": 16,
   "id": "e6c8c899",
   "metadata": {},
   "outputs": [
    {
     "data": {
      "text/plain": [
       "'Canada\\tTechInsights\\tSoftware Developer\\tWe are looking for a skilled Software Developer to join one of our Agile Software Development teams. From time to time, the individual will lead projects, provide technical guidance, and mentorship to less experienced staff. The Developer will work closely with architecture, product, and operations to complete preliminary analysis, requirements definition, system design, development, integration, and testing the software.\\t\"Design software tools and applications to meet customer needs:Collaborates with Product Owners to determine functional and non-functional requirements for new software tools and applicationsTranslates requirements into technical specificationsArchitects, documents, designs and implements solutionsPerforms unit tests, integration tests, and end-to-end tests; participates in design and code reviewsLeads projects and provides technical guidancePerform software testing and deployment:Conducts automated and manual testing of the software and toolsWorks with internal users to perform user acceptance testing; reviews resultsWorks within schedules to release and roll out software to broader customer baseProvide software application and tools support to users:Acts as point of contact for technical and functional issues; triages reported problemsApplies patches, updates, and bug fixes; tracks, monitors, and closes bugs and issuesProvides training and guidance to users on applications and tools; often viewed as a go-to person within the domain\"\\t\"Post-secondary diploma or degree in Computer Science, Computer Systems or similar discipline or equivalent experienceEffective time management skills and the ability to plan and prioritize workloadStrong communication skills and the ability to elicit and understand requirementsStrong knowledge of software engineering fundamentalsExpert/Intermediate knowledge of programming languages including Java/Spring BootIntermediate knowledge of PythonWorking knowledge and experience with SQL/noSQL databases (e.g. PostgresQL, DynamoDB, Redis, Elasticsearch, DynamoDB, Terraform)Essential to have familiarity with software management tools including Jira, Confluence, or similarNice to have: experience designing and developing microservices; experience developing event-driven design and/or custom ETL solutions (e.g. Spark, Kafka, Kinesis); experience with Test Driven Design; and, CI/CD experience\"'"
      ]
     },
     "execution_count": 16,
     "metadata": {},
     "output_type": "execute_result"
    }
   ],
   "source": [
    "doc_text[45]"
   ]
  },
  {
   "cell_type": "code",
   "execution_count": 17,
   "id": "99813821",
   "metadata": {},
   "outputs": [
    {
     "data": {
      "text/plain": [
       "50"
      ]
     },
     "execution_count": 17,
     "metadata": {},
     "output_type": "execute_result"
    }
   ],
   "source": [
    "doc_tokens = []\n",
    "\n",
    "for doc in doc_text:\n",
    "    doc_tokens.append(word_tokenize(doc))\n",
    "    \n",
    "len(doc_tokens)"
   ]
  },
  {
   "cell_type": "code",
   "execution_count": 18,
   "id": "917abed4",
   "metadata": {},
   "outputs": [
    {
     "data": {
      "text/plain": [
       "359"
      ]
     },
     "execution_count": 18,
     "metadata": {},
     "output_type": "execute_result"
    }
   ],
   "source": [
    "len(doc_tokens[45])"
   ]
  },
  {
   "cell_type": "code",
   "execution_count": 19,
   "id": "3ca88a32",
   "metadata": {},
   "outputs": [
    {
     "data": {
      "text/plain": [
       "['Canada',\n",
       " 'TechInsights',\n",
       " 'Software',\n",
       " 'Developer',\n",
       " 'We',\n",
       " 'are',\n",
       " 'looking',\n",
       " 'for',\n",
       " 'a',\n",
       " 'skilled',\n",
       " 'Software',\n",
       " 'Developer',\n",
       " 'to',\n",
       " 'join',\n",
       " 'one',\n",
       " 'of',\n",
       " 'our',\n",
       " 'Agile',\n",
       " 'Software',\n",
       " 'Development']"
      ]
     },
     "execution_count": 19,
     "metadata": {},
     "output_type": "execute_result"
    }
   ],
   "source": [
    "doc_tokens[45][0:20]"
   ]
  },
  {
   "cell_type": "markdown",
   "id": "e2accc16",
   "metadata": {},
   "source": [
    "### Step 1.2 - lower case"
   ]
  },
  {
   "cell_type": "code",
   "execution_count": 20,
   "id": "108e1696",
   "metadata": {},
   "outputs": [],
   "source": [
    "# for every list of tokens in doc_tokens, convert all tokens to lowercase\n",
    "doc_tokens_lower = [[token.casefold() for token in doc] for doc in doc_tokens]"
   ]
  },
  {
   "cell_type": "code",
   "execution_count": 21,
   "id": "c934c364",
   "metadata": {},
   "outputs": [
    {
     "data": {
      "text/plain": [
       "['canada',\n",
       " 'techinsights',\n",
       " 'software',\n",
       " 'developer',\n",
       " 'we',\n",
       " 'are',\n",
       " 'looking',\n",
       " 'for',\n",
       " 'a',\n",
       " 'skilled',\n",
       " 'software',\n",
       " 'developer',\n",
       " 'to',\n",
       " 'join',\n",
       " 'one',\n",
       " 'of',\n",
       " 'our',\n",
       " 'agile',\n",
       " 'software',\n",
       " 'development']"
      ]
     },
     "execution_count": 21,
     "metadata": {},
     "output_type": "execute_result"
    }
   ],
   "source": [
    "doc_tokens_lower[45][0:20]"
   ]
  },
  {
   "cell_type": "markdown",
   "id": "313d68a1",
   "metadata": {},
   "source": [
    "### Step 1.3 - lemmatize tokens"
   ]
  },
  {
   "cell_type": "code",
   "execution_count": 22,
   "id": "20de17a8",
   "metadata": {
    "scrolled": true
   },
   "outputs": [
    {
     "name": "stderr",
     "output_type": "stream",
     "text": [
      "[nltk_data] Downloading package omw-1.4 to\n",
      "[nltk_data]     C:\\Users\\Карина\\AppData\\Roaming\\nltk_data...\n",
      "[nltk_data]   Package omw-1.4 is already up-to-date!\n"
     ]
    },
    {
     "data": {
      "text/plain": [
       "True"
      ]
     },
     "execution_count": 22,
     "metadata": {},
     "output_type": "execute_result"
    }
   ],
   "source": [
    "import nltk\n",
    "from nltk.corpus import wordnet\n",
    "nltk.download('omw-1.4')"
   ]
  },
  {
   "cell_type": "code",
   "execution_count": 23,
   "id": "95e2d66d",
   "metadata": {},
   "outputs": [
    {
     "name": "stderr",
     "output_type": "stream",
     "text": [
      "[nltk_data] Downloading package wordnet to\n",
      "[nltk_data]     C:\\Users\\Карина\\AppData\\Roaming\\nltk_data...\n",
      "[nltk_data]   Package wordnet is already up-to-date!\n"
     ]
    },
    {
     "data": {
      "text/plain": [
       "True"
      ]
     },
     "execution_count": 23,
     "metadata": {},
     "output_type": "execute_result"
    }
   ],
   "source": [
    "import nltk\n",
    "nltk.download('wordnet')"
   ]
  },
  {
   "cell_type": "code",
   "execution_count": 24,
   "id": "6ae6e682",
   "metadata": {},
   "outputs": [],
   "source": [
    "lmtzr = nltk.WordNetLemmatizer()"
   ]
  },
  {
   "cell_type": "code",
   "execution_count": 25,
   "id": "d19b8ea0",
   "metadata": {},
   "outputs": [
    {
     "data": {
      "text/plain": [
       "50"
      ]
     },
     "execution_count": 25,
     "metadata": {},
     "output_type": "execute_result"
    }
   ],
   "source": [
    "# number of documents\n",
    "len(doc_tokens_lower)"
   ]
  },
  {
   "cell_type": "code",
   "execution_count": 26,
   "id": "343af3b5",
   "metadata": {},
   "outputs": [],
   "source": [
    "# for each doc in doc_tokens_no_stopwords, lemmatize all tokens in that doc\n",
    "doc_tokens_lemma = [[lmtzr.lemmatize(token) for token in doc] for doc in doc_tokens_lower]"
   ]
  },
  {
   "cell_type": "code",
   "execution_count": 27,
   "id": "669206e7",
   "metadata": {},
   "outputs": [
    {
     "data": {
      "text/plain": [
       "['canada',\n",
       " 'techinsights',\n",
       " 'software',\n",
       " 'developer',\n",
       " 'we',\n",
       " 'are',\n",
       " 'looking',\n",
       " 'for',\n",
       " 'a',\n",
       " 'skilled']"
      ]
     },
     "execution_count": 27,
     "metadata": {},
     "output_type": "execute_result"
    }
   ],
   "source": [
    "# first few tokens in first doc, before lemmatizing tokens\n",
    "doc_tokens_lower[45][0:10]"
   ]
  },
  {
   "cell_type": "code",
   "execution_count": 28,
   "id": "b80d98e2",
   "metadata": {},
   "outputs": [
    {
     "data": {
      "text/plain": [
       "['canadathoughtworks',\n",
       " 'canada',\n",
       " 'android',\n",
       " 'engineer',\n",
       " \"''\",\n",
       " 'our',\n",
       " 'software',\n",
       " 'engineer',\n",
       " 'build',\n",
       " 'product']"
      ]
     },
     "execution_count": 28,
     "metadata": {},
     "output_type": "execute_result"
    }
   ],
   "source": [
    "# first few tokens in first doc, after lemmatizing tokens\n",
    "doc_tokens_lemma[46][0:10]"
   ]
  },
  {
   "cell_type": "markdown",
   "id": "92526a51",
   "metadata": {},
   "source": [
    "### Step 1.4 - remove stop words"
   ]
  },
  {
   "cell_type": "code",
   "execution_count": 29,
   "id": "0386d176",
   "metadata": {
    "scrolled": true
   },
   "outputs": [
    {
     "name": "stderr",
     "output_type": "stream",
     "text": [
      "[nltk_data] Downloading package stopwords to\n",
      "[nltk_data]     C:\\Users\\Карина\\AppData\\Roaming\\nltk_data...\n",
      "[nltk_data]   Package stopwords is already up-to-date!\n"
     ]
    }
   ],
   "source": [
    "import nltk\n",
    "nltk.download(\"stopwords\")\n",
    "from nltk.corpus import stopwords\n",
    "from nltk.tokenize import word_tokenize"
   ]
  },
  {
   "cell_type": "code",
   "execution_count": 30,
   "id": "f9aaa10b",
   "metadata": {},
   "outputs": [],
   "source": [
    "stop_words = list(set(stopwords.words(\"english\")))"
   ]
  },
  {
   "cell_type": "code",
   "execution_count": 31,
   "id": "e8382425",
   "metadata": {},
   "outputs": [
    {
     "data": {
      "text/plain": [
       "[\"shouldn't\",\n",
       " 'from',\n",
       " 'them',\n",
       " 'during',\n",
       " 'our',\n",
       " 'what',\n",
       " 'ain',\n",
       " \"couldn't\",\n",
       " 'been',\n",
       " 'once',\n",
       " 'more',\n",
       " 'its',\n",
       " 'her',\n",
       " 'itself',\n",
       " 'is',\n",
       " 'against',\n",
       " 'only',\n",
       " 'yourself',\n",
       " 'he',\n",
       " 'and']"
      ]
     },
     "execution_count": 31,
     "metadata": {},
     "output_type": "execute_result"
    }
   ],
   "source": [
    "stop_words[0:20]"
   ]
  },
  {
   "cell_type": "code",
   "execution_count": 32,
   "id": "303a6b31",
   "metadata": {},
   "outputs": [
    {
     "data": {
      "text/plain": [
       "['``\\n',\n",
       " \"''\\n\",\n",
       " ',\\n',\n",
       " '.\\n',\n",
       " '?\\n',\n",
       " '!\\n',\n",
       " '[\\n',\n",
       " '\\n',\n",
       " \"'\\n\",\n",
       " ':\\n',\n",
       " ';\\n',\n",
       " '-\\n',\n",
       " 'ham\\n',\n",
       " 'v\\n',\n",
       " 'th\\n',\n",
       " 'qu\\n']"
      ]
     },
     "execution_count": 32,
     "metadata": {},
     "output_type": "execute_result"
    }
   ],
   "source": [
    "# append list of stop words\n",
    "filename_extra_stopwords = \"C:/Users/Карина/OneDrive/Рабочий стол/extra stopwords.txt\"\n",
    "file_extra_stopwords = open(filename_extra_stopwords)\n",
    "extra_stopwords = file_extra_stopwords.readlines()\n",
    "file_extra_stopwords.close()\n",
    "extra_stopwords"
   ]
  },
  {
   "cell_type": "code",
   "execution_count": 33,
   "id": "2b665bde",
   "metadata": {},
   "outputs": [
    {
     "data": {
      "text/plain": [
       "['``',\n",
       " \"''\",\n",
       " ',',\n",
       " '.',\n",
       " '?',\n",
       " '!',\n",
       " '[',\n",
       " '',\n",
       " \"'\",\n",
       " ':',\n",
       " ';',\n",
       " '-',\n",
       " 'ham',\n",
       " 'v',\n",
       " 'th',\n",
       " 'qu']"
      ]
     },
     "execution_count": 33,
     "metadata": {},
     "output_type": "execute_result"
    }
   ],
   "source": [
    "extra_stopwords = [word.strip() for word in extra_stopwords]\n",
    "extra_stopwords"
   ]
  },
  {
   "cell_type": "code",
   "execution_count": 34,
   "id": "6c5c8559",
   "metadata": {},
   "outputs": [
    {
     "data": {
      "text/plain": [
       "179"
      ]
     },
     "execution_count": 34,
     "metadata": {},
     "output_type": "execute_result"
    }
   ],
   "source": [
    "len(stop_words)"
   ]
  },
  {
   "cell_type": "code",
   "execution_count": 35,
   "id": "db0a8358",
   "metadata": {},
   "outputs": [
    {
     "data": {
      "text/plain": [
       "195"
      ]
     },
     "execution_count": 35,
     "metadata": {},
     "output_type": "execute_result"
    }
   ],
   "source": [
    "stop_words += extra_stopwords\n",
    "stop_words = list(set(stop_words))\n",
    "len(stop_words)"
   ]
  },
  {
   "cell_type": "code",
   "execution_count": 36,
   "id": "0e24d03e",
   "metadata": {},
   "outputs": [],
   "source": [
    "doc_tokens_processed = []\n",
    "\n",
    "for doc in doc_tokens_lemma:\n",
    "    \n",
    "    temp_token_list = []\n",
    "    \n",
    "    for token in doc:\n",
    "        \n",
    "        if (token not in stop_words) and (len(token) > 1):\n",
    "            \n",
    "            temp_token_list.append(token)\n",
    "    \n",
    "    doc_tokens_processed.append(temp_token_list)"
   ]
  },
  {
   "cell_type": "code",
   "execution_count": 37,
   "id": "bd1ff206",
   "metadata": {},
   "outputs": [
    {
     "data": {
      "text/plain": [
       "50"
      ]
     },
     "execution_count": 37,
     "metadata": {},
     "output_type": "execute_result"
    }
   ],
   "source": [
    "len(doc_tokens_processed)"
   ]
  },
  {
   "cell_type": "code",
   "execution_count": 38,
   "id": "c983097c",
   "metadata": {},
   "outputs": [
    {
     "data": {
      "text/plain": [
       "8"
      ]
     },
     "execution_count": 38,
     "metadata": {},
     "output_type": "execute_result"
    }
   ],
   "source": [
    "len(doc_tokens_lemma[45][10])"
   ]
  },
  {
   "cell_type": "code",
   "execution_count": 39,
   "id": "c204d4a1",
   "metadata": {},
   "outputs": [
    {
     "data": {
      "text/plain": [
       "['canada',\n",
       " 'techinsights',\n",
       " 'software',\n",
       " 'developer',\n",
       " 'we',\n",
       " 'are',\n",
       " 'looking',\n",
       " 'for',\n",
       " 'a',\n",
       " 'skilled']"
      ]
     },
     "execution_count": 39,
     "metadata": {},
     "output_type": "execute_result"
    }
   ],
   "source": [
    "# first few tokens in first doc, before removing stopwords\n",
    "doc_tokens_lemma[45][0:10]"
   ]
  },
  {
   "cell_type": "code",
   "execution_count": 40,
   "id": "903f6a86",
   "metadata": {},
   "outputs": [
    {
     "data": {
      "text/plain": [
       "['canada',\n",
       " 'techinsights',\n",
       " 'software',\n",
       " 'developer',\n",
       " 'looking',\n",
       " 'skilled',\n",
       " 'software',\n",
       " 'developer',\n",
       " 'join',\n",
       " 'one']"
      ]
     },
     "execution_count": 40,
     "metadata": {},
     "output_type": "execute_result"
    }
   ],
   "source": [
    "# first few tokens in first doc, after removing stopwords\n",
    "doc_tokens_processed[45][0:10]"
   ]
  },
  {
   "cell_type": "code",
   "execution_count": 41,
   "id": "552daaa1",
   "metadata": {},
   "outputs": [
    {
     "data": {
      "text/plain": [
       "359"
      ]
     },
     "execution_count": 41,
     "metadata": {},
     "output_type": "execute_result"
    }
   ],
   "source": [
    "# number of tokens in first doc, before removing stopwords\n",
    "len(doc_tokens_lemma[45])"
   ]
  },
  {
   "cell_type": "code",
   "execution_count": 42,
   "id": "2d1a7ba9",
   "metadata": {},
   "outputs": [
    {
     "data": {
      "text/plain": [
       "219"
      ]
     },
     "execution_count": 42,
     "metadata": {},
     "output_type": "execute_result"
    }
   ],
   "source": [
    "# number of tokens in first doc, after removing stopwords\n",
    "len(doc_tokens_processed[45])"
   ]
  },
  {
   "cell_type": "code",
   "execution_count": 43,
   "id": "b864f916",
   "metadata": {
    "scrolled": false
   },
   "outputs": [
    {
     "data": {
      "text/plain": [
       "['canada',\n",
       " 'techinsights',\n",
       " 'software',\n",
       " 'developer',\n",
       " 'looking',\n",
       " 'skilled',\n",
       " 'software',\n",
       " 'developer',\n",
       " 'join',\n",
       " 'one',\n",
       " 'agile',\n",
       " 'software',\n",
       " 'development',\n",
       " 'team',\n",
       " 'time',\n",
       " 'time',\n",
       " 'individual',\n",
       " 'lead',\n",
       " 'project',\n",
       " 'provide',\n",
       " 'technical',\n",
       " 'guidance',\n",
       " 'mentorship',\n",
       " 'le',\n",
       " 'experienced',\n",
       " 'staff',\n",
       " 'developer',\n",
       " 'work',\n",
       " 'closely',\n",
       " 'architecture',\n",
       " 'product',\n",
       " 'operation',\n",
       " 'complete',\n",
       " 'preliminary',\n",
       " 'analysis',\n",
       " 'requirement',\n",
       " 'definition',\n",
       " 'system',\n",
       " 'design',\n",
       " 'development',\n",
       " 'integration',\n",
       " 'testing',\n",
       " 'software',\n",
       " 'design',\n",
       " 'software',\n",
       " 'tool',\n",
       " 'application',\n",
       " 'meet',\n",
       " 'customer',\n",
       " 'need',\n",
       " 'collaborates',\n",
       " 'product',\n",
       " 'owner',\n",
       " 'determine',\n",
       " 'functional',\n",
       " 'non-functional',\n",
       " 'requirement',\n",
       " 'new',\n",
       " 'software',\n",
       " 'tool',\n",
       " 'applicationstranslates',\n",
       " 'requirement',\n",
       " 'technical',\n",
       " 'specificationsarchitects',\n",
       " 'document',\n",
       " 'design',\n",
       " 'implement',\n",
       " 'solutionsperforms',\n",
       " 'unit',\n",
       " 'test',\n",
       " 'integration',\n",
       " 'test',\n",
       " 'end-to-end',\n",
       " 'test',\n",
       " 'participates',\n",
       " 'design',\n",
       " 'code',\n",
       " 'reviewsleads',\n",
       " 'project',\n",
       " 'provides',\n",
       " 'technical',\n",
       " 'guidanceperform',\n",
       " 'software',\n",
       " 'testing',\n",
       " 'deployment',\n",
       " 'conduct',\n",
       " 'automated',\n",
       " 'manual',\n",
       " 'testing',\n",
       " 'software',\n",
       " 'toolsworks',\n",
       " 'internal',\n",
       " 'user',\n",
       " 'perform',\n",
       " 'user',\n",
       " 'acceptance',\n",
       " 'testing',\n",
       " 'review',\n",
       " 'resultsworks',\n",
       " 'within',\n",
       " 'schedule',\n",
       " 'release',\n",
       " 'roll',\n",
       " 'software',\n",
       " 'broader',\n",
       " 'customer',\n",
       " 'baseprovide',\n",
       " 'software',\n",
       " 'application',\n",
       " 'tool',\n",
       " 'support',\n",
       " 'user',\n",
       " 'act',\n",
       " 'point',\n",
       " 'contact',\n",
       " 'technical',\n",
       " 'functional',\n",
       " 'issue',\n",
       " 'triage',\n",
       " 'reported',\n",
       " 'problemsapplies',\n",
       " 'patch',\n",
       " 'update',\n",
       " 'bug',\n",
       " 'fix',\n",
       " 'track',\n",
       " 'monitor',\n",
       " 'close',\n",
       " 'bug',\n",
       " 'issuesprovides',\n",
       " 'training',\n",
       " 'guidance',\n",
       " 'user',\n",
       " 'application',\n",
       " 'tool',\n",
       " 'often',\n",
       " 'viewed',\n",
       " 'go-to',\n",
       " 'person',\n",
       " 'within',\n",
       " 'domain',\n",
       " 'post-secondary',\n",
       " 'diploma',\n",
       " 'degree',\n",
       " 'computer',\n",
       " 'science',\n",
       " 'computer',\n",
       " 'system',\n",
       " 'similar',\n",
       " 'discipline',\n",
       " 'equivalent',\n",
       " 'experienceeffective',\n",
       " 'time',\n",
       " 'management',\n",
       " 'skill',\n",
       " 'ability',\n",
       " 'plan',\n",
       " 'prioritize',\n",
       " 'workloadstrong',\n",
       " 'communication',\n",
       " 'skill',\n",
       " 'ability',\n",
       " 'elicit',\n",
       " 'understand',\n",
       " 'requirementsstrong',\n",
       " 'knowledge',\n",
       " 'software',\n",
       " 'engineering',\n",
       " 'fundamentalsexpert/intermediate',\n",
       " 'knowledge',\n",
       " 'programming',\n",
       " 'language',\n",
       " 'including',\n",
       " 'java/spring',\n",
       " 'bootintermediate',\n",
       " 'knowledge',\n",
       " 'pythonworking',\n",
       " 'knowledge',\n",
       " 'experience',\n",
       " 'sql/nosql',\n",
       " 'database',\n",
       " 'e.g',\n",
       " 'postgresql',\n",
       " 'dynamodb',\n",
       " 'redis',\n",
       " 'elasticsearch',\n",
       " 'dynamodb',\n",
       " 'terraform',\n",
       " 'essential',\n",
       " 'familiarity',\n",
       " 'software',\n",
       " 'management',\n",
       " 'tool',\n",
       " 'including',\n",
       " 'jira',\n",
       " 'confluence',\n",
       " 'similarnice',\n",
       " 'experience',\n",
       " 'designing',\n",
       " 'developing',\n",
       " 'microservices',\n",
       " 'experience',\n",
       " 'developing',\n",
       " 'event-driven',\n",
       " 'design',\n",
       " 'and/or',\n",
       " 'custom',\n",
       " 'etl',\n",
       " 'solution',\n",
       " 'e.g',\n",
       " 'spark',\n",
       " 'kafka',\n",
       " 'kinesis',\n",
       " 'experience',\n",
       " 'test',\n",
       " 'driven',\n",
       " 'design',\n",
       " 'ci/cd',\n",
       " 'experience']"
      ]
     },
     "execution_count": 43,
     "metadata": {},
     "output_type": "execute_result"
    }
   ],
   "source": [
    "doc_tokens_processed[45]"
   ]
  },
  {
   "cell_type": "code",
   "execution_count": 44,
   "id": "9e2740af",
   "metadata": {},
   "outputs": [],
   "source": [
    "# add stopwords to \"extra stopwords.txt\" and run Step 2.4 again"
   ]
  },
  {
   "cell_type": "code",
   "execution_count": 45,
   "id": "5f1c8e76",
   "metadata": {},
   "outputs": [],
   "source": [
    "import pickle"
   ]
  },
  {
   "cell_type": "code",
   "execution_count": 46,
   "id": "ef460ed6",
   "metadata": {},
   "outputs": [],
   "source": [
    "# pickle doc_tokens_processed\n",
    "fileout = open(\"doc_tokens_processed.pkl\",'wb')\n",
    "stuff_to_pickle = [doc_ids,doc_text,doc_tokens_processed]\n",
    "pickle.dump(stuff_to_pickle,fileout)"
   ]
  },
  {
   "cell_type": "code",
   "execution_count": null,
   "id": "342be2f5",
   "metadata": {},
   "outputs": [],
   "source": []
  },
  {
   "cell_type": "markdown",
   "id": "0b843121",
   "metadata": {},
   "source": [
    "# 2. Keyword Analysis"
   ]
  },
  {
   "cell_type": "code",
   "execution_count": null,
   "id": "0a3bbe41",
   "metadata": {},
   "outputs": [],
   "source": []
  },
  {
   "cell_type": "code",
   "execution_count": null,
   "id": "edef4e08",
   "metadata": {},
   "outputs": [],
   "source": []
  },
  {
   "cell_type": "markdown",
   "id": "9b9f2b25",
   "metadata": {},
   "source": [
    "# 3. Latent Topic Analysis"
   ]
  },
  {
   "cell_type": "code",
   "execution_count": null,
   "id": "dec10bc6",
   "metadata": {},
   "outputs": [],
   "source": []
  },
  {
   "cell_type": "code",
   "execution_count": null,
   "id": "a96c6465",
   "metadata": {},
   "outputs": [],
   "source": []
  }
 ],
 "metadata": {
  "kernelspec": {
   "display_name": "Python 3 (ipykernel)",
   "language": "python",
   "name": "python3"
  },
  "language_info": {
   "codemirror_mode": {
    "name": "ipython",
    "version": 3
   },
   "file_extension": ".py",
   "mimetype": "text/x-python",
   "name": "python",
   "nbconvert_exporter": "python",
   "pygments_lexer": "ipython3",
   "version": "3.9.13"
  }
 },
 "nbformat": 4,
 "nbformat_minor": 5
}
