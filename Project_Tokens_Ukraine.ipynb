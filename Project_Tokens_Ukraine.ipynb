{
 "cells": [
  {
   "cell_type": "markdown",
   "id": "5abc2516",
   "metadata": {},
   "source": [
    "# Task 4.1 - Process Tokens"
   ]
  },
  {
   "cell_type": "markdown",
   "id": "a787b81c",
   "metadata": {},
   "source": [
    "### Steps\n",
    "\n",
    "0. Preliminary Steps: Construct & Import Corpus\n",
    "1. Process Tokens\n",
    "2. Keyword Analysis\n",
    "3. Latent Topic Analysis"
   ]
  },
  {
   "cell_type": "markdown",
   "id": "4620f1c5",
   "metadata": {},
   "source": [
    "# 0. Construct Corpus"
   ]
  },
  {
   "cell_type": "code",
   "execution_count": 1,
   "id": "ed080e36",
   "metadata": {},
   "outputs": [
    {
     "name": "stdout",
     "output_type": "stream",
     "text": [
      "Note: you may need to restart the kernel to use updated packages.\n"
     ]
    },
    {
     "name": "stderr",
     "output_type": "stream",
     "text": [
      "WARNING: Retrying (Retry(total=4, connect=None, read=None, redirect=None, status=None)) after connection broken by 'NewConnectionError('<pip._vendor.urllib3.connection.HTTPSConnection object at 0x000002583E3F3250>: Failed to establish a new connection: [Errno 11001] getaddrinfo failed')': /simple/os/\n",
      "WARNING: Retrying (Retry(total=3, connect=None, read=None, redirect=None, status=None)) after connection broken by 'NewConnectionError('<pip._vendor.urllib3.connection.HTTPSConnection object at 0x000002583E3F3580>: Failed to establish a new connection: [Errno 11001] getaddrinfo failed')': /simple/os/\n",
      "WARNING: Retrying (Retry(total=2, connect=None, read=None, redirect=None, status=None)) after connection broken by 'NewConnectionError('<pip._vendor.urllib3.connection.HTTPSConnection object at 0x000002583E3F3880>: Failed to establish a new connection: [Errno 11001] getaddrinfo failed')': /simple/os/\n",
      "WARNING: Retrying (Retry(total=1, connect=None, read=None, redirect=None, status=None)) after connection broken by 'NewConnectionError('<pip._vendor.urllib3.connection.HTTPSConnection object at 0x000002583E3F3A30>: Failed to establish a new connection: [Errno 11001] getaddrinfo failed')': /simple/os/\n",
      "WARNING: Retrying (Retry(total=0, connect=None, read=None, redirect=None, status=None)) after connection broken by 'NewConnectionError('<pip._vendor.urllib3.connection.HTTPSConnection object at 0x000002583E3F3BE0>: Failed to establish a new connection: [Errno 11001] getaddrinfo failed')': /simple/os/\n",
      "ERROR: Could not find a version that satisfies the requirement os (from versions: none)\n",
      "ERROR: No matching distribution found for os\n"
     ]
    }
   ],
   "source": [
    "pip install os\n"
   ]
  },
  {
   "cell_type": "code",
   "execution_count": null,
   "id": "6e793b47",
   "metadata": {},
   "outputs": [],
   "source": []
  },
  {
   "cell_type": "markdown",
   "id": "83cfed3d",
   "metadata": {},
   "source": [
    "# 0. Import Corpus"
   ]
  },
  {
   "cell_type": "code",
   "execution_count": 4,
   "id": "f1c8c700",
   "metadata": {},
   "outputs": [],
   "source": [
    "import pandas as pd\n",
    "import os #Operating System"
   ]
  },
  {
   "cell_type": "code",
   "execution_count": 5,
   "id": "e21ed104",
   "metadata": {},
   "outputs": [],
   "source": [
    "# corpus path\n",
    "Ukraine_path = \"C:/Users/Карина/OneDrive/Документы/4 th year/Computational Social Science/Ukraine_Text/\""
   ]
  },
  {
   "cell_type": "code",
   "execution_count": 6,
   "id": "304370ba",
   "metadata": {},
   "outputs": [],
   "source": [
    "# corpus index file name\n",
    "Ukraine_Linkedin_filename = \"C:/Users/Карина/OneDrive/Документы/4 th year/Computational Social Science/Ukraine_JobPostings.xlsx\""
   ]
  },
  {
   "cell_type": "code",
   "execution_count": 7,
   "id": "e72233cd",
   "metadata": {},
   "outputs": [
    {
     "data": {
      "text/plain": [
       "(50, 8)"
      ]
     },
     "execution_count": 7,
     "metadata": {},
     "output_type": "execute_result"
    }
   ],
   "source": [
    "# import corpus index\n",
    "Ukraine_JobPostings = pd.read_excel(Ukraine_Linkedin_filename, header=0)\n",
    "Ukraine_JobPostings.shape"
   ]
  },
  {
   "cell_type": "code",
   "execution_count": 8,
   "id": "81fef585",
   "metadata": {},
   "outputs": [
    {
     "data": {
      "text/html": [
       "<div>\n",
       "<style scoped>\n",
       "    .dataframe tbody tr th:only-of-type {\n",
       "        vertical-align: middle;\n",
       "    }\n",
       "\n",
       "    .dataframe tbody tr th {\n",
       "        vertical-align: top;\n",
       "    }\n",
       "\n",
       "    .dataframe thead th {\n",
       "        text-align: right;\n",
       "    }\n",
       "</style>\n",
       "<table border=\"1\" class=\"dataframe\">\n",
       "  <thead>\n",
       "    <tr style=\"text-align: right;\">\n",
       "      <th></th>\n",
       "      <th>ID</th>\n",
       "      <th>Country</th>\n",
       "      <th>URL</th>\n",
       "      <th>Organization</th>\n",
       "      <th>Position</th>\n",
       "      <th>Job Description</th>\n",
       "      <th>Responsibilities</th>\n",
       "      <th>Job Requirements</th>\n",
       "    </tr>\n",
       "  </thead>\n",
       "  <tbody>\n",
       "    <tr>\n",
       "      <th>0</th>\n",
       "      <td>1</td>\n",
       "      <td>Ukraine</td>\n",
       "      <td>https://www.linkedin.com/jobs/search/?currentJ...</td>\n",
       "      <td>LoopMe</td>\n",
       "      <td>Frontend Developer</td>\n",
       "      <td>As Frontend Engineer you will work closely wit...</td>\n",
       "      <td>Develop features and performance optimizat...</td>\n",
       "      <td>Good sense of humor\\n    Proactive attitud...</td>\n",
       "    </tr>\n",
       "    <tr>\n",
       "      <th>1</th>\n",
       "      <td>2</td>\n",
       "      <td>Ukraine</td>\n",
       "      <td>https://www.linkedin.com/jobs/view/3532114981/...</td>\n",
       "      <td>Token Metrics</td>\n",
       "      <td>Crypto Growth Hacker (Remote)</td>\n",
       "      <td>Token Metrics is looking for an experienced Gr...</td>\n",
       "      <td>Identifying, developing and optimizing growth ...</td>\n",
       "      <td>A bachelor's degree in marketing, strategy, bu...</td>\n",
       "    </tr>\n",
       "    <tr>\n",
       "      <th>2</th>\n",
       "      <td>3</td>\n",
       "      <td>Ukraine</td>\n",
       "      <td>https://www.linkedin.com/jobs/view/3542777004/...</td>\n",
       "      <td>N-iX</td>\n",
       "      <td>Trainee Data Engineer</td>\n",
       "      <td>We are looking for a motivated Trainee Data En...</td>\n",
       "      <td>Assist senior data engineers in developing and...</td>\n",
       "      <td>Bachelor's degree in Computer Science, Informa...</td>\n",
       "    </tr>\n",
       "    <tr>\n",
       "      <th>3</th>\n",
       "      <td>4</td>\n",
       "      <td>Ukraine</td>\n",
       "      <td>https://www.linkedin.com/jobs/view/3541980766/...</td>\n",
       "      <td>airSlate</td>\n",
       "      <td>Middle PHP developer</td>\n",
       "      <td>airSlate welcomes a talented Middle PHP develo...</td>\n",
       "      <td>Development and implementation of content gene...</td>\n",
       "      <td>2+ years of experience working with PHP progra...</td>\n",
       "    </tr>\n",
       "    <tr>\n",
       "      <th>4</th>\n",
       "      <td>5</td>\n",
       "      <td>Ukraine</td>\n",
       "      <td>https://www.linkedin.com/jobs/view/3516656459/...</td>\n",
       "      <td>INGENIOUS.BUILD</td>\n",
       "      <td>Back End Developer (Remote)</td>\n",
       "      <td>We are looking for a talented Back End Develop...</td>\n",
       "      <td>Collaborate with your team to plan, build, and...</td>\n",
       "      <td>PHP / Laravel.\\nREST.\\nRelational databases.\\n...</td>\n",
       "    </tr>\n",
       "    <tr>\n",
       "      <th>5</th>\n",
       "      <td>6</td>\n",
       "      <td>Ukraine</td>\n",
       "      <td>https://www.linkedin.com/jobs/view/3534856320/...</td>\n",
       "      <td>Delasport</td>\n",
       "      <td>Junior Java Developer (full-time office job, K...</td>\n",
       "      <td>Delasport is an iGaming Software company provi...</td>\n",
       "      <td>Development of new business initiatives, exten...</td>\n",
       "      <td>1+ year of commercial programming experience u...</td>\n",
       "    </tr>\n",
       "    <tr>\n",
       "      <th>6</th>\n",
       "      <td>7</td>\n",
       "      <td>Ukraine</td>\n",
       "      <td>https://www.linkedin.com/jobs/view/3534574870/...</td>\n",
       "      <td>N-iX</td>\n",
       "      <td>Senior Angular Software Engineer</td>\n",
       "      <td>We are looking for a skilled Senior Angular So...</td>\n",
       "      <td>Development in JavaScript/Typescript/ HTML5/ C...</td>\n",
       "      <td>A programming background with 6 years + profes...</td>\n",
       "    </tr>\n",
       "    <tr>\n",
       "      <th>7</th>\n",
       "      <td>8</td>\n",
       "      <td>Ukraine</td>\n",
       "      <td>https://www.linkedin.com/jobs/view/3469089693/...</td>\n",
       "      <td>TITAN</td>\n",
       "      <td>Full Stack Developer</td>\n",
       "      <td>We are looking for an experienced and ambitiou...</td>\n",
       "      <td>Plan, implement, and innovate features with cu...</td>\n",
       "      <td>&gt;5 years as a full stack developer with Deep k...</td>\n",
       "    </tr>\n",
       "    <tr>\n",
       "      <th>8</th>\n",
       "      <td>9</td>\n",
       "      <td>Ukraine</td>\n",
       "      <td>https://www.linkedin.com/jobs/view/3550790711/...</td>\n",
       "      <td>KEVURU GAMES</td>\n",
       "      <td>Middle C++ Game Developer</td>\n",
       "      <td>All our employees choose what they are interes...</td>\n",
       "      <td>Unreal Engine Development;\\nDesign and develop...</td>\n",
       "      <td>Minimum 4 years of C++ development;\\nKnowledge...</td>\n",
       "    </tr>\n",
       "    <tr>\n",
       "      <th>9</th>\n",
       "      <td>10</td>\n",
       "      <td>Ukraine</td>\n",
       "      <td>https://www.linkedin.com/jobs/view/3532118313/...</td>\n",
       "      <td>Token Metrics</td>\n",
       "      <td>Crypto Full Stack Developer (Remote)</td>\n",
       "      <td>Token Metrics is looking for a highly skilled ...</td>\n",
       "      <td>Developing front end website architecture\\nDes...</td>\n",
       "      <td>Degree in Computer Science\\nStrong organizatio...</td>\n",
       "    </tr>\n",
       "    <tr>\n",
       "      <th>10</th>\n",
       "      <td>11</td>\n",
       "      <td>Ukraine</td>\n",
       "      <td>https://www.linkedin.com/jobs/view/3442087639/...</td>\n",
       "      <td>ScholarshipOwl</td>\n",
       "      <td>Front-End Developer</td>\n",
       "      <td>You are an experienced and self-driven front-e...</td>\n",
       "      <td>Develop and refine new functionalities in the ...</td>\n",
       "      <td>Have at least 5 years of commercial experience...</td>\n",
       "    </tr>\n",
       "    <tr>\n",
       "      <th>11</th>\n",
       "      <td>12</td>\n",
       "      <td>Ukraine</td>\n",
       "      <td>https://www.linkedin.com/jobs/view/3527663884/...</td>\n",
       "      <td>Globaldev Group</td>\n",
       "      <td>BI Developer</td>\n",
       "      <td>The project is to build a new BI solution that...</td>\n",
       "      <td>Lead the development &amp; implementation of Powe...</td>\n",
       "      <td>3+ years of working experience in BI;\\nExperie...</td>\n",
       "    </tr>\n",
       "    <tr>\n",
       "      <th>12</th>\n",
       "      <td>13</td>\n",
       "      <td>Ukraine</td>\n",
       "      <td>https://www.linkedin.com/jobs/view/3504255363/...</td>\n",
       "      <td>N-iX</td>\n",
       "      <td>Android System Engineer</td>\n",
       "      <td>N-iX is looking for a bright Android System En...</td>\n",
       "      <td>Meaningful experience delivering commercial cu...</td>\n",
       "      <td>Customization of Android System Framework for ...</td>\n",
       "    </tr>\n",
       "    <tr>\n",
       "      <th>13</th>\n",
       "      <td>14</td>\n",
       "      <td>Ukraine</td>\n",
       "      <td>https://www.linkedin.com/jobs/view/3531681894/...</td>\n",
       "      <td>PerceptionBox - Offshore Staffing Partner</td>\n",
       "      <td>Java Developer</td>\n",
       "      <td>On behalf of our client PerceptionBox is looki...</td>\n",
       "      <td>As a Java Software Engineer, you will be in ch...</td>\n",
       "      <td>English level – B1+\\n4+ years of Java developm...</td>\n",
       "    </tr>\n",
       "    <tr>\n",
       "      <th>14</th>\n",
       "      <td>15</td>\n",
       "      <td>Ukraine</td>\n",
       "      <td>https://www.linkedin.com/jobs/view/3543938193/...</td>\n",
       "      <td>Atto Trading</td>\n",
       "      <td>Quantitative Developer</td>\n",
       "      <td>work in close cooperation with quants to produ...</td>\n",
       "      <td>design and develop and support high-performanc...</td>\n",
       "      <td>strong programming experience in C++, and Pyth...</td>\n",
       "    </tr>\n",
       "    <tr>\n",
       "      <th>15</th>\n",
       "      <td>16</td>\n",
       "      <td>Ukraine</td>\n",
       "      <td>https://www.linkedin.com/jobs/view/3549569253/...</td>\n",
       "      <td>Optimove</td>\n",
       "      <td>C# Fullstack Developer</td>\n",
       "      <td>Based in central Tel Aviv, our R&amp;D operation i...</td>\n",
       "      <td>Design and develop full-stack end-to-end solut...</td>\n",
       "      <td>B.Sc. in computer science or equivalent\\nAt le...</td>\n",
       "    </tr>\n",
       "    <tr>\n",
       "      <th>16</th>\n",
       "      <td>17</td>\n",
       "      <td>Ukraine</td>\n",
       "      <td>https://www.linkedin.com/jobs/view/3437406881/...</td>\n",
       "      <td>Joyride Autos</td>\n",
       "      <td>Software Engineer</td>\n",
       "      <td>This role is an individual contributor and wil...</td>\n",
       "      <td>Work with our lead engineer/architect on produ...</td>\n",
       "      <td>5+ years in full-stack development role\\n3+ ye...</td>\n",
       "    </tr>\n",
       "    <tr>\n",
       "      <th>17</th>\n",
       "      <td>18</td>\n",
       "      <td>Ukraine</td>\n",
       "      <td>https://www.linkedin.com/jobs/view/3536013949/...</td>\n",
       "      <td>FTD solutions INC</td>\n",
       "      <td>PHP Web Developer</td>\n",
       "      <td>FTD Solutions is a one-of-a-kind technology fi...</td>\n",
       "      <td>The ideal candidate for web developer should b...</td>\n",
       "      <td>Working languages: pure PHP, JavaScript AJAX\\n...</td>\n",
       "    </tr>\n",
       "    <tr>\n",
       "      <th>18</th>\n",
       "      <td>19</td>\n",
       "      <td>Ukraine</td>\n",
       "      <td>https://www.linkedin.com/jobs/view/3541322775/...</td>\n",
       "      <td>Gunzilla Games</td>\n",
       "      <td>Flutter Developer</td>\n",
       "      <td>Gunzilla Games is seeking a Flutter Developer ...</td>\n",
       "      <td>Design and develop the core features and syste...</td>\n",
       "      <td>Minimum of 2 years of experience in mobile app...</td>\n",
       "    </tr>\n",
       "    <tr>\n",
       "      <th>19</th>\n",
       "      <td>20</td>\n",
       "      <td>Ukraine</td>\n",
       "      <td>https://www.linkedin.com/jobs/view/3550770565/...</td>\n",
       "      <td>Delasport</td>\n",
       "      <td>Middle Java Developer</td>\n",
       "      <td>Delasport is an iGaming Software company provi...</td>\n",
       "      <td>Development of new business initiatives, an ex...</td>\n",
       "      <td>3+ years of commercial development experience ...</td>\n",
       "    </tr>\n",
       "    <tr>\n",
       "      <th>20</th>\n",
       "      <td>21</td>\n",
       "      <td>Ukraine</td>\n",
       "      <td>https://www.linkedin.com/jobs/view/3541978354/...</td>\n",
       "      <td>Playtika</td>\n",
       "      <td>JavaScript Developer</td>\n",
       "      <td>We are looking for a JavaScript Developer to j...</td>\n",
       "      <td>Writing logic for new features on the client-s...</td>\n",
       "      <td>3+ years of experience with JavaScript and Typ...</td>\n",
       "    </tr>\n",
       "    <tr>\n",
       "      <th>21</th>\n",
       "      <td>22</td>\n",
       "      <td>Ukraine</td>\n",
       "      <td>https://www.linkedin.com/jobs/view/3533238986/...</td>\n",
       "      <td>SIS, LLC</td>\n",
       "      <td>Data Engineer</td>\n",
       "      <td>SIS is a Microsoft Gold Certified Partner. We ...</td>\n",
       "      <td>The Data Engineer is responsible for data extr...</td>\n",
       "      <td>A degree in data analytics, computer science, ...</td>\n",
       "    </tr>\n",
       "    <tr>\n",
       "      <th>22</th>\n",
       "      <td>23</td>\n",
       "      <td>Ukraine</td>\n",
       "      <td>https://www.linkedin.com/jobs/view/3533213433/...</td>\n",
       "      <td>PerceptionBox - Offshore Staffing Partner</td>\n",
       "      <td>Middle Node.js Developer</td>\n",
       "      <td>On behalf of our client PerceptionBox is looki...</td>\n",
       "      <td>New features development;\\n\\nCode review and o...</td>\n",
       "      <td>At least 3+ years of commercial software devel...</td>\n",
       "    </tr>\n",
       "    <tr>\n",
       "      <th>23</th>\n",
       "      <td>24</td>\n",
       "      <td>Ukraine</td>\n",
       "      <td>https://www.linkedin.com/jobs/view/3537421811/...</td>\n",
       "      <td>SIS, LLC</td>\n",
       "      <td>Dynamics 365 FO Developer</td>\n",
       "      <td>SIS is a Microsoft Gold Certified Partner. We ...</td>\n",
       "      <td>Investigates, analyzes, and identifies key bus...</td>\n",
       "      <td>2+ years’ experience with Dynamics 365 FO deve...</td>\n",
       "    </tr>\n",
       "    <tr>\n",
       "      <th>24</th>\n",
       "      <td>25</td>\n",
       "      <td>Ukraine</td>\n",
       "      <td>https://www.linkedin.com/jobs/view/3521408220/...</td>\n",
       "      <td>Newage IO</td>\n",
       "      <td>Middle BackEnd (PHP Laravel) Engineer</td>\n",
       "      <td>Newage.iois a product-led company connecting p...</td>\n",
       "      <td>Implementing the new features to the product;\\...</td>\n",
       "      <td>3+ years of commercial experience with PHP 7+ ...</td>\n",
       "    </tr>\n",
       "    <tr>\n",
       "      <th>25</th>\n",
       "      <td>26</td>\n",
       "      <td>Ukraine</td>\n",
       "      <td>https://www.linkedin.com/jobs/search/?currentJ...</td>\n",
       "      <td>Intellias</td>\n",
       "      <td>TIBCO Integration Engineer</td>\n",
       "      <td>\\nOur customer is fast grown FinTech startup i...</td>\n",
       "      <td>Assessing and designing different integration ...</td>\n",
       "      <td>About 2 to 5 years of professional background ...</td>\n",
       "    </tr>\n",
       "    <tr>\n",
       "      <th>26</th>\n",
       "      <td>27</td>\n",
       "      <td>Ukraine</td>\n",
       "      <td>https://www.linkedin.com/jobs/search/?currentJ...</td>\n",
       "      <td>Synergetica</td>\n",
       "      <td>Senior Unreal Engine Developer</td>\n",
       "      <td>Our customer is an Israeli next-generation con...</td>\n",
       "      <td>Building an Unreal plugin in C++\\nCollaboratin...</td>\n",
       "      <td>5+ years of experience with C++\\n2+ years of p...</td>\n",
       "    </tr>\n",
       "    <tr>\n",
       "      <th>27</th>\n",
       "      <td>28</td>\n",
       "      <td>Ukraine</td>\n",
       "      <td>https://www.linkedin.com/jobs/search/?currentJ...</td>\n",
       "      <td>OnHires</td>\n",
       "      <td>Security Engineer</td>\n",
       "      <td>We are looking for a security engineer (or a s...</td>\n",
       "      <td>Strong understanding of programming language c...</td>\n",
       "      <td>2+ years of experience with software developme...</td>\n",
       "    </tr>\n",
       "    <tr>\n",
       "      <th>28</th>\n",
       "      <td>29</td>\n",
       "      <td>Ukraine</td>\n",
       "      <td>https://www.linkedin.com/jobs/search/?currentJ...</td>\n",
       "      <td>Luxoft</td>\n",
       "      <td>Senior Golang Developer</td>\n",
       "      <td>Our Client is the world's largest manufacturer...</td>\n",
       "      <td>Infrastructure development, development of new...</td>\n",
       "      <td>Total years of commercial experience 7 years a...</td>\n",
       "    </tr>\n",
       "    <tr>\n",
       "      <th>29</th>\n",
       "      <td>30</td>\n",
       "      <td>Ukraine</td>\n",
       "      <td>https://www.linkedin.com/jobs/search/?currentJ...</td>\n",
       "      <td>Solution Mentors Inc</td>\n",
       "      <td>Senior Genesys Engineer</td>\n",
       "      <td>We are looking for a Senior Contact Center eng...</td>\n",
       "      <td>• Min of 3 years’ experience working on Genesy...</td>\n",
       "      <td>• 5+ years' of hands-on experience in coding/d...</td>\n",
       "    </tr>\n",
       "    <tr>\n",
       "      <th>30</th>\n",
       "      <td>31</td>\n",
       "      <td>Ukraine</td>\n",
       "      <td>https://www.linkedin.com/jobs/search/?currentJ...</td>\n",
       "      <td>EJaw</td>\n",
       "      <td>JavaScript Game Developer</td>\n",
       "      <td>We are developing a frontend part of arcade ga...</td>\n",
       "      <td>Write well-optimized, high quality and clean ...</td>\n",
       "      <td>3+ years of experience as a JavaScript/TypeSc...</td>\n",
       "    </tr>\n",
       "    <tr>\n",
       "      <th>31</th>\n",
       "      <td>32</td>\n",
       "      <td>Ukraine</td>\n",
       "      <td>https://www.linkedin.com/jobs/search/?currentJ...</td>\n",
       "      <td>EDB</td>\n",
       "      <td>Kubernetes Operator Developer</td>\n",
       "      <td>We are looking for a Go Developer with advance...</td>\n",
       "      <td>Work in our Cloud Native Core team, designing ...</td>\n",
       "      <td>4+ years experience in a software engineering ...</td>\n",
       "    </tr>\n",
       "    <tr>\n",
       "      <th>32</th>\n",
       "      <td>33</td>\n",
       "      <td>Ukraine</td>\n",
       "      <td>https://www.linkedin.com/jobs/search/?currentJ...</td>\n",
       "      <td>Pixels Matter, Inc.</td>\n",
       "      <td>Android Developer</td>\n",
       "      <td>We are a leading provider of technology conten...</td>\n",
       "      <td>Collaborate with Mobile, Firmware and Hardware...</td>\n",
       "      <td>Highly experienced in Mobile Application devel...</td>\n",
       "    </tr>\n",
       "    <tr>\n",
       "      <th>33</th>\n",
       "      <td>34</td>\n",
       "      <td>Ukraine</td>\n",
       "      <td>https://www.linkedin.com/jobs/search/?currentJ...</td>\n",
       "      <td>PlayMe Studio</td>\n",
       "      <td>Game Economy Designer</td>\n",
       "      <td>At PlayMe Studio we are creating mobile games ...</td>\n",
       "      <td>Develop and maintain in-game economies that ba...</td>\n",
       "      <td>Bachelor’s degree in Economics, Statistics, Ma...</td>\n",
       "    </tr>\n",
       "    <tr>\n",
       "      <th>34</th>\n",
       "      <td>35</td>\n",
       "      <td>Ukraine</td>\n",
       "      <td>https://www.linkedin.com/jobs/search/?currentJ...</td>\n",
       "      <td>EDB</td>\n",
       "      <td>Senior Software Engineer - Python Tooling</td>\n",
       "      <td>We are looking to hire a Senior Software Engin...</td>\n",
       "      <td>You will report to the Engineering Manager and...</td>\n",
       "      <td>Minimum of 4-5 years of professional developme...</td>\n",
       "    </tr>\n",
       "    <tr>\n",
       "      <th>35</th>\n",
       "      <td>36</td>\n",
       "      <td>Ukraine</td>\n",
       "      <td>https://www.linkedin.com/jobs/search/?currentJ...</td>\n",
       "      <td>MentorMate</td>\n",
       "      <td>Senior Scala Developer</td>\n",
       "      <td>You will participate in the creation of enterp...</td>\n",
       "      <td>Develop web business solutions based on Scala ...</td>\n",
       "      <td>4+ years of experience in developing Scala/Jav...</td>\n",
       "    </tr>\n",
       "    <tr>\n",
       "      <th>36</th>\n",
       "      <td>37</td>\n",
       "      <td>Ukraine</td>\n",
       "      <td>https://www.linkedin.com/jobs/search/?currentJ...</td>\n",
       "      <td>TuneIn</td>\n",
       "      <td>Senior Software Engineer, iOS</td>\n",
       "      <td>From phones and tablets to watches and cars, T...</td>\n",
       "      <td>Cooperate with Product, Design, and other Engi...</td>\n",
       "      <td>Excellent working knowledge of Swift, Objectiv...</td>\n",
       "    </tr>\n",
       "    <tr>\n",
       "      <th>37</th>\n",
       "      <td>38</td>\n",
       "      <td>Ukraine</td>\n",
       "      <td>https://www.linkedin.com/jobs/search/?currentJ...</td>\n",
       "      <td>Room 8 Group</td>\n",
       "      <td>Middle Jira Developer</td>\n",
       "      <td>Room 8 Group is a uniting force of Room 8 Stud...</td>\n",
       "      <td>Develop plugins for Jira, and Confluence;\\nDev...</td>\n",
       "      <td>3+ years of experience as a Jira Administrator...</td>\n",
       "    </tr>\n",
       "    <tr>\n",
       "      <th>38</th>\n",
       "      <td>39</td>\n",
       "      <td>Ukraine</td>\n",
       "      <td>https://www.linkedin.com/jobs/search/?currentJ...</td>\n",
       "      <td>GlobalLogic</td>\n",
       "      <td>Strong Middle Tableau developer</td>\n",
       "      <td>Symbotic is an automation technology leader re...</td>\n",
       "      <td>Being part of the geo-distributed team\\nAbilit...</td>\n",
       "      <td>2-4 years of work experience as Data Engineer ...</td>\n",
       "    </tr>\n",
       "    <tr>\n",
       "      <th>39</th>\n",
       "      <td>40</td>\n",
       "      <td>Ukraine</td>\n",
       "      <td>https://www.linkedin.com/jobs/search/?currentJ...</td>\n",
       "      <td>Seeking Alpha</td>\n",
       "      <td>Senior Back-end Developer (RoR)</td>\n",
       "      <td>Seeking Alpha helps over 200K users to invest ...</td>\n",
       "      <td>Develop API for modern cross-platform responsi...</td>\n",
       "      <td>Experience in OOP and MVC design and developme...</td>\n",
       "    </tr>\n",
       "    <tr>\n",
       "      <th>40</th>\n",
       "      <td>41</td>\n",
       "      <td>Ukraine</td>\n",
       "      <td>https://www.linkedin.com/jobs/search/?currentJ...</td>\n",
       "      <td>RemotelyTalents</td>\n",
       "      <td>Senior Python Developer</td>\n",
       "      <td>As a Senior Backend Developer, you’ll be joini...</td>\n",
       "      <td>Responsible for entire lifecycle of new featur...</td>\n",
       "      <td>5+ years of experience as a developer\\n3+ year...</td>\n",
       "    </tr>\n",
       "    <tr>\n",
       "      <th>41</th>\n",
       "      <td>42</td>\n",
       "      <td>Ukraine</td>\n",
       "      <td>https://www.linkedin.com/jobs/search/?currentJ...</td>\n",
       "      <td>Nortal</td>\n",
       "      <td>Senior Back End Engineer</td>\n",
       "      <td>The Back End software engineer is a practition...</td>\n",
       "      <td>Be a part of a cross-functional team or a prac...</td>\n",
       "      <td>Strong experience in Rest API and micro servic...</td>\n",
       "    </tr>\n",
       "    <tr>\n",
       "      <th>42</th>\n",
       "      <td>43</td>\n",
       "      <td>Ukraine</td>\n",
       "      <td>https://www.linkedin.com/jobs/search/?currentJ...</td>\n",
       "      <td>PerfectScale</td>\n",
       "      <td>Backend Engineer</td>\n",
       "      <td>We are looking for an experienced Golang backe...</td>\n",
       "      <td>Work closely with a strong team of experts and...</td>\n",
       "      <td>4+ years of backend experience (Go, Java, Rust...</td>\n",
       "    </tr>\n",
       "    <tr>\n",
       "      <th>43</th>\n",
       "      <td>44</td>\n",
       "      <td>Ukraine</td>\n",
       "      <td>https://www.linkedin.com/jobs/search/?currentJ...</td>\n",
       "      <td>Tide</td>\n",
       "      <td>Senior Java Engineer</td>\n",
       "      <td>As a Senior Java Engineer at Tide you will be ...</td>\n",
       "      <td>Defining, owning and maintaining the services ...</td>\n",
       "      <td>Have some experience building server-side appl...</td>\n",
       "    </tr>\n",
       "    <tr>\n",
       "      <th>44</th>\n",
       "      <td>45</td>\n",
       "      <td>Ukraine</td>\n",
       "      <td>https://www.linkedin.com/jobs/search/?currentJ...</td>\n",
       "      <td>PlayQ</td>\n",
       "      <td>Senior Unity3D Engineer</td>\n",
       "      <td>We are looking for a talented Senior Unity3D E...</td>\n",
       "      <td>Design game modules, covering diverse game mec...</td>\n",
       "      <td>Extensive knowledge of Unity3D and C#/.NET Fra...</td>\n",
       "    </tr>\n",
       "    <tr>\n",
       "      <th>45</th>\n",
       "      <td>46</td>\n",
       "      <td>Ukraine</td>\n",
       "      <td>https://www.linkedin.com/jobs/search/?currentJ...</td>\n",
       "      <td>3Shape</td>\n",
       "      <td>AX Developer</td>\n",
       "      <td>3Shape is looking for a motivated full-time AX...</td>\n",
       "      <td>Delivering high quality business and software ...</td>\n",
       "      <td>Excellent Interpersonal Skills\\nAt least 4+ ye...</td>\n",
       "    </tr>\n",
       "    <tr>\n",
       "      <th>46</th>\n",
       "      <td>47</td>\n",
       "      <td>Ukraine</td>\n",
       "      <td>https://www.linkedin.com/jobs/search/?currentJ...</td>\n",
       "      <td>Sigma Software Group</td>\n",
       "      <td>Senior Ruby Developer</td>\n",
       "      <td>We are inviting a skilled and inspired Ruby on...</td>\n",
       "      <td>Develop and launch new capabilities to adapt t...</td>\n",
       "      <td>5+ years of professional software development ...</td>\n",
       "    </tr>\n",
       "    <tr>\n",
       "      <th>47</th>\n",
       "      <td>48</td>\n",
       "      <td>Ukraine</td>\n",
       "      <td>https://www.linkedin.com/jobs/search/?currentJ...</td>\n",
       "      <td>Apptimized - Application Logistics</td>\n",
       "      <td>Senior Full Stack Developer</td>\n",
       "      <td>We are looking for a Full Stack Developer to b...</td>\n",
       "      <td>Be proactive, participate in the decision-maki...</td>\n",
       "      <td>At least 5 years of software development exper...</td>\n",
       "    </tr>\n",
       "    <tr>\n",
       "      <th>48</th>\n",
       "      <td>49</td>\n",
       "      <td>Ukraine</td>\n",
       "      <td>https://www.linkedin.com/jobs/search/?currentJ...</td>\n",
       "      <td>Ciklum</td>\n",
       "      <td>Senior Python Developer</td>\n",
       "      <td>As a Senior Python Developer, become a part of...</td>\n",
       "      <td>Design, develop, maintain and deploy our inter...</td>\n",
       "      <td>At least 5 years of experience in Software dev...</td>\n",
       "    </tr>\n",
       "    <tr>\n",
       "      <th>49</th>\n",
       "      <td>50</td>\n",
       "      <td>Ukraine</td>\n",
       "      <td>https://www.linkedin.com/jobs/search/?currentJ...</td>\n",
       "      <td>EPAM Anywhere</td>\n",
       "      <td>Senior SAP BO Engineer</td>\n",
       "      <td>We are seeking a highly motivated and experien...</td>\n",
       "      <td>Develop and maintain SAP BO universes for diff...</td>\n",
       "      <td>3+ years of experience in decision support sys...</td>\n",
       "    </tr>\n",
       "  </tbody>\n",
       "</table>\n",
       "</div>"
      ],
      "text/plain": [
       "    ID  Country                                                URL  \\\n",
       "0    1  Ukraine  https://www.linkedin.com/jobs/search/?currentJ...   \n",
       "1    2  Ukraine  https://www.linkedin.com/jobs/view/3532114981/...   \n",
       "2    3  Ukraine  https://www.linkedin.com/jobs/view/3542777004/...   \n",
       "3    4  Ukraine  https://www.linkedin.com/jobs/view/3541980766/...   \n",
       "4    5  Ukraine  https://www.linkedin.com/jobs/view/3516656459/...   \n",
       "5    6  Ukraine  https://www.linkedin.com/jobs/view/3534856320/...   \n",
       "6    7  Ukraine  https://www.linkedin.com/jobs/view/3534574870/...   \n",
       "7    8  Ukraine  https://www.linkedin.com/jobs/view/3469089693/...   \n",
       "8    9  Ukraine  https://www.linkedin.com/jobs/view/3550790711/...   \n",
       "9   10  Ukraine  https://www.linkedin.com/jobs/view/3532118313/...   \n",
       "10  11  Ukraine  https://www.linkedin.com/jobs/view/3442087639/...   \n",
       "11  12  Ukraine  https://www.linkedin.com/jobs/view/3527663884/...   \n",
       "12  13  Ukraine  https://www.linkedin.com/jobs/view/3504255363/...   \n",
       "13  14  Ukraine  https://www.linkedin.com/jobs/view/3531681894/...   \n",
       "14  15  Ukraine  https://www.linkedin.com/jobs/view/3543938193/...   \n",
       "15  16  Ukraine  https://www.linkedin.com/jobs/view/3549569253/...   \n",
       "16  17  Ukraine  https://www.linkedin.com/jobs/view/3437406881/...   \n",
       "17  18  Ukraine  https://www.linkedin.com/jobs/view/3536013949/...   \n",
       "18  19  Ukraine  https://www.linkedin.com/jobs/view/3541322775/...   \n",
       "19  20  Ukraine  https://www.linkedin.com/jobs/view/3550770565/...   \n",
       "20  21  Ukraine  https://www.linkedin.com/jobs/view/3541978354/...   \n",
       "21  22  Ukraine  https://www.linkedin.com/jobs/view/3533238986/...   \n",
       "22  23  Ukraine  https://www.linkedin.com/jobs/view/3533213433/...   \n",
       "23  24  Ukraine  https://www.linkedin.com/jobs/view/3537421811/...   \n",
       "24  25  Ukraine  https://www.linkedin.com/jobs/view/3521408220/...   \n",
       "25  26  Ukraine  https://www.linkedin.com/jobs/search/?currentJ...   \n",
       "26  27  Ukraine  https://www.linkedin.com/jobs/search/?currentJ...   \n",
       "27  28  Ukraine  https://www.linkedin.com/jobs/search/?currentJ...   \n",
       "28  29  Ukraine  https://www.linkedin.com/jobs/search/?currentJ...   \n",
       "29  30  Ukraine  https://www.linkedin.com/jobs/search/?currentJ...   \n",
       "30  31  Ukraine  https://www.linkedin.com/jobs/search/?currentJ...   \n",
       "31  32  Ukraine  https://www.linkedin.com/jobs/search/?currentJ...   \n",
       "32  33  Ukraine  https://www.linkedin.com/jobs/search/?currentJ...   \n",
       "33  34  Ukraine  https://www.linkedin.com/jobs/search/?currentJ...   \n",
       "34  35  Ukraine  https://www.linkedin.com/jobs/search/?currentJ...   \n",
       "35  36  Ukraine  https://www.linkedin.com/jobs/search/?currentJ...   \n",
       "36  37  Ukraine  https://www.linkedin.com/jobs/search/?currentJ...   \n",
       "37  38  Ukraine  https://www.linkedin.com/jobs/search/?currentJ...   \n",
       "38  39  Ukraine  https://www.linkedin.com/jobs/search/?currentJ...   \n",
       "39  40  Ukraine  https://www.linkedin.com/jobs/search/?currentJ...   \n",
       "40  41  Ukraine  https://www.linkedin.com/jobs/search/?currentJ...   \n",
       "41  42  Ukraine  https://www.linkedin.com/jobs/search/?currentJ...   \n",
       "42  43  Ukraine  https://www.linkedin.com/jobs/search/?currentJ...   \n",
       "43  44  Ukraine  https://www.linkedin.com/jobs/search/?currentJ...   \n",
       "44  45  Ukraine  https://www.linkedin.com/jobs/search/?currentJ...   \n",
       "45  46  Ukraine  https://www.linkedin.com/jobs/search/?currentJ...   \n",
       "46  47  Ukraine  https://www.linkedin.com/jobs/search/?currentJ...   \n",
       "47  48  Ukraine  https://www.linkedin.com/jobs/search/?currentJ...   \n",
       "48  49  Ukraine  https://www.linkedin.com/jobs/search/?currentJ...   \n",
       "49  50  Ukraine  https://www.linkedin.com/jobs/search/?currentJ...   \n",
       "\n",
       "                                  Organization  \\\n",
       "0                                      LoopMe    \n",
       "1                                Token Metrics   \n",
       "2                                         N-iX   \n",
       "3                                     airSlate   \n",
       "4                              INGENIOUS.BUILD   \n",
       "5                                   Delasport    \n",
       "6                                        N-iX    \n",
       "7                                       TITAN    \n",
       "8                                 KEVURU GAMES   \n",
       "9                                Token Metrics   \n",
       "10                              ScholarshipOwl   \n",
       "11                             Globaldev Group   \n",
       "12                                        N-iX   \n",
       "13   PerceptionBox - Offshore Staffing Partner   \n",
       "14                                Atto Trading   \n",
       "15                                    Optimove   \n",
       "16                               Joyride Autos   \n",
       "17                           FTD solutions INC   \n",
       "18                              Gunzilla Games   \n",
       "19                                  Delasport    \n",
       "20                                    Playtika   \n",
       "21                                    SIS, LLC   \n",
       "22  PerceptionBox - Offshore Staffing Partner    \n",
       "23                                    SIS, LLC   \n",
       "24                                  Newage IO    \n",
       "25                                   Intellias   \n",
       "26                                 Synergetica   \n",
       "27                                     OnHires   \n",
       "28                                      Luxoft   \n",
       "29                       Solution Mentors Inc    \n",
       "30                                       EJaw    \n",
       "31                                        EDB    \n",
       "32                         Pixels Matter, Inc.   \n",
       "33                               PlayMe Studio   \n",
       "34                                         EDB   \n",
       "35                                  MentorMate   \n",
       "36                                      TuneIn   \n",
       "37                                Room 8 Group   \n",
       "38                                GlobalLogic    \n",
       "39                               Seeking Alpha   \n",
       "40                             RemotelyTalents   \n",
       "41                                     Nortal    \n",
       "42                                PerfectScale   \n",
       "43                                       Tide    \n",
       "44                                       PlayQ   \n",
       "45                                     3Shape    \n",
       "46                        Sigma Software Group   \n",
       "47          Apptimized - Application Logistics   \n",
       "48                                     Ciklum    \n",
       "49                              EPAM Anywhere    \n",
       "\n",
       "                                             Position  \\\n",
       "0                                  Frontend Developer   \n",
       "1                       Crypto Growth Hacker (Remote)   \n",
       "2                               Trainee Data Engineer   \n",
       "3                                Middle PHP developer   \n",
       "4                         Back End Developer (Remote)   \n",
       "5   Junior Java Developer (full-time office job, K...   \n",
       "6                    Senior Angular Software Engineer   \n",
       "7                                Full Stack Developer   \n",
       "8                           Middle C++ Game Developer   \n",
       "9                Crypto Full Stack Developer (Remote)   \n",
       "10                                Front-End Developer   \n",
       "11                                       BI Developer   \n",
       "12                            Android System Engineer   \n",
       "13                                     Java Developer   \n",
       "14                             Quantitative Developer   \n",
       "15                             C# Fullstack Developer   \n",
       "16                                  Software Engineer   \n",
       "17                                  PHP Web Developer   \n",
       "18                                  Flutter Developer   \n",
       "19                              Middle Java Developer   \n",
       "20                               JavaScript Developer   \n",
       "21                                      Data Engineer   \n",
       "22                           Middle Node.js Developer   \n",
       "23                          Dynamics 365 FO Developer   \n",
       "24              Middle BackEnd (PHP Laravel) Engineer   \n",
       "25                         TIBCO Integration Engineer   \n",
       "26                     Senior Unreal Engine Developer   \n",
       "27                                  Security Engineer   \n",
       "28                           Senior Golang Developer    \n",
       "29                            Senior Genesys Engineer   \n",
       "30                          JavaScript Game Developer   \n",
       "31                      Kubernetes Operator Developer   \n",
       "32                                  Android Developer   \n",
       "33                              Game Economy Designer   \n",
       "34          Senior Software Engineer - Python Tooling   \n",
       "35                            Senior Scala Developer    \n",
       "36                      Senior Software Engineer, iOS   \n",
       "37                              Middle Jira Developer   \n",
       "38                    Strong Middle Tableau developer   \n",
       "39                    Senior Back-end Developer (RoR)   \n",
       "40                            Senior Python Developer   \n",
       "41                           Senior Back End Engineer   \n",
       "42                                   Backend Engineer   \n",
       "43                               Senior Java Engineer   \n",
       "44                            Senior Unity3D Engineer   \n",
       "45                                       AX Developer   \n",
       "46                              Senior Ruby Developer   \n",
       "47                        Senior Full Stack Developer   \n",
       "48                            Senior Python Developer   \n",
       "49                             Senior SAP BO Engineer   \n",
       "\n",
       "                                      Job Description  \\\n",
       "0   As Frontend Engineer you will work closely wit...   \n",
       "1   Token Metrics is looking for an experienced Gr...   \n",
       "2   We are looking for a motivated Trainee Data En...   \n",
       "3   airSlate welcomes a talented Middle PHP develo...   \n",
       "4   We are looking for a talented Back End Develop...   \n",
       "5   Delasport is an iGaming Software company provi...   \n",
       "6   We are looking for a skilled Senior Angular So...   \n",
       "7   We are looking for an experienced and ambitiou...   \n",
       "8   All our employees choose what they are interes...   \n",
       "9   Token Metrics is looking for a highly skilled ...   \n",
       "10  You are an experienced and self-driven front-e...   \n",
       "11  The project is to build a new BI solution that...   \n",
       "12  N-iX is looking for a bright Android System En...   \n",
       "13  On behalf of our client PerceptionBox is looki...   \n",
       "14  work in close cooperation with quants to produ...   \n",
       "15  Based in central Tel Aviv, our R&D operation i...   \n",
       "16  This role is an individual contributor and wil...   \n",
       "17  FTD Solutions is a one-of-a-kind technology fi...   \n",
       "18  Gunzilla Games is seeking a Flutter Developer ...   \n",
       "19  Delasport is an iGaming Software company provi...   \n",
       "20  We are looking for a JavaScript Developer to j...   \n",
       "21  SIS is a Microsoft Gold Certified Partner. We ...   \n",
       "22  On behalf of our client PerceptionBox is looki...   \n",
       "23  SIS is a Microsoft Gold Certified Partner. We ...   \n",
       "24  Newage.iois a product-led company connecting p...   \n",
       "25  \\nOur customer is fast grown FinTech startup i...   \n",
       "26  Our customer is an Israeli next-generation con...   \n",
       "27  We are looking for a security engineer (or a s...   \n",
       "28  Our Client is the world's largest manufacturer...   \n",
       "29  We are looking for a Senior Contact Center eng...   \n",
       "30  We are developing a frontend part of arcade ga...   \n",
       "31  We are looking for a Go Developer with advance...   \n",
       "32  We are a leading provider of technology conten...   \n",
       "33  At PlayMe Studio we are creating mobile games ...   \n",
       "34  We are looking to hire a Senior Software Engin...   \n",
       "35  You will participate in the creation of enterp...   \n",
       "36  From phones and tablets to watches and cars, T...   \n",
       "37  Room 8 Group is a uniting force of Room 8 Stud...   \n",
       "38  Symbotic is an automation technology leader re...   \n",
       "39  Seeking Alpha helps over 200K users to invest ...   \n",
       "40  As a Senior Backend Developer, you’ll be joini...   \n",
       "41  The Back End software engineer is a practition...   \n",
       "42  We are looking for an experienced Golang backe...   \n",
       "43  As a Senior Java Engineer at Tide you will be ...   \n",
       "44  We are looking for a talented Senior Unity3D E...   \n",
       "45  3Shape is looking for a motivated full-time AX...   \n",
       "46  We are inviting a skilled and inspired Ruby on...   \n",
       "47  We are looking for a Full Stack Developer to b...   \n",
       "48  As a Senior Python Developer, become a part of...   \n",
       "49  We are seeking a highly motivated and experien...   \n",
       "\n",
       "                                     Responsibilities  \\\n",
       "0       Develop features and performance optimizat...   \n",
       "1   Identifying, developing and optimizing growth ...   \n",
       "2   Assist senior data engineers in developing and...   \n",
       "3   Development and implementation of content gene...   \n",
       "4   Collaborate with your team to plan, build, and...   \n",
       "5   Development of new business initiatives, exten...   \n",
       "6   Development in JavaScript/Typescript/ HTML5/ C...   \n",
       "7   Plan, implement, and innovate features with cu...   \n",
       "8   Unreal Engine Development;\\nDesign and develop...   \n",
       "9   Developing front end website architecture\\nDes...   \n",
       "10  Develop and refine new functionalities in the ...   \n",
       "11   Lead the development & implementation of Powe...   \n",
       "12  Meaningful experience delivering commercial cu...   \n",
       "13  As a Java Software Engineer, you will be in ch...   \n",
       "14  design and develop and support high-performanc...   \n",
       "15  Design and develop full-stack end-to-end solut...   \n",
       "16  Work with our lead engineer/architect on produ...   \n",
       "17  The ideal candidate for web developer should b...   \n",
       "18  Design and develop the core features and syste...   \n",
       "19  Development of new business initiatives, an ex...   \n",
       "20  Writing logic for new features on the client-s...   \n",
       "21  The Data Engineer is responsible for data extr...   \n",
       "22  New features development;\\n\\nCode review and o...   \n",
       "23  Investigates, analyzes, and identifies key bus...   \n",
       "24  Implementing the new features to the product;\\...   \n",
       "25  Assessing and designing different integration ...   \n",
       "26  Building an Unreal plugin in C++\\nCollaboratin...   \n",
       "27  Strong understanding of programming language c...   \n",
       "28  Infrastructure development, development of new...   \n",
       "29  • Min of 3 years’ experience working on Genesy...   \n",
       "30   Write well-optimized, high quality and clean ...   \n",
       "31  Work in our Cloud Native Core team, designing ...   \n",
       "32  Collaborate with Mobile, Firmware and Hardware...   \n",
       "33  Develop and maintain in-game economies that ba...   \n",
       "34  You will report to the Engineering Manager and...   \n",
       "35  Develop web business solutions based on Scala ...   \n",
       "36  Cooperate with Product, Design, and other Engi...   \n",
       "37  Develop plugins for Jira, and Confluence;\\nDev...   \n",
       "38  Being part of the geo-distributed team\\nAbilit...   \n",
       "39  Develop API for modern cross-platform responsi...   \n",
       "40  Responsible for entire lifecycle of new featur...   \n",
       "41  Be a part of a cross-functional team or a prac...   \n",
       "42  Work closely with a strong team of experts and...   \n",
       "43  Defining, owning and maintaining the services ...   \n",
       "44  Design game modules, covering diverse game mec...   \n",
       "45  Delivering high quality business and software ...   \n",
       "46  Develop and launch new capabilities to adapt t...   \n",
       "47  Be proactive, participate in the decision-maki...   \n",
       "48  Design, develop, maintain and deploy our inter...   \n",
       "49  Develop and maintain SAP BO universes for diff...   \n",
       "\n",
       "                                     Job Requirements  \n",
       "0       Good sense of humor\\n    Proactive attitud...  \n",
       "1   A bachelor's degree in marketing, strategy, bu...  \n",
       "2   Bachelor's degree in Computer Science, Informa...  \n",
       "3   2+ years of experience working with PHP progra...  \n",
       "4   PHP / Laravel.\\nREST.\\nRelational databases.\\n...  \n",
       "5   1+ year of commercial programming experience u...  \n",
       "6   A programming background with 6 years + profes...  \n",
       "7   >5 years as a full stack developer with Deep k...  \n",
       "8   Minimum 4 years of C++ development;\\nKnowledge...  \n",
       "9   Degree in Computer Science\\nStrong organizatio...  \n",
       "10  Have at least 5 years of commercial experience...  \n",
       "11  3+ years of working experience in BI;\\nExperie...  \n",
       "12  Customization of Android System Framework for ...  \n",
       "13  English level – B1+\\n4+ years of Java developm...  \n",
       "14  strong programming experience in C++, and Pyth...  \n",
       "15  B.Sc. in computer science or equivalent\\nAt le...  \n",
       "16  5+ years in full-stack development role\\n3+ ye...  \n",
       "17  Working languages: pure PHP, JavaScript AJAX\\n...  \n",
       "18  Minimum of 2 years of experience in mobile app...  \n",
       "19  3+ years of commercial development experience ...  \n",
       "20  3+ years of experience with JavaScript and Typ...  \n",
       "21  A degree in data analytics, computer science, ...  \n",
       "22  At least 3+ years of commercial software devel...  \n",
       "23  2+ years’ experience with Dynamics 365 FO deve...  \n",
       "24  3+ years of commercial experience with PHP 7+ ...  \n",
       "25  About 2 to 5 years of professional background ...  \n",
       "26  5+ years of experience with C++\\n2+ years of p...  \n",
       "27  2+ years of experience with software developme...  \n",
       "28  Total years of commercial experience 7 years a...  \n",
       "29  • 5+ years' of hands-on experience in coding/d...  \n",
       "30   3+ years of experience as a JavaScript/TypeSc...  \n",
       "31  4+ years experience in a software engineering ...  \n",
       "32  Highly experienced in Mobile Application devel...  \n",
       "33  Bachelor’s degree in Economics, Statistics, Ma...  \n",
       "34  Minimum of 4-5 years of professional developme...  \n",
       "35  4+ years of experience in developing Scala/Jav...  \n",
       "36  Excellent working knowledge of Swift, Objectiv...  \n",
       "37  3+ years of experience as a Jira Administrator...  \n",
       "38  2-4 years of work experience as Data Engineer ...  \n",
       "39  Experience in OOP and MVC design and developme...  \n",
       "40  5+ years of experience as a developer\\n3+ year...  \n",
       "41  Strong experience in Rest API and micro servic...  \n",
       "42  4+ years of backend experience (Go, Java, Rust...  \n",
       "43  Have some experience building server-side appl...  \n",
       "44  Extensive knowledge of Unity3D and C#/.NET Fra...  \n",
       "45  Excellent Interpersonal Skills\\nAt least 4+ ye...  \n",
       "46  5+ years of professional software development ...  \n",
       "47  At least 5 years of software development exper...  \n",
       "48  At least 5 years of experience in Software dev...  \n",
       "49  3+ years of experience in decision support sys...  "
      ]
     },
     "execution_count": 8,
     "metadata": {},
     "output_type": "execute_result"
    }
   ],
   "source": [
    "Ukraine_JobPostings"
   ]
  },
  {
   "cell_type": "code",
   "execution_count": 10,
   "id": "37a56aed",
   "metadata": {},
   "outputs": [
    {
     "data": {
      "text/plain": [
       "['Ukraine_3Shape.txt',\n",
       " 'Ukraine_airSlate.txt',\n",
       " 'Ukraine_Apptimized.txt',\n",
       " 'Ukraine_AttoTrading.txt',\n",
       " 'Ukraine_Ciklum.txt',\n",
       " 'Ukraine_Delasport.txt',\n",
       " 'Ukraine_Delasport\\xa0.txt',\n",
       " 'Ukraine_EDB.txt',\n",
       " 'Ukraine_EDB1.txt',\n",
       " 'Ukraine_EJaw.txt',\n",
       " 'Ukraine_EPAMAnywhere.txt',\n",
       " 'Ukraine_FTDsolutions.txt',\n",
       " 'Ukraine_GlobaldevGroup.txt',\n",
       " 'Ukraine_GlobalLogic.txt',\n",
       " 'Ukraine_GunzillaGames.txt',\n",
       " 'Ukraine_IngeniousBuild.txt',\n",
       " 'Ukraine_Intellias.txt',\n",
       " 'Ukraine_JoyrideAutos.txt',\n",
       " 'Ukraine_KevuruGames.txt',\n",
       " 'Ukraine_LoopMe.txt',\n",
       " 'Ukraine_Luxoft.txt',\n",
       " 'Ukraine_MentorMate.txt',\n",
       " 'Ukraine_Newage.txt',\n",
       " 'Ukraine_NiX.txt',\n",
       " 'Ukraine_NiX1.txt',\n",
       " 'Ukraine_NiX3.txt',\n",
       " 'Ukraine_Nortal.txt',\n",
       " 'Ukraine_OnHires.txt',\n",
       " 'Ukraine_Optimove.txt',\n",
       " 'Ukraine_PerceptionBox.txt',\n",
       " 'Ukraine_PerceptionBox1.txt',\n",
       " 'Ukraine_PerfectScale.txt',\n",
       " 'Ukraine_PixelsMatter.txt',\n",
       " 'Ukraine_PlayMeStudio.txt',\n",
       " 'Ukraine_PlayQ.txt',\n",
       " 'Ukraine_Playtika.txt',\n",
       " 'Ukraine_RemotelyTalents.txt',\n",
       " 'Ukraine_RoomGroup.txt',\n",
       " 'Ukraine_ScholarshipOwl.txt',\n",
       " 'Ukraine_SeekingAlpha.txt',\n",
       " 'Ukraine_SigmaSoftwareGroup.txt',\n",
       " 'Ukraine_SIS.txt',\n",
       " 'Ukraine_SIS1.txt',\n",
       " 'Ukraine_SolutionMentors.txt',\n",
       " 'Ukraine_Synergetica.txt',\n",
       " 'Ukraine_Tide.txt',\n",
       " 'Ukraine_Titan.txt',\n",
       " 'Ukraine_TokenMetrics.txt',\n",
       " 'Ukraine_TokenMetrics1.txt',\n",
       " 'Ukraine_TuneIn.txt']"
      ]
     },
     "execution_count": 10,
     "metadata": {},
     "output_type": "execute_result"
    }
   ],
   "source": [
    "# grab file names in corpus\n",
    "Ukraine_filenames = os.listdir(Ukraine_path)\n",
    "Ukraine_filenames"
   ]
  },
  {
   "cell_type": "code",
   "execution_count": 11,
   "id": "262c4787",
   "metadata": {},
   "outputs": [
    {
     "data": {
      "text/plain": [
       "50"
      ]
     },
     "execution_count": 11,
     "metadata": {},
     "output_type": "execute_result"
    }
   ],
   "source": [
    "doc_ids = []\n",
    "doc_text = []\n",
    "\n",
    "for filename in Ukraine_filenames:\n",
    "    doc_file = open(Ukraine_path+filename,encoding=\"utf-8\")\n",
    "    doc_lines = doc_file.readlines()\n",
    "    doc_lines = [line.strip() for line in doc_lines]\n",
    "    doc_lines = \"\".join(doc_lines)\n",
    "    doc_file.close()\n",
    "    \n",
    "    doc_id = filename.split(\".\")[0]\n",
    "    \n",
    "    doc_ids.append(doc_id)\n",
    "    doc_text.append(doc_lines)\n",
    "    \n",
    "len(doc_ids)"
   ]
  },
  {
   "cell_type": "code",
   "execution_count": 33,
   "id": "eb56ce5a",
   "metadata": {},
   "outputs": [
    {
     "data": {
      "text/plain": [
       "['Ukraine_3Shape',\n",
       " 'Ukraine_airSlate',\n",
       " 'Ukraine_Apptimized',\n",
       " 'Ukraine_AttoTrading',\n",
       " 'Ukraine_Ciklum',\n",
       " 'Ukraine_Delasport',\n",
       " 'Ukraine_Delasport\\xa0',\n",
       " 'Ukraine_EDB',\n",
       " 'Ukraine_EDB1',\n",
       " 'Ukraine_EJaw',\n",
       " 'Ukraine_EPAMAnywhere',\n",
       " 'Ukraine_FTDsolutions',\n",
       " 'Ukraine_GlobaldevGroup',\n",
       " 'Ukraine_GlobalLogic',\n",
       " 'Ukraine_GunzillaGames',\n",
       " 'Ukraine_IngeniousBuild',\n",
       " 'Ukraine_Intellias',\n",
       " 'Ukraine_JoyrideAutos',\n",
       " 'Ukraine_KevuruGames',\n",
       " 'Ukraine_LoopMe',\n",
       " 'Ukraine_Luxoft',\n",
       " 'Ukraine_MentorMate',\n",
       " 'Ukraine_Newage',\n",
       " 'Ukraine_NiX',\n",
       " 'Ukraine_NiX1',\n",
       " 'Ukraine_NiX3',\n",
       " 'Ukraine_Nortal',\n",
       " 'Ukraine_OnHires',\n",
       " 'Ukraine_Optimove',\n",
       " 'Ukraine_PerceptionBox',\n",
       " 'Ukraine_PerceptionBox1',\n",
       " 'Ukraine_PerfectScale',\n",
       " 'Ukraine_PixelsMatter',\n",
       " 'Ukraine_PlayMeStudio',\n",
       " 'Ukraine_PlayQ',\n",
       " 'Ukraine_Playtika',\n",
       " 'Ukraine_RemotelyTalents',\n",
       " 'Ukraine_RoomGroup',\n",
       " 'Ukraine_ScholarshipOwl',\n",
       " 'Ukraine_SeekingAlpha',\n",
       " 'Ukraine_SigmaSoftwareGroup',\n",
       " 'Ukraine_SIS',\n",
       " 'Ukraine_SIS1',\n",
       " 'Ukraine_SolutionMentors',\n",
       " 'Ukraine_Synergetica',\n",
       " 'Ukraine_Tide',\n",
       " 'Ukraine_Titan',\n",
       " 'Ukraine_TokenMetrics',\n",
       " 'Ukraine_TokenMetrics1',\n",
       " 'Ukraine_TuneIn']"
      ]
     },
     "execution_count": 33,
     "metadata": {},
     "output_type": "execute_result"
    }
   ],
   "source": [
    "doc_ids"
   ]
  },
  {
   "cell_type": "code",
   "execution_count": 34,
   "id": "770509b0",
   "metadata": {},
   "outputs": [
    {
     "data": {
      "text/plain": [
       "'Ukraine\\tTide\\xa0\\tSenior Java Engineer\\t\"As a Senior Java Engineer at Tide you will be working on the designing, creating and running the rich product catalogue in one of our Business areas (e.g. Payments Service, Business Service). We have a long roadmap ahead of us and rarely run out of interesting problems to tackle. To make this a bit more specific you might be looking after some core payments tech like our Core Banking infrastructure for managing our ledger, accounts and cards, nurturing successful integrations with our multiple banking partners to support our global expansion in our new greenfield markets as well as working on more exotic features like our SEPA payments, Open Access/Open Banking, our in-house BNPL for SMEs, Accounting automation and much much more.\"\\t\"Defining, owning and maintaining the services your team owns from our service catalogue that fall in one of our domains (you design it, you build it, you run it, you scale it globally)Working with the product team to select technology partnersWork with backend engineers across multiple agile teams carefully dividing your time between design/refinement, implementation and mentoring other team membersRegularly aligning your team’s vision and roadmap with the target architecture within your domain and to ensure the success of complex multi domain initiativesWorking closely with product owners, mobile & web engineers, data scientist and other business members to translate requirements into well-engineered solutionsMaking key contributions to our Community of Practice. You will apply your extensive experience on our problem domain and existing guidelines to become a true beacon of best practices among your fellow engineers\"\\t\"Have some experience building server-side applications and detailed knowledge of the relevant programming languages for your stack. You don’t need to know Java, but bear in mind that we have 200+ microservice written in Java, so you need to be willing to learn it when you have to change something there! We are not looking for X+ years of experience, but for our more senior roles we tend to work best with people that have tried a couple of things in the industryHave a sound knowledge of a backend framework (e.g. Spring/Spring Boot) that you’ve used to write microservices that expose and consume RESTful APIs (in the world of Open Banking often times they are gonna be public!)Have experience engineering scalable and reliable solutions in a cloud-native environment (the most important thing for us is understanding the fundamentals of CI/CD, practical Agile so to speak)Demonstrate a mindset of delivering secure, well-tested and well-documented software that integrates with various third party providers and partners (we do that a lot in the fintech industry\"'"
      ]
     },
     "execution_count": 34,
     "metadata": {},
     "output_type": "execute_result"
    }
   ],
   "source": [
    "doc_text[45]"
   ]
  },
  {
   "cell_type": "markdown",
   "id": "a476c98e",
   "metadata": {},
   "source": [
    "# 1. Process Tokens"
   ]
  },
  {
   "cell_type": "markdown",
   "id": "5a8ebc75",
   "metadata": {},
   "source": [
    "Steps of processing text into tokens \n",
    "- Step 1 - tokenize\n",
    "- Step 2 - lower case\n",
    "- Step 3 - lemmatize\n",
    "- Step 4 - remove stop words\n",
    "\n",
    "Additional processing steps not required in this task\n",
    "- Step 5 - tagging parts-of-speech\n",
    "- Step 6 - chunking"
   ]
  },
  {
   "cell_type": "markdown",
   "id": "e0e46af1",
   "metadata": {},
   "source": [
    "NLTK references\n",
    "\n",
    "- API - https://www.nltk.org/\n",
    "- Tutorial - https://realpython.com/nltk-nlp-python/"
   ]
  },
  {
   "cell_type": "code",
   "execution_count": 35,
   "id": "390125fd",
   "metadata": {
    "scrolled": true
   },
   "outputs": [
    {
     "ename": "SyntaxError",
     "evalue": "invalid syntax (208563686.py, line 2)",
     "output_type": "error",
     "traceback": [
      "\u001b[1;36m  File \u001b[1;32m\"C:\\Users\\Карина\\AppData\\Local\\Temp\\ipykernel_10620\\208563686.py\"\u001b[1;36m, line \u001b[1;32m2\u001b[0m\n\u001b[1;33m    python -m pip install nltk==3.6\u001b[0m\n\u001b[1;37m              ^\u001b[0m\n\u001b[1;31mSyntaxError\u001b[0m\u001b[1;31m:\u001b[0m invalid syntax\n"
     ]
    }
   ],
   "source": [
    "# install nltk - run in command prompt (PC) or terminal (Mac)\n",
    "python -m pip install nltk==3.6\n",
    "### python -m pip install numpy matplotlib\n",
    "### python -m pip install pytest"
   ]
  },
  {
   "cell_type": "code",
   "execution_count": 36,
   "id": "242c73fe",
   "metadata": {},
   "outputs": [
    {
     "name": "stdout",
     "output_type": "stream",
     "text": [
      "Requirement already satisfied: nltk in c:\\python\\lib\\site-packages (3.8.1)\n",
      "Requirement already satisfied: tqdm in c:\\python\\lib\\site-packages (from nltk) (4.64.1)\n",
      "Requirement already satisfied: joblib in c:\\python\\lib\\site-packages (from nltk) (1.1.0)\n",
      "Requirement already satisfied: click in c:\\python\\lib\\site-packages (from nltk) (8.0.4)\n",
      "Requirement already satisfied: regex>=2021.8.3 in c:\\python\\lib\\site-packages (from nltk) (2022.7.9)\n",
      "Requirement already satisfied: colorama in c:\\python\\lib\\site-packages (from click->nltk) (0.4.5)\n",
      "Note: you may need to restart the kernel to use updated packages.\n"
     ]
    }
   ],
   "source": [
    "pip install -U nltk"
   ]
  },
  {
   "cell_type": "code",
   "execution_count": 37,
   "id": "b7d140ad",
   "metadata": {},
   "outputs": [],
   "source": [
    "import nltk.data"
   ]
  },
  {
   "cell_type": "code",
   "execution_count": 38,
   "id": "e006216c",
   "metadata": {},
   "outputs": [],
   "source": [
    "import nltk"
   ]
  },
  {
   "cell_type": "code",
   "execution_count": 39,
   "id": "bdd1094e",
   "metadata": {},
   "outputs": [
    {
     "name": "stderr",
     "output_type": "stream",
     "text": [
      "[nltk_data] Downloading package punkt to\n",
      "[nltk_data]     C:\\Users\\Карина\\AppData\\Roaming\\nltk_data...\n",
      "[nltk_data]   Package punkt is already up-to-date!\n"
     ]
    },
    {
     "data": {
      "text/plain": [
       "True"
      ]
     },
     "execution_count": 39,
     "metadata": {},
     "output_type": "execute_result"
    }
   ],
   "source": [
    "import nltk\n",
    "nltk.download('punkt')"
   ]
  },
  {
   "cell_type": "markdown",
   "id": "1efd7cb6",
   "metadata": {},
   "source": [
    "### Step 1.1 - tokenize"
   ]
  },
  {
   "cell_type": "code",
   "execution_count": 40,
   "id": "c395f268",
   "metadata": {},
   "outputs": [],
   "source": [
    "from nltk.tokenize import sent_tokenize, word_tokenize\n",
    "import io"
   ]
  },
  {
   "cell_type": "code",
   "execution_count": 41,
   "id": "e6c8c899",
   "metadata": {},
   "outputs": [
    {
     "data": {
      "text/plain": [
       "'Ukraine\\tTide\\xa0\\tSenior Java Engineer\\t\"As a Senior Java Engineer at Tide you will be working on the designing, creating and running the rich product catalogue in one of our Business areas (e.g. Payments Service, Business Service). We have a long roadmap ahead of us and rarely run out of interesting problems to tackle. To make this a bit more specific you might be looking after some core payments tech like our Core Banking infrastructure for managing our ledger, accounts and cards, nurturing successful integrations with our multiple banking partners to support our global expansion in our new greenfield markets as well as working on more exotic features like our SEPA payments, Open Access/Open Banking, our in-house BNPL for SMEs, Accounting automation and much much more.\"\\t\"Defining, owning and maintaining the services your team owns from our service catalogue that fall in one of our domains (you design it, you build it, you run it, you scale it globally)Working with the product team to select technology partnersWork with backend engineers across multiple agile teams carefully dividing your time between design/refinement, implementation and mentoring other team membersRegularly aligning your team’s vision and roadmap with the target architecture within your domain and to ensure the success of complex multi domain initiativesWorking closely with product owners, mobile & web engineers, data scientist and other business members to translate requirements into well-engineered solutionsMaking key contributions to our Community of Practice. You will apply your extensive experience on our problem domain and existing guidelines to become a true beacon of best practices among your fellow engineers\"\\t\"Have some experience building server-side applications and detailed knowledge of the relevant programming languages for your stack. You don’t need to know Java, but bear in mind that we have 200+ microservice written in Java, so you need to be willing to learn it when you have to change something there! We are not looking for X+ years of experience, but for our more senior roles we tend to work best with people that have tried a couple of things in the industryHave a sound knowledge of a backend framework (e.g. Spring/Spring Boot) that you’ve used to write microservices that expose and consume RESTful APIs (in the world of Open Banking often times they are gonna be public!)Have experience engineering scalable and reliable solutions in a cloud-native environment (the most important thing for us is understanding the fundamentals of CI/CD, practical Agile so to speak)Demonstrate a mindset of delivering secure, well-tested and well-documented software that integrates with various third party providers and partners (we do that a lot in the fintech industry\"'"
      ]
     },
     "execution_count": 41,
     "metadata": {},
     "output_type": "execute_result"
    }
   ],
   "source": [
    "doc_text[45]"
   ]
  },
  {
   "cell_type": "code",
   "execution_count": 42,
   "id": "99813821",
   "metadata": {},
   "outputs": [
    {
     "data": {
      "text/plain": [
       "50"
      ]
     },
     "execution_count": 42,
     "metadata": {},
     "output_type": "execute_result"
    }
   ],
   "source": [
    "doc_tokens = []\n",
    "\n",
    "for doc in doc_text:\n",
    "    doc_tokens.append(word_tokenize(doc))\n",
    "    \n",
    "len(doc_tokens)"
   ]
  },
  {
   "cell_type": "code",
   "execution_count": 43,
   "id": "917abed4",
   "metadata": {},
   "outputs": [
    {
     "data": {
      "text/plain": [
       "488"
      ]
     },
     "execution_count": 43,
     "metadata": {},
     "output_type": "execute_result"
    }
   ],
   "source": [
    "len(doc_tokens[45])"
   ]
  },
  {
   "cell_type": "code",
   "execution_count": 44,
   "id": "3ca88a32",
   "metadata": {},
   "outputs": [
    {
     "data": {
      "text/plain": [
       "['Ukraine',\n",
       " 'Tide',\n",
       " 'Senior',\n",
       " 'Java',\n",
       " 'Engineer',\n",
       " \"''\",\n",
       " 'As',\n",
       " 'a',\n",
       " 'Senior',\n",
       " 'Java',\n",
       " 'Engineer',\n",
       " 'at',\n",
       " 'Tide',\n",
       " 'you',\n",
       " 'will',\n",
       " 'be',\n",
       " 'working',\n",
       " 'on',\n",
       " 'the',\n",
       " 'designing']"
      ]
     },
     "execution_count": 44,
     "metadata": {},
     "output_type": "execute_result"
    }
   ],
   "source": [
    "doc_tokens[45][0:20]"
   ]
  },
  {
   "cell_type": "markdown",
   "id": "e2accc16",
   "metadata": {},
   "source": [
    "### Step 1.2 - lower case"
   ]
  },
  {
   "cell_type": "code",
   "execution_count": 45,
   "id": "108e1696",
   "metadata": {},
   "outputs": [],
   "source": [
    "# for every list of tokens in doc_tokens, convert all tokens to lowercase\n",
    "doc_tokens_lower = [[token.casefold() for token in doc] for doc in doc_tokens]"
   ]
  },
  {
   "cell_type": "code",
   "execution_count": 46,
   "id": "c934c364",
   "metadata": {},
   "outputs": [
    {
     "data": {
      "text/plain": [
       "['ukraine',\n",
       " 'tide',\n",
       " 'senior',\n",
       " 'java',\n",
       " 'engineer',\n",
       " \"''\",\n",
       " 'as',\n",
       " 'a',\n",
       " 'senior',\n",
       " 'java',\n",
       " 'engineer',\n",
       " 'at',\n",
       " 'tide',\n",
       " 'you',\n",
       " 'will',\n",
       " 'be',\n",
       " 'working',\n",
       " 'on',\n",
       " 'the',\n",
       " 'designing']"
      ]
     },
     "execution_count": 46,
     "metadata": {},
     "output_type": "execute_result"
    }
   ],
   "source": [
    "doc_tokens_lower[45][0:20]"
   ]
  },
  {
   "cell_type": "markdown",
   "id": "313d68a1",
   "metadata": {},
   "source": [
    "### Step 1.3 - lemmatize tokens"
   ]
  },
  {
   "cell_type": "code",
   "execution_count": 47,
   "id": "20de17a8",
   "metadata": {
    "scrolled": true
   },
   "outputs": [
    {
     "name": "stderr",
     "output_type": "stream",
     "text": [
      "[nltk_data] Downloading package omw-1.4 to\n",
      "[nltk_data]     C:\\Users\\Карина\\AppData\\Roaming\\nltk_data...\n",
      "[nltk_data]   Package omw-1.4 is already up-to-date!\n"
     ]
    },
    {
     "data": {
      "text/plain": [
       "True"
      ]
     },
     "execution_count": 47,
     "metadata": {},
     "output_type": "execute_result"
    }
   ],
   "source": [
    "import nltk\n",
    "from nltk.corpus import wordnet\n",
    "nltk.download('omw-1.4')"
   ]
  },
  {
   "cell_type": "code",
   "execution_count": 48,
   "id": "95e2d66d",
   "metadata": {},
   "outputs": [
    {
     "name": "stderr",
     "output_type": "stream",
     "text": [
      "[nltk_data] Downloading package wordnet to\n",
      "[nltk_data]     C:\\Users\\Карина\\AppData\\Roaming\\nltk_data...\n",
      "[nltk_data]   Package wordnet is already up-to-date!\n"
     ]
    },
    {
     "data": {
      "text/plain": [
       "True"
      ]
     },
     "execution_count": 48,
     "metadata": {},
     "output_type": "execute_result"
    }
   ],
   "source": [
    "import nltk\n",
    "nltk.download('wordnet')"
   ]
  },
  {
   "cell_type": "code",
   "execution_count": 49,
   "id": "6ae6e682",
   "metadata": {},
   "outputs": [],
   "source": [
    "lmtzr = nltk.WordNetLemmatizer()"
   ]
  },
  {
   "cell_type": "code",
   "execution_count": 50,
   "id": "d19b8ea0",
   "metadata": {},
   "outputs": [
    {
     "data": {
      "text/plain": [
       "50"
      ]
     },
     "execution_count": 50,
     "metadata": {},
     "output_type": "execute_result"
    }
   ],
   "source": [
    "# number of documents\n",
    "len(doc_tokens_lower)"
   ]
  },
  {
   "cell_type": "code",
   "execution_count": 51,
   "id": "343af3b5",
   "metadata": {},
   "outputs": [],
   "source": [
    "# for each doc in doc_tokens_no_stopwords, lemmatize all tokens in that doc\n",
    "doc_tokens_lemma = [[lmtzr.lemmatize(token) for token in doc] for doc in doc_tokens_lower]"
   ]
  },
  {
   "cell_type": "code",
   "execution_count": 52,
   "id": "669206e7",
   "metadata": {},
   "outputs": [
    {
     "data": {
      "text/plain": [
       "['ukraine',\n",
       " 'tide',\n",
       " 'senior',\n",
       " 'java',\n",
       " 'engineer',\n",
       " \"''\",\n",
       " 'as',\n",
       " 'a',\n",
       " 'senior',\n",
       " 'java']"
      ]
     },
     "execution_count": 52,
     "metadata": {},
     "output_type": "execute_result"
    }
   ],
   "source": [
    "# first few tokens in first doc, before lemmatizing tokens\n",
    "doc_tokens_lower[45][0:10]"
   ]
  },
  {
   "cell_type": "code",
   "execution_count": 53,
   "id": "b80d98e2",
   "metadata": {},
   "outputs": [
    {
     "data": {
      "text/plain": [
       "['ukrainetitan',\n",
       " 'full',\n",
       " 'stack',\n",
       " 'developer',\n",
       " \"''\",\n",
       " 'we',\n",
       " 'are',\n",
       " 'looking',\n",
       " 'for',\n",
       " 'an']"
      ]
     },
     "execution_count": 53,
     "metadata": {},
     "output_type": "execute_result"
    }
   ],
   "source": [
    "# first few tokens in first doc, after lemmatizing tokens\n",
    "doc_tokens_lemma[46][0:10]"
   ]
  },
  {
   "cell_type": "markdown",
   "id": "92526a51",
   "metadata": {},
   "source": [
    "### Step 1.4 - remove stop words"
   ]
  },
  {
   "cell_type": "code",
   "execution_count": 54,
   "id": "0386d176",
   "metadata": {
    "scrolled": true
   },
   "outputs": [
    {
     "name": "stderr",
     "output_type": "stream",
     "text": [
      "[nltk_data] Downloading package stopwords to\n",
      "[nltk_data]     C:\\Users\\Карина\\AppData\\Roaming\\nltk_data...\n",
      "[nltk_data]   Package stopwords is already up-to-date!\n"
     ]
    }
   ],
   "source": [
    "import nltk\n",
    "nltk.download(\"stopwords\")\n",
    "from nltk.corpus import stopwords\n",
    "from nltk.tokenize import word_tokenize"
   ]
  },
  {
   "cell_type": "code",
   "execution_count": 55,
   "id": "f9aaa10b",
   "metadata": {},
   "outputs": [],
   "source": [
    "stop_words = list(set(stopwords.words(\"english\")))"
   ]
  },
  {
   "cell_type": "code",
   "execution_count": 56,
   "id": "e8382425",
   "metadata": {},
   "outputs": [
    {
     "data": {
      "text/plain": [
       "['ourselves',\n",
       " 'in',\n",
       " 'here',\n",
       " 'couldn',\n",
       " 'these',\n",
       " 'haven',\n",
       " 'too',\n",
       " 'ain',\n",
       " \"needn't\",\n",
       " 'into',\n",
       " 'shan',\n",
       " 'had',\n",
       " 'am',\n",
       " 'because',\n",
       " 'ours',\n",
       " 'more',\n",
       " 'my',\n",
       " 'hasn',\n",
       " 'was',\n",
       " 'didn']"
      ]
     },
     "execution_count": 56,
     "metadata": {},
     "output_type": "execute_result"
    }
   ],
   "source": [
    "stop_words[0:20]"
   ]
  },
  {
   "cell_type": "code",
   "execution_count": 57,
   "id": "303a6b31",
   "metadata": {},
   "outputs": [
    {
     "data": {
      "text/plain": [
       "['``\\n',\n",
       " \"''\\n\",\n",
       " ',\\n',\n",
       " '.\\n',\n",
       " '?\\n',\n",
       " '!\\n',\n",
       " '[\\n',\n",
       " '\\n',\n",
       " \"'\\n\",\n",
       " ':\\n',\n",
       " ';\\n',\n",
       " '-\\n',\n",
       " 'ham\\n',\n",
       " 'v\\n',\n",
       " 'th\\n',\n",
       " 'qu\\n']"
      ]
     },
     "execution_count": 57,
     "metadata": {},
     "output_type": "execute_result"
    }
   ],
   "source": [
    "# append list of stop words\n",
    "filename_extra_stopwords = \"C:/Users/Карина/OneDrive/Рабочий стол/extra stopwords.txt\"\n",
    "file_extra_stopwords = open(filename_extra_stopwords)\n",
    "extra_stopwords = file_extra_stopwords.readlines()\n",
    "file_extra_stopwords.close()\n",
    "extra_stopwords"
   ]
  },
  {
   "cell_type": "code",
   "execution_count": 58,
   "id": "2b665bde",
   "metadata": {},
   "outputs": [
    {
     "data": {
      "text/plain": [
       "['``',\n",
       " \"''\",\n",
       " ',',\n",
       " '.',\n",
       " '?',\n",
       " '!',\n",
       " '[',\n",
       " '',\n",
       " \"'\",\n",
       " ':',\n",
       " ';',\n",
       " '-',\n",
       " 'ham',\n",
       " 'v',\n",
       " 'th',\n",
       " 'qu']"
      ]
     },
     "execution_count": 58,
     "metadata": {},
     "output_type": "execute_result"
    }
   ],
   "source": [
    "extra_stopwords = [word.strip() for word in extra_stopwords]\n",
    "extra_stopwords"
   ]
  },
  {
   "cell_type": "code",
   "execution_count": 59,
   "id": "6c5c8559",
   "metadata": {},
   "outputs": [
    {
     "data": {
      "text/plain": [
       "179"
      ]
     },
     "execution_count": 59,
     "metadata": {},
     "output_type": "execute_result"
    }
   ],
   "source": [
    "len(stop_words)"
   ]
  },
  {
   "cell_type": "code",
   "execution_count": 60,
   "id": "db0a8358",
   "metadata": {},
   "outputs": [
    {
     "data": {
      "text/plain": [
       "195"
      ]
     },
     "execution_count": 60,
     "metadata": {},
     "output_type": "execute_result"
    }
   ],
   "source": [
    "stop_words += extra_stopwords\n",
    "stop_words = list(set(stop_words))\n",
    "len(stop_words)"
   ]
  },
  {
   "cell_type": "code",
   "execution_count": 61,
   "id": "0e24d03e",
   "metadata": {},
   "outputs": [],
   "source": [
    "doc_tokens_processed = []\n",
    "\n",
    "for doc in doc_tokens_lemma:\n",
    "    \n",
    "    temp_token_list = []\n",
    "    \n",
    "    for token in doc:\n",
    "        \n",
    "        if (token not in stop_words) and (len(token) > 1):\n",
    "            \n",
    "            temp_token_list.append(token)\n",
    "    \n",
    "    doc_tokens_processed.append(temp_token_list)"
   ]
  },
  {
   "cell_type": "code",
   "execution_count": 66,
   "id": "bd1ff206",
   "metadata": {},
   "outputs": [
    {
     "data": {
      "text/plain": [
       "50"
      ]
     },
     "execution_count": 66,
     "metadata": {},
     "output_type": "execute_result"
    }
   ],
   "source": [
    "len(doc_tokens_processed)"
   ]
  },
  {
   "cell_type": "code",
   "execution_count": 67,
   "id": "c983097c",
   "metadata": {},
   "outputs": [
    {
     "data": {
      "text/plain": [
       "8"
      ]
     },
     "execution_count": 67,
     "metadata": {},
     "output_type": "execute_result"
    }
   ],
   "source": [
    "len(doc_tokens_lemma[45][10])"
   ]
  },
  {
   "cell_type": "code",
   "execution_count": 68,
   "id": "c204d4a1",
   "metadata": {},
   "outputs": [
    {
     "data": {
      "text/plain": [
       "['ukraine',\n",
       " 'tide',\n",
       " 'senior',\n",
       " 'java',\n",
       " 'engineer',\n",
       " \"''\",\n",
       " 'a',\n",
       " 'a',\n",
       " 'senior',\n",
       " 'java']"
      ]
     },
     "execution_count": 68,
     "metadata": {},
     "output_type": "execute_result"
    }
   ],
   "source": [
    "# first few tokens in first doc, before removing stopwords\n",
    "doc_tokens_lemma[45][0:10]"
   ]
  },
  {
   "cell_type": "code",
   "execution_count": 69,
   "id": "903f6a86",
   "metadata": {},
   "outputs": [
    {
     "data": {
      "text/plain": [
       "['ukraine',\n",
       " 'tide',\n",
       " 'senior',\n",
       " 'java',\n",
       " 'engineer',\n",
       " 'senior',\n",
       " 'java',\n",
       " 'engineer',\n",
       " 'tide',\n",
       " 'working']"
      ]
     },
     "execution_count": 69,
     "metadata": {},
     "output_type": "execute_result"
    }
   ],
   "source": [
    "# first few tokens in first doc, after removing stopwords\n",
    "doc_tokens_processed[45][0:10]"
   ]
  },
  {
   "cell_type": "code",
   "execution_count": 70,
   "id": "552daaa1",
   "metadata": {},
   "outputs": [
    {
     "data": {
      "text/plain": [
       "488"
      ]
     },
     "execution_count": 70,
     "metadata": {},
     "output_type": "execute_result"
    }
   ],
   "source": [
    "# number of tokens in first doc, before removing stopwords\n",
    "len(doc_tokens_lemma[45])"
   ]
  },
  {
   "cell_type": "code",
   "execution_count": 71,
   "id": "2d1a7ba9",
   "metadata": {},
   "outputs": [
    {
     "data": {
      "text/plain": [
       "251"
      ]
     },
     "execution_count": 71,
     "metadata": {},
     "output_type": "execute_result"
    }
   ],
   "source": [
    "# number of tokens in first doc, after removing stopwords\n",
    "len(doc_tokens_processed[45])"
   ]
  },
  {
   "cell_type": "code",
   "execution_count": 72,
   "id": "b864f916",
   "metadata": {
    "scrolled": false
   },
   "outputs": [
    {
     "data": {
      "text/plain": [
       "['ukraine',\n",
       " 'tide',\n",
       " 'senior',\n",
       " 'java',\n",
       " 'engineer',\n",
       " 'senior',\n",
       " 'java',\n",
       " 'engineer',\n",
       " 'tide',\n",
       " 'working',\n",
       " 'designing',\n",
       " 'creating',\n",
       " 'running',\n",
       " 'rich',\n",
       " 'product',\n",
       " 'catalogue',\n",
       " 'one',\n",
       " 'business',\n",
       " 'area',\n",
       " 'e.g',\n",
       " 'payment',\n",
       " 'service',\n",
       " 'business',\n",
       " 'service',\n",
       " 'long',\n",
       " 'roadmap',\n",
       " 'ahead',\n",
       " 'rarely',\n",
       " 'run',\n",
       " 'interesting',\n",
       " 'problem',\n",
       " 'tackle',\n",
       " 'make',\n",
       " 'bit',\n",
       " 'specific',\n",
       " 'might',\n",
       " 'looking',\n",
       " 'core',\n",
       " 'payment',\n",
       " 'tech',\n",
       " 'like',\n",
       " 'core',\n",
       " 'banking',\n",
       " 'infrastructure',\n",
       " 'managing',\n",
       " 'ledger',\n",
       " 'account',\n",
       " 'card',\n",
       " 'nurturing',\n",
       " 'successful',\n",
       " 'integration',\n",
       " 'multiple',\n",
       " 'banking',\n",
       " 'partner',\n",
       " 'support',\n",
       " 'global',\n",
       " 'expansion',\n",
       " 'new',\n",
       " 'greenfield',\n",
       " 'market',\n",
       " 'well',\n",
       " 'working',\n",
       " 'exotic',\n",
       " 'feature',\n",
       " 'like',\n",
       " 'sepa',\n",
       " 'payment',\n",
       " 'open',\n",
       " 'access/open',\n",
       " 'banking',\n",
       " 'in-house',\n",
       " 'bnpl',\n",
       " 'smes',\n",
       " 'accounting',\n",
       " 'automation',\n",
       " 'much',\n",
       " 'much',\n",
       " 'defining',\n",
       " 'owning',\n",
       " 'maintaining',\n",
       " 'service',\n",
       " 'team',\n",
       " 'owns',\n",
       " 'service',\n",
       " 'catalogue',\n",
       " 'fall',\n",
       " 'one',\n",
       " 'domain',\n",
       " 'design',\n",
       " 'build',\n",
       " 'run',\n",
       " 'scale',\n",
       " 'globally',\n",
       " 'working',\n",
       " 'product',\n",
       " 'team',\n",
       " 'select',\n",
       " 'technology',\n",
       " 'partnerswork',\n",
       " 'backend',\n",
       " 'engineer',\n",
       " 'across',\n",
       " 'multiple',\n",
       " 'agile',\n",
       " 'team',\n",
       " 'carefully',\n",
       " 'dividing',\n",
       " 'time',\n",
       " 'design/refinement',\n",
       " 'implementation',\n",
       " 'mentoring',\n",
       " 'team',\n",
       " 'membersregularly',\n",
       " 'aligning',\n",
       " 'team',\n",
       " 'vision',\n",
       " 'roadmap',\n",
       " 'target',\n",
       " 'architecture',\n",
       " 'within',\n",
       " 'domain',\n",
       " 'ensure',\n",
       " 'success',\n",
       " 'complex',\n",
       " 'multi',\n",
       " 'domain',\n",
       " 'initiativesworking',\n",
       " 'closely',\n",
       " 'product',\n",
       " 'owner',\n",
       " 'mobile',\n",
       " 'web',\n",
       " 'engineer',\n",
       " 'data',\n",
       " 'scientist',\n",
       " 'business',\n",
       " 'member',\n",
       " 'translate',\n",
       " 'requirement',\n",
       " 'well-engineered',\n",
       " 'solutionsmaking',\n",
       " 'key',\n",
       " 'contribution',\n",
       " 'community',\n",
       " 'practice',\n",
       " 'apply',\n",
       " 'extensive',\n",
       " 'experience',\n",
       " 'problem',\n",
       " 'domain',\n",
       " 'existing',\n",
       " 'guideline',\n",
       " 'become',\n",
       " 'true',\n",
       " 'beacon',\n",
       " 'best',\n",
       " 'practice',\n",
       " 'among',\n",
       " 'fellow',\n",
       " 'engineer',\n",
       " 'experience',\n",
       " 'building',\n",
       " 'server-side',\n",
       " 'application',\n",
       " 'detailed',\n",
       " 'knowledge',\n",
       " 'relevant',\n",
       " 'programming',\n",
       " 'language',\n",
       " 'stack',\n",
       " 'need',\n",
       " 'know',\n",
       " 'java',\n",
       " 'bear',\n",
       " 'mind',\n",
       " '200+',\n",
       " 'microservice',\n",
       " 'written',\n",
       " 'java',\n",
       " 'need',\n",
       " 'willing',\n",
       " 'learn',\n",
       " 'change',\n",
       " 'something',\n",
       " 'looking',\n",
       " 'x+',\n",
       " 'year',\n",
       " 'experience',\n",
       " 'senior',\n",
       " 'role',\n",
       " 'tend',\n",
       " 'work',\n",
       " 'best',\n",
       " 'people',\n",
       " 'tried',\n",
       " 'couple',\n",
       " 'thing',\n",
       " 'industryhave',\n",
       " 'sound',\n",
       " 'knowledge',\n",
       " 'backend',\n",
       " 'framework',\n",
       " 'e.g',\n",
       " 'spring/spring',\n",
       " 'boot',\n",
       " 'used',\n",
       " 'write',\n",
       " 'microservices',\n",
       " 'expose',\n",
       " 'consume',\n",
       " 'restful',\n",
       " 'apis',\n",
       " 'world',\n",
       " 'open',\n",
       " 'banking',\n",
       " 'often',\n",
       " 'time',\n",
       " 'gon',\n",
       " 'na',\n",
       " 'public',\n",
       " 'experience',\n",
       " 'engineering',\n",
       " 'scalable',\n",
       " 'reliable',\n",
       " 'solution',\n",
       " 'cloud-native',\n",
       " 'environment',\n",
       " 'important',\n",
       " 'thing',\n",
       " 'understanding',\n",
       " 'fundamental',\n",
       " 'ci/cd',\n",
       " 'practical',\n",
       " 'agile',\n",
       " 'speak',\n",
       " 'demonstrate',\n",
       " 'mindset',\n",
       " 'delivering',\n",
       " 'secure',\n",
       " 'well-tested',\n",
       " 'well-documented',\n",
       " 'software',\n",
       " 'integrates',\n",
       " 'various',\n",
       " 'third',\n",
       " 'party',\n",
       " 'provider',\n",
       " 'partner',\n",
       " 'lot',\n",
       " 'fintech',\n",
       " 'industry']"
      ]
     },
     "execution_count": 72,
     "metadata": {},
     "output_type": "execute_result"
    }
   ],
   "source": [
    "doc_tokens_processed[45]"
   ]
  },
  {
   "cell_type": "code",
   "execution_count": 73,
   "id": "9e2740af",
   "metadata": {},
   "outputs": [],
   "source": [
    "# add stopwords to \"extra stopwords.txt\" and run Step 2.4 again"
   ]
  },
  {
   "cell_type": "code",
   "execution_count": 74,
   "id": "5f1c8e76",
   "metadata": {},
   "outputs": [],
   "source": [
    "import pickle"
   ]
  },
  {
   "cell_type": "code",
   "execution_count": 75,
   "id": "ef460ed6",
   "metadata": {},
   "outputs": [],
   "source": [
    "# pickle doc_tokens_processed\n",
    "fileout = open(\"doc_tokens_processed.pkl\",'wb')\n",
    "stuff_to_pickle = [doc_ids,doc_text,doc_tokens_processed]\n",
    "pickle.dump(stuff_to_pickle,fileout)"
   ]
  },
  {
   "cell_type": "code",
   "execution_count": null,
   "id": "342be2f5",
   "metadata": {},
   "outputs": [],
   "source": []
  },
  {
   "cell_type": "markdown",
   "id": "0b843121",
   "metadata": {},
   "source": [
    "# 2. Keyword Analysis"
   ]
  },
  {
   "cell_type": "code",
   "execution_count": null,
   "id": "0a3bbe41",
   "metadata": {},
   "outputs": [],
   "source": []
  },
  {
   "cell_type": "code",
   "execution_count": null,
   "id": "edef4e08",
   "metadata": {},
   "outputs": [],
   "source": []
  },
  {
   "cell_type": "markdown",
   "id": "9b9f2b25",
   "metadata": {},
   "source": [
    "# 3. Latent Topic Analysis"
   ]
  },
  {
   "cell_type": "code",
   "execution_count": null,
   "id": "dec10bc6",
   "metadata": {},
   "outputs": [],
   "source": []
  },
  {
   "cell_type": "code",
   "execution_count": null,
   "id": "a96c6465",
   "metadata": {},
   "outputs": [],
   "source": []
  }
 ],
 "metadata": {
  "kernelspec": {
   "display_name": "Python 3 (ipykernel)",
   "language": "python",
   "name": "python3"
  },
  "language_info": {
   "codemirror_mode": {
    "name": "ipython",
    "version": 3
   },
   "file_extension": ".py",
   "mimetype": "text/x-python",
   "name": "python",
   "nbconvert_exporter": "python",
   "pygments_lexer": "ipython3",
   "version": "3.9.13"
  }
 },
 "nbformat": 4,
 "nbformat_minor": 5
}
